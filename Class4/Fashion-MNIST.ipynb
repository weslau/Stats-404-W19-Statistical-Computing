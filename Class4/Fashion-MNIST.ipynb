{
 "cells": [
  {
   "cell_type": "markdown",
   "metadata": {
    "slideshow": {
     "slide_type": "slide"
    }
   },
   "source": [
    "# Iterative Model Development Steps with Application to Fashion-MNIST Dataset\n",
    "- Steps are outlined in https://goo.gl/A7P4vX\n",
    "- Link to Fashion-MNIST [dataset](https://github.com/zalandoresearch/fashion-mnist)"
   ]
  },
  {
   "cell_type": "markdown",
   "metadata": {
    "slideshow": {
     "slide_type": "slide"
    }
   },
   "source": [
    "## Step 1: Understand Different Modeling Approaches\n",
    "- Model development is an art and science -- you may have done these steps differently. \n",
    "- Please let us know what you would have done!"
   ]
  },
  {
   "cell_type": "code",
   "execution_count": 1,
   "metadata": {
    "slideshow": {
     "slide_type": "fragment"
    }
   },
   "outputs": [],
   "source": [
    "from collections import Counter\n",
    "import inspect\n",
    "from joblib import dump, load\n",
    "import matplotlib.pyplot as plt\n",
    "import numpy as np\n",
    "import pandas as pd\n",
    "import random\n",
    "from sklearn.model_selection import GridSearchCV, train_test_split\n",
    "from sklearn.ensemble import RandomForestClassifier\n",
    "from sklearn.metrics import accuracy_score, confusion_matrix, f1_score, \\\n",
    "                            mean_squared_error, roc_auc_score\n",
    "import os"
   ]
  },
  {
   "cell_type": "code",
   "execution_count": 2,
   "metadata": {},
   "outputs": [],
   "source": [
    "np.random.seed(2000)"
   ]
  },
  {
   "cell_type": "markdown",
   "metadata": {
    "slideshow": {
     "slide_type": "slide"
    }
   },
   "source": [
    "## Step 2: Understand Business Use Case\n",
    "Proposed use case -- there may be (many) others:\n",
    "- Client: Online marketplace for buyers and sellers of retail goods\n",
    "- Statement of Problem: Marketplace allows sellers to upload goods and requires an item's description, that's indexed by the platform's search engine. \n",
    "- Question: Can we improve search results by automatically tagging an item's category for the seller (and surfacing that tag to the platform's search engine)? "
   ]
  },
  {
   "cell_type": "markdown",
   "metadata": {
    "slideshow": {
     "slide_type": "fragment"
    }
   },
   "source": [
    "What approach would you recommend?"
   ]
  },
  {
   "cell_type": "markdown",
   "metadata": {
    "slideshow": {
     "slide_type": "subslide"
    }
   },
   "source": [
    "**Approach 1 (v0, today)**: Aim to derive tags based on item's image."
   ]
  },
  {
   "cell_type": "markdown",
   "metadata": {
    "slideshow": {
     "slide_type": "fragment"
    }
   },
   "source": [
    "**Approach 2 (outside scope of class)**: Aim to derive tags based on item's description."
   ]
  },
  {
   "cell_type": "markdown",
   "metadata": {
    "slideshow": {
     "slide_type": "fragment"
    }
   },
   "source": [
    "**Approach 3 (outside scope of class)**: Aim to derive tags based on ensemble of item's image and description."
   ]
  },
  {
   "cell_type": "markdown",
   "metadata": {
    "slideshow": {
     "slide_type": "slide"
    }
   },
   "source": [
    "## Step 3: Get Access to Data"
   ]
  },
  {
   "cell_type": "markdown",
   "metadata": {},
   "source": [
    "### Step 3-a: Access Helper Function to Read-in Data\n",
    "To access the data set, we'll be following instructions under `Loading data with Python` section, outlined below:"
   ]
  },
  {
   "cell_type": "code",
   "execution_count": 3,
   "metadata": {},
   "outputs": [
    {
     "data": {
      "text/plain": [
       "'/Users/irina/Documents/Stats_404_W19/Stats-404-W19-repo/Class4'"
      ]
     },
     "execution_count": 3,
     "metadata": {},
     "output_type": "execute_result"
    }
   ],
   "source": [
    "# Save location of notebook:\n",
    "notebook_dir = os.getcwd()\n",
    "notebook_dir"
   ]
  },
  {
   "cell_type": "markdown",
   "metadata": {
    "slideshow": {
     "slide_type": "subslide"
    }
   },
   "source": [
    "**Step 1**: Clone Fashion-MNIST repo: https://github.com/zalandoresearch/fashion-mnist.git located [here](https://github.com/zalandoresearch/fashion-mnist)\n",
    "\n",
    "**Step 2**: Specify path to this direcotry on your local machine:"
   ]
  },
  {
   "cell_type": "code",
   "execution_count": 4,
   "metadata": {},
   "outputs": [],
   "source": [
    "# Path to repository on my machine:\n",
    "fashion_mnist_dir = \"/Users/irina/Documents/Stats-Related/Fashion-MNIST-repo\""
   ]
  },
  {
   "cell_type": "markdown",
   "metadata": {},
   "source": [
    "**Step 3**: Change directories to the repository on your local machine:"
   ]
  },
  {
   "cell_type": "code",
   "execution_count": 5,
   "metadata": {},
   "outputs": [],
   "source": [
    "os.chdir(fashion_mnist_dir)"
   ]
  },
  {
   "cell_type": "markdown",
   "metadata": {},
   "source": [
    "**Step 4**: Import the helper function to read-in the data"
   ]
  },
  {
   "cell_type": "code",
   "execution_count": 6,
   "metadata": {},
   "outputs": [],
   "source": [
    "from utils import mnist_reader"
   ]
  },
  {
   "cell_type": "markdown",
   "metadata": {
    "slideshow": {
     "slide_type": "subslide"
    }
   },
   "source": [
    "### Step 3-b: Read-in Data\n",
    "Read-in the data using the helper function of data set's repository."
   ]
  },
  {
   "cell_type": "code",
   "execution_count": 7,
   "metadata": {},
   "outputs": [],
   "source": [
    "X_train, y_train = mnist_reader.load_mnist('data/fashion', kind='train')\n",
    "X_test, y_test = mnist_reader.load_mnist('data/fashion', kind='t10k')"
   ]
  },
  {
   "cell_type": "code",
   "execution_count": 8,
   "metadata": {
    "slideshow": {
     "slide_type": "subslide"
    }
   },
   "outputs": [
    {
     "data": {
      "text/plain": [
       "(60000, 784)"
      ]
     },
     "execution_count": 8,
     "metadata": {},
     "output_type": "execute_result"
    }
   ],
   "source": [
    "X_train.shape"
   ]
  },
  {
   "cell_type": "code",
   "execution_count": 9,
   "metadata": {
    "slideshow": {
     "slide_type": "fragment"
    }
   },
   "outputs": [
    {
     "data": {
      "text/plain": [
       "(10000, 784)"
      ]
     },
     "execution_count": 9,
     "metadata": {},
     "output_type": "execute_result"
    }
   ],
   "source": [
    "X_test.shape"
   ]
  },
  {
   "cell_type": "code",
   "execution_count": 10,
   "metadata": {
    "slideshow": {
     "slide_type": "fragment"
    }
   },
   "outputs": [
    {
     "data": {
      "text/plain": [
       "Counter({9: 6000,\n",
       "         0: 6000,\n",
       "         3: 6000,\n",
       "         2: 6000,\n",
       "         7: 6000,\n",
       "         5: 6000,\n",
       "         1: 6000,\n",
       "         6: 6000,\n",
       "         4: 6000,\n",
       "         8: 6000})"
      ]
     },
     "execution_count": 10,
     "metadata": {},
     "output_type": "execute_result"
    }
   ],
   "source": [
    "Counter(y_train)"
   ]
  },
  {
   "cell_type": "code",
   "execution_count": 11,
   "metadata": {
    "slideshow": {
     "slide_type": "subslide"
    }
   },
   "outputs": [],
   "source": [
    "# Create dictionary of outcome variable labels, per repository:\n",
    "label_dict = {\n",
    "    0: \"T-shirt/top\",\n",
    "    1: \"Trouser\",\n",
    "    2: \"Pullover\",\n",
    "    3: \"Dress\",\n",
    "    4: \"Coat\",\n",
    "    5: \"Sandal\",\n",
    "    6: \"Shirt\",\n",
    "    7: \"Sneaker\",\n",
    "    8: \"Bag\",\n",
    "    9: \"Ankle boot\"\n",
    "}"
   ]
  },
  {
   "cell_type": "markdown",
   "metadata": {
    "slideshow": {
     "slide_type": "subslide"
    }
   },
   "source": [
    "### Step 3-c: EDA of Data"
   ]
  },
  {
   "cell_type": "code",
   "execution_count": 12,
   "metadata": {},
   "outputs": [],
   "source": [
    "def visualize_image(dataset_x, dataset_y, img_index, y_labels=label_dict):\n",
    "    \"\"\"Helper function to visualize image and associated label, for\n",
    "       specified image in index.\n",
    "       ---\n",
    "       Note: Assume image size is 28 x 28.\n",
    "    \"\"\"\n",
    "    plt.imshow(dataset_x[img_index].reshape(28, 28),\n",
    "               cmap='Greys')\n",
    "    print(y_labels[dataset_y[img_index]])"
   ]
  },
  {
   "cell_type": "code",
   "execution_count": 13,
   "metadata": {
    "slideshow": {
     "slide_type": "subslide"
    }
   },
   "outputs": [
    {
     "name": "stdout",
     "output_type": "stream",
     "text": [
      "Ankle boot\n"
     ]
    },
    {
     "data": {
      "image/png": "[encoded data removed]",
      "text/plain": [
       "<Figure size 432x288 with 1 Axes>"
      ]
     },
     "metadata": {
      "needs_background": "light"
     },
     "output_type": "display_data"
    }
   ],
   "source": [
    "visualize_image(X_train, y_train, 0)"
   ]
  },
  {
   "cell_type": "code",
   "execution_count": 14,
   "metadata": {
    "slideshow": {
     "slide_type": "subslide"
    }
   },
   "outputs": [
    {
     "name": "stdout",
     "output_type": "stream",
     "text": [
      "T-shirt/top\n"
     ]
    },
    {
     "data": {
      "image/png": "[encoded data removed]",
      "text/plain": [
       "<Figure size 432x288 with 1 Axes>"
      ]
     },
     "metadata": {
      "needs_background": "light"
     },
     "output_type": "display_data"
    }
   ],
   "source": [
    "visualize_image(X_train, y_train, 10)"
   ]
  },
  {
   "cell_type": "markdown",
   "metadata": {
    "slideshow": {
     "slide_type": "slide"
    }
   },
   "source": [
    "## Step 4: Determine Data Splits\n",
    "What are some data splits that you would propose?"
   ]
  },
  {
   "cell_type": "code",
   "execution_count": 15,
   "metadata": {},
   "outputs": [
    {
     "data": {
      "text/plain": [
       "Index([        0,         1,         2,         3,         4,         5,\n",
       "               6,         7,         8,         9,\n",
       "       ...\n",
       "             775,       776,       777,       778,       779,       780,\n",
       "             781,       782,       783, 'outcome'],\n",
       "      dtype='object', length=785)"
      ]
     },
     "execution_count": 15,
     "metadata": {},
     "output_type": "execute_result"
    }
   ],
   "source": [
    "# Add outcome column to data set of features, to be able to split dataset\n",
    "# into training and validation, statifying by outcome variable:\n",
    "df_tmp = pd.concat([pd.DataFrame(X_train),\n",
    "                    pd.DataFrame(y_train, columns=[\"outcome\"])], axis=1)\n",
    "df_tmp.columns"
   ]
  },
  {
   "cell_type": "code",
   "execution_count": 16,
   "metadata": {
    "slideshow": {
     "slide_type": "subslide"
    }
   },
   "outputs": [],
   "source": [
    "df_train, df_valid = train_test_split(df_tmp,\n",
    "                                      test_size=0.25,\n",
    "                                      random_state=2019,\n",
    "                                      stratify=df_tmp['outcome'])"
   ]
  },
  {
   "cell_type": "code",
   "execution_count": 17,
   "metadata": {
    "slideshow": {
     "slide_type": "subslide"
    }
   },
   "outputs": [
    {
     "data": {
      "text/plain": [
       "0    4500\n",
       "1    4500\n",
       "2    4500\n",
       "3    4500\n",
       "4    4500\n",
       "5    4500\n",
       "6    4500\n",
       "7    4500\n",
       "8    4500\n",
       "9    4500\n",
       "Name: outcome, dtype: int64"
      ]
     },
     "execution_count": 17,
     "metadata": {},
     "output_type": "execute_result"
    }
   ],
   "source": [
    "df_train['outcome'].value_counts(sort=False)"
   ]
  },
  {
   "cell_type": "code",
   "execution_count": 18,
   "metadata": {
    "slideshow": {
     "slide_type": "subslide"
    }
   },
   "outputs": [
    {
     "data": {
      "text/plain": [
       "0    1500\n",
       "8    1500\n",
       "1    1500\n",
       "9    1500\n",
       "2    1500\n",
       "3    1500\n",
       "4    1500\n",
       "5    1500\n",
       "6    1500\n",
       "7    1500\n",
       "Name: outcome, dtype: int64"
      ]
     },
     "execution_count": 18,
     "metadata": {},
     "output_type": "execute_result"
    }
   ],
   "source": [
    "df_valid['outcome'].value_counts(sort=False)"
   ]
  },
  {
   "cell_type": "code",
   "execution_count": 19,
   "metadata": {
    "slideshow": {
     "slide_type": "subslide"
    }
   },
   "outputs": [
    {
     "data": {
      "text/plain": [
       "Counter({9: 1000,\n",
       "         2: 1000,\n",
       "         1: 1000,\n",
       "         6: 1000,\n",
       "         4: 1000,\n",
       "         5: 1000,\n",
       "         7: 1000,\n",
       "         3: 1000,\n",
       "         8: 1000,\n",
       "         0: 1000})"
      ]
     },
     "execution_count": 19,
     "metadata": {},
     "output_type": "execute_result"
    }
   ],
   "source": [
    "Counter(y_test)"
   ]
  },
  {
   "cell_type": "markdown",
   "metadata": {
    "slideshow": {
     "slide_type": "slide"
    }
   },
   "source": [
    "## Step 5: Feature Engineering"
   ]
  },
  {
   "cell_type": "markdown",
   "metadata": {},
   "source": [
    "Baseline model (v0) will use raw images as features."
   ]
  },
  {
   "cell_type": "markdown",
   "metadata": {
    "slideshow": {
     "slide_type": "fragment"
    }
   },
   "source": [
    "Using this assumptions, how many features are there per image?"
   ]
  },
  {
   "cell_type": "markdown",
   "metadata": {
    "slideshow": {
     "slide_type": "slide"
    }
   },
   "source": [
    "## Step 6: Estimate a Baseline Model (v0)"
   ]
  },
  {
   "cell_type": "code",
   "execution_count": 20,
   "metadata": {},
   "outputs": [],
   "source": [
    "y = df_train['outcome']\n",
    "X = df_train.drop(columns=['outcome'])"
   ]
  },
  {
   "cell_type": "code",
   "execution_count": 21,
   "metadata": {},
   "outputs": [
    {
     "data": {
      "text/plain": [
       "(45000, 784)"
      ]
     },
     "execution_count": 21,
     "metadata": {},
     "output_type": "execute_result"
    }
   ],
   "source": [
    "X.shape"
   ]
  },
  {
   "cell_type": "code",
   "execution_count": 22,
   "metadata": {
    "slideshow": {
     "slide_type": "subslide"
    }
   },
   "outputs": [
    {
     "data": {
      "text/plain": [
       "<Signature (n_estimators='warn', criterion='gini', max_depth=None, min_samples_split=2, min_samples_leaf=1, min_weight_fraction_leaf=0.0, max_features='auto', max_leaf_nodes=None, min_impurity_decrease=0.0, min_impurity_split=None, bootstrap=True, oob_score=False, n_jobs=None, random_state=None, verbose=0, warm_start=False, class_weight=None)>"
      ]
     },
     "execution_count": 22,
     "metadata": {},
     "output_type": "execute_result"
    }
   ],
   "source": [
    "inspect.signature(RandomForestClassifier)"
   ]
  },
  {
   "cell_type": "code",
   "execution_count": 23,
   "metadata": {
    "slideshow": {
     "slide_type": "fragment"
    }
   },
   "outputs": [],
   "source": [
    "### --- Step 1: Specify different number of trees in forest, to determine\n",
    "###             how many to use based on leveling-off of OOB error:\n",
    "n_trees = [50, 100, 250, 500, 1000, 1500, 2500]"
   ]
  },
  {
   "cell_type": "code",
   "execution_count": 24,
   "metadata": {
    "slideshow": {
     "slide_type": "fragment"
    }
   },
   "outputs": [],
   "source": [
    "### --- Step 2: Create dictionary to save-off each estimated RF model:\n",
    "rf_dict = dict.fromkeys(n_trees)"
   ]
  },
  {
   "cell_type": "code",
   "execution_count": 25,
   "metadata": {
    "slideshow": {
     "slide_type": "subslide"
    }
   },
   "outputs": [],
   "source": [
    "for num in n_trees:\n",
    "    print(num)\n",
    "    ### --- Step 3: Specify RF model to estimate:\n",
    "    rf = RandomForestClassifier(n_estimators=num,\n",
    "                                min_samples_leaf=30,\n",
    "                                oob_score=True,\n",
    "                                random_state=2019,\n",
    "                                class_weight='balanced',\n",
    "                                verbose=1)\n",
    "    ### --- Step 4: Estimate RF model and save estimated model:\n",
    "    rf.fit(X, y)\n",
    "    rf_dict[num] = rf"
   ]
  },
  {
   "cell_type": "markdown",
   "metadata": {},
   "source": [
    "*Note:* We could have used [`GridSearchCV`](https://scikit-learn.org/stable/modules/generated/sklearn.model_selection.GridSearchCV.html#sklearn.model_selection.GridSearchCV) to perform the optimization, but `GridSearchCV` performs 2+ Fold Cross-Validation that's repeated 3 times."
   ]
  },
  {
   "cell_type": "code",
   "execution_count": 26,
   "metadata": {
    "slideshow": {
     "slide_type": "subslide"
    }
   },
   "outputs": [],
   "source": [
    "### --- Save-off model:\n",
    "# Specify location and name of object to contain estimated model:\n",
    "model_object_path = os.path.join(notebook_dir, 'rf.joblib')\n",
    "# Save estimated model to specified location:\n",
    "dump(rf_dict, model_object_path) \n",
    "\n",
    "# Load model:\n",
    "# rf_dict = load(model_object_path) "
   ]
  },
  {
   "cell_type": "code",
   "execution_count": 27,
   "metadata": {
    "slideshow": {
     "slide_type": "subslide"
    }
   },
   "outputs": [
    {
     "data": {
      "image/png": "[encoded data removed]",
      "text/plain": [
       "<Figure size 432x288 with 1 Axes>"
      ]
     },
     "metadata": {
      "needs_background": "light"
     },
     "output_type": "display_data"
    }
   ],
   "source": [
    "# Compute OOB error per\n",
    "# https://scikit-learn.org/stable/auto_examples/ensemble/plot_ensemble_oob.html\n",
    "oob_error_list = [None] * len(n_trees)\n",
    "\n",
    "# Find OOB error for each forest size:\n",
    "for i in range(len(n_trees)):\n",
    "    oob_error_list[i] = 1 - rf_dict[n_trees[i]].oob_score_\n",
    "else:\n",
    "    # Visulaize result:\n",
    "    plt.plot(n_trees, oob_error_list, 'bo',\n",
    "             n_trees, oob_error_list, 'k')"
   ]
  },
  {
   "cell_type": "markdown",
   "metadata": {},
   "source": [
    "How many trees are enough for our forest?"
   ]
  },
  {
   "cell_type": "markdown",
   "metadata": {
    "slideshow": {
     "slide_type": "slide"
    }
   },
   "source": [
    "# Step 7: Interpret Results"
   ]
  },
  {
   "cell_type": "code",
   "execution_count": 28,
   "metadata": {},
   "outputs": [],
   "source": [
    "# Feature importance plot, modified from: \n",
    "# https://scikit-learn.org/stable/auto_examples/ensemble/plot_forest_importances.html\n",
    "top_num = 20\n",
    "forest = rf_dict[500]\n",
    "importances = forest.feature_importances_\n",
    "\n",
    "# Sort in decreasing order:\n",
    "indices = np.argsort(importances)[::-1]"
   ]
  },
  {
   "cell_type": "code",
   "execution_count": 29,
   "metadata": {
    "slideshow": {
     "slide_type": "subslide"
    }
   },
   "outputs": [
    {
     "data": {
      "image/png": "[encoded data removed]",
      "text/plain": [
       "<Figure size 432x288 with 1 Axes>"
      ]
     },
     "metadata": {
      "needs_background": "light"
     },
     "output_type": "display_data"
    }
   ],
   "source": [
    "# Plot the feature importances of the forest\n",
    "ax = plt.gca()\n",
    "plt.title(f\"Top {top_num} feature importances\")\n",
    "plt.bar(range(top_num), importances[indices[0:top_num]])\n",
    "plt.xticks(range(top_num))\n",
    "ax.set_xticklabels(indices[0:top_num], rotation = 90)\n",
    "ax.set_xlabel(\"Pixel position in image\")\n",
    "ax.set_ylabel(\"Feature Importance\")\n",
    "plt.show()"
   ]
  },
  {
   "cell_type": "markdown",
   "metadata": {},
   "source": [
    "How can you decided how many top X features are important?"
   ]
  },
  {
   "cell_type": "markdown",
   "metadata": {
    "slideshow": {
     "slide_type": "slide"
    }
   },
   "source": [
    "## Step 8: Evaluate Performance"
   ]
  },
  {
   "cell_type": "markdown",
   "metadata": {},
   "source": [
    "### Step 8a: Evaluate Performance on In-Sample Data\n",
    "Evaluate performance on in-sample data, to see wat the \"best-possible\" performance is, on data that the model's seen.\n"
   ]
  },
  {
   "cell_type": "code",
   "execution_count": 30,
   "metadata": {},
   "outputs": [
    {
     "name": "stderr",
     "output_type": "stream",
     "text": [
      "[Parallel(n_jobs=1)]: Using backend SequentialBackend with 1 concurrent workers.\n",
      "[Parallel(n_jobs=1)]: Done 500 out of 500 | elapsed:    6.7s finished\n"
     ]
    },
    {
     "data": {
      "text/plain": [
       "array([2, 1, 0, 4, 3], dtype=uint8)"
      ]
     },
     "execution_count": 30,
     "metadata": {},
     "output_type": "execute_result"
    }
   ],
   "source": [
    "y_pred_train = forest.predict(X)\n",
    "y_pred_train[0:5]"
   ]
  },
  {
   "cell_type": "code",
   "execution_count": 31,
   "metadata": {
    "slideshow": {
     "slide_type": "subslide"
    }
   },
   "outputs": [
    {
     "name": "stderr",
     "output_type": "stream",
     "text": [
      "[Parallel(n_jobs=1)]: Using backend SequentialBackend with 1 concurrent workers.\n",
      "[Parallel(n_jobs=1)]: Done 500 out of 500 | elapsed:    6.3s finished\n"
     ]
    },
    {
     "data": {
      "text/html": [
       "<div>\n",
       "<style scoped>\n",
       "    .dataframe tbody tr th:only-of-type {\n",
       "        vertical-align: middle;\n",
       "    }\n",
       "\n",
       "    .dataframe tbody tr th {\n",
       "        vertical-align: top;\n",
       "    }\n",
       "\n",
       "    .dataframe thead th {\n",
       "        text-align: right;\n",
       "    }\n",
       "</style>\n",
       "<table border=\"1\" class=\"dataframe\">\n",
       "  <thead>\n",
       "    <tr style=\"text-align: right;\">\n",
       "      <th></th>\n",
       "      <th>0</th>\n",
       "      <th>1</th>\n",
       "      <th>2</th>\n",
       "      <th>3</th>\n",
       "      <th>4</th>\n",
       "      <th>5</th>\n",
       "      <th>6</th>\n",
       "      <th>7</th>\n",
       "      <th>8</th>\n",
       "      <th>9</th>\n",
       "    </tr>\n",
       "  </thead>\n",
       "  <tbody>\n",
       "    <tr>\n",
       "      <th>0</th>\n",
       "      <td>0.004653</td>\n",
       "      <td>0.005502</td>\n",
       "      <td>0.857476</td>\n",
       "      <td>0.002557</td>\n",
       "      <td>0.039973</td>\n",
       "      <td>0.002692</td>\n",
       "      <td>0.080528</td>\n",
       "      <td>0.000282</td>\n",
       "      <td>0.004449</td>\n",
       "      <td>0.001890</td>\n",
       "    </tr>\n",
       "    <tr>\n",
       "      <th>1</th>\n",
       "      <td>0.004345</td>\n",
       "      <td>0.967976</td>\n",
       "      <td>0.000216</td>\n",
       "      <td>0.017679</td>\n",
       "      <td>0.005040</td>\n",
       "      <td>0.001031</td>\n",
       "      <td>0.002384</td>\n",
       "      <td>0.000000</td>\n",
       "      <td>0.001292</td>\n",
       "      <td>0.000036</td>\n",
       "    </tr>\n",
       "    <tr>\n",
       "      <th>2</th>\n",
       "      <td>0.560582</td>\n",
       "      <td>0.000822</td>\n",
       "      <td>0.004595</td>\n",
       "      <td>0.022059</td>\n",
       "      <td>0.007729</td>\n",
       "      <td>0.000000</td>\n",
       "      <td>0.402047</td>\n",
       "      <td>0.000000</td>\n",
       "      <td>0.001910</td>\n",
       "      <td>0.000256</td>\n",
       "    </tr>\n",
       "    <tr>\n",
       "      <th>3</th>\n",
       "      <td>0.003820</td>\n",
       "      <td>0.001461</td>\n",
       "      <td>0.215259</td>\n",
       "      <td>0.001763</td>\n",
       "      <td>0.683101</td>\n",
       "      <td>0.000314</td>\n",
       "      <td>0.087834</td>\n",
       "      <td>0.000000</td>\n",
       "      <td>0.005451</td>\n",
       "      <td>0.000996</td>\n",
       "    </tr>\n",
       "    <tr>\n",
       "      <th>4</th>\n",
       "      <td>0.002132</td>\n",
       "      <td>0.002174</td>\n",
       "      <td>0.000361</td>\n",
       "      <td>0.994120</td>\n",
       "      <td>0.000337</td>\n",
       "      <td>0.000108</td>\n",
       "      <td>0.000175</td>\n",
       "      <td>0.000000</td>\n",
       "      <td>0.000593</td>\n",
       "      <td>0.000000</td>\n",
       "    </tr>\n",
       "  </tbody>\n",
       "</table>\n",
       "</div>"
      ],
      "text/plain": [
       "          0         1         2         3         4         5         6  \\\n",
       "0  0.004653  0.005502  0.857476  0.002557  0.039973  0.002692  0.080528   \n",
       "1  0.004345  0.967976  0.000216  0.017679  0.005040  0.001031  0.002384   \n",
       "2  0.560582  0.000822  0.004595  0.022059  0.007729  0.000000  0.402047   \n",
       "3  0.003820  0.001461  0.215259  0.001763  0.683101  0.000314  0.087834   \n",
       "4  0.002132  0.002174  0.000361  0.994120  0.000337  0.000108  0.000175   \n",
       "\n",
       "          7         8         9  \n",
       "0  0.000282  0.004449  0.001890  \n",
       "1  0.000000  0.001292  0.000036  \n",
       "2  0.000000  0.001910  0.000256  \n",
       "3  0.000000  0.005451  0.000996  \n",
       "4  0.000000  0.000593  0.000000  "
      ]
     },
     "execution_count": 31,
     "metadata": {},
     "output_type": "execute_result"
    }
   ],
   "source": [
    "y_pred_train_probs = pd.DataFrame(forest.predict_proba(X))\n",
    "y_pred_train_probs.head()"
   ]
  },
  {
   "cell_type": "markdown",
   "metadata": {
    "slideshow": {
     "slide_type": "subslide"
    }
   },
   "source": [
    "#### Evaluate Performance via Confusion Matrix"
   ]
  },
  {
   "cell_type": "code",
   "execution_count": 32,
   "metadata": {},
   "outputs": [
    {
     "data": {
      "text/plain": [
       "array([[3934,    3,   61,  172,   25,    5,  245,    0,   55,    0],\n",
       "       [  10, 4305,   43,  115,    6,    2,   17,    0,    2,    0],\n",
       "       [  18,    1, 3737,   45,  498,    3,  168,    0,   30,    0],\n",
       "       [  84,    9,   46, 4160,  116,    0,   75,    0,   10,    0],\n",
       "       [   5,    4,  256,  159, 3924,    0,  136,    0,   15,    1],\n",
       "       [   0,    0,    0,    1,    0, 4242,    2,  166,   25,   64],\n",
       "       [ 669,    6,  514,  114,  351,    2, 2762,    0,   82,    0],\n",
       "       [   0,    0,    0,    0,    0,   56,    0, 4222,    6,  216],\n",
       "       [   8,    3,   20,   18,   22,   16,   36,   13, 4362,    2],\n",
       "       [   0,    0,    0,    3,    0,   35,    3,  143,    7, 4309]])"
      ]
     },
     "execution_count": 32,
     "metadata": {},
     "output_type": "execute_result"
    }
   ],
   "source": [
    "conf_mat = confusion_matrix(y_true=y,\n",
    "                            y_pred=y_pred_train)\n",
    "conf_mat"
   ]
  },
  {
   "cell_type": "code",
   "execution_count": 33,
   "metadata": {
    "slideshow": {
     "slide_type": "subslide"
    }
   },
   "outputs": [],
   "source": [
    "# To have columns be in correct order:\n",
    "class_names = [label_dict[x] for x in range(10)]"
   ]
  },
  {
   "cell_type": "code",
   "execution_count": 34,
   "metadata": {},
   "outputs": [
    {
     "data": {
      "text/html": [
       "<div>\n",
       "<style scoped>\n",
       "    .dataframe tbody tr th:only-of-type {\n",
       "        vertical-align: middle;\n",
       "    }\n",
       "\n",
       "    .dataframe tbody tr th {\n",
       "        vertical-align: top;\n",
       "    }\n",
       "\n",
       "    .dataframe thead th {\n",
       "        text-align: right;\n",
       "    }\n",
       "</style>\n",
       "<table border=\"1\" class=\"dataframe\">\n",
       "  <thead>\n",
       "    <tr style=\"text-align: right;\">\n",
       "      <th></th>\n",
       "      <th>T-shirt/top</th>\n",
       "      <th>Trouser</th>\n",
       "      <th>Pullover</th>\n",
       "      <th>Dress</th>\n",
       "      <th>Coat</th>\n",
       "      <th>Sandal</th>\n",
       "      <th>Shirt</th>\n",
       "      <th>Sneaker</th>\n",
       "      <th>Bag</th>\n",
       "      <th>Ankle boot</th>\n",
       "    </tr>\n",
       "  </thead>\n",
       "  <tbody>\n",
       "    <tr>\n",
       "      <th>T-shirt/top</th>\n",
       "      <td>3934</td>\n",
       "      <td>3</td>\n",
       "      <td>61</td>\n",
       "      <td>172</td>\n",
       "      <td>25</td>\n",
       "      <td>5</td>\n",
       "      <td>245</td>\n",
       "      <td>0</td>\n",
       "      <td>55</td>\n",
       "      <td>0</td>\n",
       "    </tr>\n",
       "    <tr>\n",
       "      <th>Trouser</th>\n",
       "      <td>10</td>\n",
       "      <td>4305</td>\n",
       "      <td>43</td>\n",
       "      <td>115</td>\n",
       "      <td>6</td>\n",
       "      <td>2</td>\n",
       "      <td>17</td>\n",
       "      <td>0</td>\n",
       "      <td>2</td>\n",
       "      <td>0</td>\n",
       "    </tr>\n",
       "    <tr>\n",
       "      <th>Pullover</th>\n",
       "      <td>18</td>\n",
       "      <td>1</td>\n",
       "      <td>3737</td>\n",
       "      <td>45</td>\n",
       "      <td>498</td>\n",
       "      <td>3</td>\n",
       "      <td>168</td>\n",
       "      <td>0</td>\n",
       "      <td>30</td>\n",
       "      <td>0</td>\n",
       "    </tr>\n",
       "    <tr>\n",
       "      <th>Dress</th>\n",
       "      <td>84</td>\n",
       "      <td>9</td>\n",
       "      <td>46</td>\n",
       "      <td>4160</td>\n",
       "      <td>116</td>\n",
       "      <td>0</td>\n",
       "      <td>75</td>\n",
       "      <td>0</td>\n",
       "      <td>10</td>\n",
       "      <td>0</td>\n",
       "    </tr>\n",
       "    <tr>\n",
       "      <th>Coat</th>\n",
       "      <td>5</td>\n",
       "      <td>4</td>\n",
       "      <td>256</td>\n",
       "      <td>159</td>\n",
       "      <td>3924</td>\n",
       "      <td>0</td>\n",
       "      <td>136</td>\n",
       "      <td>0</td>\n",
       "      <td>15</td>\n",
       "      <td>1</td>\n",
       "    </tr>\n",
       "    <tr>\n",
       "      <th>Sandal</th>\n",
       "      <td>0</td>\n",
       "      <td>0</td>\n",
       "      <td>0</td>\n",
       "      <td>1</td>\n",
       "      <td>0</td>\n",
       "      <td>4242</td>\n",
       "      <td>2</td>\n",
       "      <td>166</td>\n",
       "      <td>25</td>\n",
       "      <td>64</td>\n",
       "    </tr>\n",
       "    <tr>\n",
       "      <th>Shirt</th>\n",
       "      <td>669</td>\n",
       "      <td>6</td>\n",
       "      <td>514</td>\n",
       "      <td>114</td>\n",
       "      <td>351</td>\n",
       "      <td>2</td>\n",
       "      <td>2762</td>\n",
       "      <td>0</td>\n",
       "      <td>82</td>\n",
       "      <td>0</td>\n",
       "    </tr>\n",
       "    <tr>\n",
       "      <th>Sneaker</th>\n",
       "      <td>0</td>\n",
       "      <td>0</td>\n",
       "      <td>0</td>\n",
       "      <td>0</td>\n",
       "      <td>0</td>\n",
       "      <td>56</td>\n",
       "      <td>0</td>\n",
       "      <td>4222</td>\n",
       "      <td>6</td>\n",
       "      <td>216</td>\n",
       "    </tr>\n",
       "    <tr>\n",
       "      <th>Bag</th>\n",
       "      <td>8</td>\n",
       "      <td>3</td>\n",
       "      <td>20</td>\n",
       "      <td>18</td>\n",
       "      <td>22</td>\n",
       "      <td>16</td>\n",
       "      <td>36</td>\n",
       "      <td>13</td>\n",
       "      <td>4362</td>\n",
       "      <td>2</td>\n",
       "    </tr>\n",
       "    <tr>\n",
       "      <th>Ankle boot</th>\n",
       "      <td>0</td>\n",
       "      <td>0</td>\n",
       "      <td>0</td>\n",
       "      <td>3</td>\n",
       "      <td>0</td>\n",
       "      <td>35</td>\n",
       "      <td>3</td>\n",
       "      <td>143</td>\n",
       "      <td>7</td>\n",
       "      <td>4309</td>\n",
       "    </tr>\n",
       "  </tbody>\n",
       "</table>\n",
       "</div>"
      ],
      "text/plain": [
       "             T-shirt/top  Trouser  Pullover  Dress  Coat  Sandal  Shirt  \\\n",
       "T-shirt/top         3934        3        61    172    25       5    245   \n",
       "Trouser               10     4305        43    115     6       2     17   \n",
       "Pullover              18        1      3737     45   498       3    168   \n",
       "Dress                 84        9        46   4160   116       0     75   \n",
       "Coat                   5        4       256    159  3924       0    136   \n",
       "Sandal                 0        0         0      1     0    4242      2   \n",
       "Shirt                669        6       514    114   351       2   2762   \n",
       "Sneaker                0        0         0      0     0      56      0   \n",
       "Bag                    8        3        20     18    22      16     36   \n",
       "Ankle boot             0        0         0      3     0      35      3   \n",
       "\n",
       "             Sneaker   Bag  Ankle boot  \n",
       "T-shirt/top        0    55           0  \n",
       "Trouser            0     2           0  \n",
       "Pullover           0    30           0  \n",
       "Dress              0    10           0  \n",
       "Coat               0    15           1  \n",
       "Sandal           166    25          64  \n",
       "Shirt              0    82           0  \n",
       "Sneaker         4222     6         216  \n",
       "Bag               13  4362           2  \n",
       "Ankle boot       143     7        4309  "
      ]
     },
     "execution_count": 34,
     "metadata": {},
     "output_type": "execute_result"
    }
   ],
   "source": [
    "conf_df = pd.DataFrame(conf_mat, class_names, class_names)\n",
    "conf_df"
   ]
  },
  {
   "cell_type": "code",
   "execution_count": 61,
   "metadata": {
    "slideshow": {
     "slide_type": "subslide"
    }
   },
   "outputs": [
    {
     "data": {
      "text/html": [
       "<div>\n",
       "<style scoped>\n",
       "    .dataframe tbody tr th:only-of-type {\n",
       "        vertical-align: middle;\n",
       "    }\n",
       "\n",
       "    .dataframe tbody tr th {\n",
       "        vertical-align: top;\n",
       "    }\n",
       "\n",
       "    .dataframe thead th {\n",
       "        text-align: right;\n",
       "    }\n",
       "</style>\n",
       "<table border=\"1\" class=\"dataframe\">\n",
       "  <thead>\n",
       "    <tr style=\"text-align: right;\">\n",
       "      <th></th>\n",
       "      <th>T-shirt/top</th>\n",
       "      <th>Trouser</th>\n",
       "      <th>Pullover</th>\n",
       "      <th>Dress</th>\n",
       "      <th>Coat</th>\n",
       "      <th>Sandal</th>\n",
       "      <th>Shirt</th>\n",
       "      <th>Sneaker</th>\n",
       "      <th>Bag</th>\n",
       "      <th>Ankle boot</th>\n",
       "    </tr>\n",
       "  </thead>\n",
       "  <tbody>\n",
       "    <tr>\n",
       "      <th>T-shirt/top</th>\n",
       "      <td>0.87</td>\n",
       "      <td>0.00</td>\n",
       "      <td>0.01</td>\n",
       "      <td>0.04</td>\n",
       "      <td>0.01</td>\n",
       "      <td>0.00</td>\n",
       "      <td>0.05</td>\n",
       "      <td>0.00</td>\n",
       "      <td>0.01</td>\n",
       "      <td>0.00</td>\n",
       "    </tr>\n",
       "    <tr>\n",
       "      <th>Trouser</th>\n",
       "      <td>0.00</td>\n",
       "      <td>0.96</td>\n",
       "      <td>0.01</td>\n",
       "      <td>0.03</td>\n",
       "      <td>0.00</td>\n",
       "      <td>0.00</td>\n",
       "      <td>0.00</td>\n",
       "      <td>0.00</td>\n",
       "      <td>0.00</td>\n",
       "      <td>0.00</td>\n",
       "    </tr>\n",
       "    <tr>\n",
       "      <th>Pullover</th>\n",
       "      <td>0.00</td>\n",
       "      <td>0.00</td>\n",
       "      <td>0.83</td>\n",
       "      <td>0.01</td>\n",
       "      <td>0.11</td>\n",
       "      <td>0.00</td>\n",
       "      <td>0.04</td>\n",
       "      <td>0.00</td>\n",
       "      <td>0.01</td>\n",
       "      <td>0.00</td>\n",
       "    </tr>\n",
       "    <tr>\n",
       "      <th>Dress</th>\n",
       "      <td>0.02</td>\n",
       "      <td>0.00</td>\n",
       "      <td>0.01</td>\n",
       "      <td>0.92</td>\n",
       "      <td>0.03</td>\n",
       "      <td>0.00</td>\n",
       "      <td>0.02</td>\n",
       "      <td>0.00</td>\n",
       "      <td>0.00</td>\n",
       "      <td>0.00</td>\n",
       "    </tr>\n",
       "    <tr>\n",
       "      <th>Coat</th>\n",
       "      <td>0.00</td>\n",
       "      <td>0.00</td>\n",
       "      <td>0.06</td>\n",
       "      <td>0.04</td>\n",
       "      <td>0.87</td>\n",
       "      <td>0.00</td>\n",
       "      <td>0.03</td>\n",
       "      <td>0.00</td>\n",
       "      <td>0.00</td>\n",
       "      <td>0.00</td>\n",
       "    </tr>\n",
       "    <tr>\n",
       "      <th>Sandal</th>\n",
       "      <td>0.00</td>\n",
       "      <td>0.00</td>\n",
       "      <td>0.00</td>\n",
       "      <td>0.00</td>\n",
       "      <td>0.00</td>\n",
       "      <td>0.94</td>\n",
       "      <td>0.00</td>\n",
       "      <td>0.04</td>\n",
       "      <td>0.01</td>\n",
       "      <td>0.01</td>\n",
       "    </tr>\n",
       "    <tr>\n",
       "      <th>Shirt</th>\n",
       "      <td>0.15</td>\n",
       "      <td>0.00</td>\n",
       "      <td>0.11</td>\n",
       "      <td>0.03</td>\n",
       "      <td>0.08</td>\n",
       "      <td>0.00</td>\n",
       "      <td>0.61</td>\n",
       "      <td>0.00</td>\n",
       "      <td>0.02</td>\n",
       "      <td>0.00</td>\n",
       "    </tr>\n",
       "    <tr>\n",
       "      <th>Sneaker</th>\n",
       "      <td>0.00</td>\n",
       "      <td>0.00</td>\n",
       "      <td>0.00</td>\n",
       "      <td>0.00</td>\n",
       "      <td>0.00</td>\n",
       "      <td>0.01</td>\n",
       "      <td>0.00</td>\n",
       "      <td>0.94</td>\n",
       "      <td>0.00</td>\n",
       "      <td>0.05</td>\n",
       "    </tr>\n",
       "    <tr>\n",
       "      <th>Bag</th>\n",
       "      <td>0.00</td>\n",
       "      <td>0.00</td>\n",
       "      <td>0.00</td>\n",
       "      <td>0.00</td>\n",
       "      <td>0.00</td>\n",
       "      <td>0.00</td>\n",
       "      <td>0.01</td>\n",
       "      <td>0.00</td>\n",
       "      <td>0.97</td>\n",
       "      <td>0.00</td>\n",
       "    </tr>\n",
       "    <tr>\n",
       "      <th>Ankle boot</th>\n",
       "      <td>0.00</td>\n",
       "      <td>0.00</td>\n",
       "      <td>0.00</td>\n",
       "      <td>0.00</td>\n",
       "      <td>0.00</td>\n",
       "      <td>0.01</td>\n",
       "      <td>0.00</td>\n",
       "      <td>0.03</td>\n",
       "      <td>0.00</td>\n",
       "      <td>0.96</td>\n",
       "    </tr>\n",
       "  </tbody>\n",
       "</table>\n",
       "</div>"
      ],
      "text/plain": [
       "             T-shirt/top  Trouser  Pullover  Dress  Coat  Sandal  Shirt  \\\n",
       "T-shirt/top         0.87     0.00      0.01   0.04  0.01    0.00   0.05   \n",
       "Trouser             0.00     0.96      0.01   0.03  0.00    0.00   0.00   \n",
       "Pullover            0.00     0.00      0.83   0.01  0.11    0.00   0.04   \n",
       "Dress               0.02     0.00      0.01   0.92  0.03    0.00   0.02   \n",
       "Coat                0.00     0.00      0.06   0.04  0.87    0.00   0.03   \n",
       "Sandal              0.00     0.00      0.00   0.00  0.00    0.94   0.00   \n",
       "Shirt               0.15     0.00      0.11   0.03  0.08    0.00   0.61   \n",
       "Sneaker             0.00     0.00      0.00   0.00  0.00    0.01   0.00   \n",
       "Bag                 0.00     0.00      0.00   0.00  0.00    0.00   0.01   \n",
       "Ankle boot          0.00     0.00      0.00   0.00  0.00    0.01   0.00   \n",
       "\n",
       "             Sneaker   Bag  Ankle boot  \n",
       "T-shirt/top     0.00  0.01        0.00  \n",
       "Trouser         0.00  0.00        0.00  \n",
       "Pullover        0.00  0.01        0.00  \n",
       "Dress           0.00  0.00        0.00  \n",
       "Coat            0.00  0.00        0.00  \n",
       "Sandal          0.04  0.01        0.01  \n",
       "Shirt           0.00  0.02        0.00  \n",
       "Sneaker         0.94  0.00        0.05  \n",
       "Bag             0.00  0.97        0.00  \n",
       "Ankle boot      0.03  0.00        0.96  "
      ]
     },
     "execution_count": 61,
     "metadata": {},
     "output_type": "execute_result"
    }
   ],
   "source": [
    "conf_df_pct = conf_df/conf_df.sum(axis=1)\n",
    "round(conf_df_pct, 2)"
   ]
  },
  {
   "cell_type": "markdown",
   "metadata": {},
   "source": [
    "What does the confusion matrix tell us about our model?"
   ]
  },
  {
   "cell_type": "markdown",
   "metadata": {
    "slideshow": {
     "slide_type": "subslide"
    }
   },
   "source": [
    "Aside:\n",
    "- `seaborn` [gallery](https://seaborn.pydata.org/examples/index.html) for visualizations\n",
    "- [Conditional highlighting](https://pandas.pydata.org/pandas-docs/stable/user_guide/style.html) of pandas dataframes"
   ]
  },
  {
   "cell_type": "markdown",
   "metadata": {
    "slideshow": {
     "slide_type": "subslide"
    }
   },
   "source": [
    "#### Evaluate Performance via F1-score\n",
    "We have a multi-class outcome, let's use an associated F1-score, per:\n",
    "https://scikit-learn.org/stable/modules/generated/sklearn.metrics.f1_score.html and https://medium.com/@ramit.singh.pahwa/micro-macro-precision-recall-and-f-score-44439de1a044"
   ]
  },
  {
   "cell_type": "code",
   "execution_count": 36,
   "metadata": {},
   "outputs": [
    {
     "data": {
      "text/plain": [
       "0.8862739486087194"
      ]
     },
     "execution_count": 36,
     "metadata": {},
     "output_type": "execute_result"
    }
   ],
   "source": [
    "# Class-level performance:\n",
    "f1_score(y_true=y,\n",
    "         y_pred=y_pred_train,\n",
    "         average='macro')"
   ]
  },
  {
   "cell_type": "code",
   "execution_count": 37,
   "metadata": {
    "slideshow": {
     "slide_type": "fragment"
    }
   },
   "outputs": [
    {
     "data": {
      "text/plain": [
       "0.8879333333333332"
      ]
     },
     "execution_count": 37,
     "metadata": {},
     "output_type": "execute_result"
    }
   ],
   "source": [
    "# Overall performance across all classes:\n",
    "f1_score(y_true=y,\n",
    "         y_pred=y_pred_train,\n",
    "         average='micro')"
   ]
  },
  {
   "cell_type": "markdown",
   "metadata": {
    "slideshow": {
     "slide_type": "subslide"
    }
   },
   "source": [
    "Is our F1-score surprising?"
   ]
  },
  {
   "cell_type": "markdown",
   "metadata": {
    "slideshow": {
     "slide_type": "fragment"
    }
   },
   "source": [
    "What do we think about the model?"
   ]
  },
  {
   "cell_type": "markdown",
   "metadata": {
    "slideshow": {
     "slide_type": "slide"
    }
   },
   "source": [
    "# Step 9: Fit An Alternative Model (v1)\n",
    "**Alternative Model**: Estimate a fully connected neural network with 1 hidden layer to try ot predict category of image... in (base) Python (!).\n",
    "\n",
    "**Motivation**: \n",
    "- Aim to understand what's happening behind-the-scenes with simple NN model first\n",
    "- Learning + practicing concepts, not syntax\n",
    "- Easier to debug"
   ]
  },
  {
   "cell_type": "markdown",
   "metadata": {
    "slideshow": {
     "slide_type": "slide"
    }
   },
   "source": [
    "# Before we tackle Neural Networks in (base) Python... Brief Introduction to OOP  \n",
    "Reference: https://realpython.com/python3-object-oriented-programming/"
   ]
  },
  {
   "cell_type": "markdown",
   "metadata": {},
   "source": [
    "- **Procedural programming**\n",
    "  - e.g. this notebook\n",
    "- **Object Oriented Programming (OOP)**\n",
    "  - e.g. person, with behaviors such as 'attending class'\n",
    "- OOP components:\n",
    "  - Classes contain properties (e.g. 'attending class')\n",
    "  - Instance of class (e.g. person 1, person 2, etc.)\n",
    "  - Class inheritance (outside scope of today's lecture)\n"
   ]
  },
  {
   "cell_type": "code",
   "execution_count": 38,
   "metadata": {
    "slideshow": {
     "slide_type": "subslide"
    }
   },
   "outputs": [],
   "source": [
    "class Person():\n",
    "    \"\"\"Class person\"\"\"\n",
    "    \n",
    "    def __init__(self, name):\n",
    "        \"\"\"Class requires that each Person has a name.\"\"\"\n",
    "        self.name = name"
   ]
  },
  {
   "cell_type": "code",
   "execution_count": 39,
   "metadata": {},
   "outputs": [
    {
     "data": {
      "text/plain": [
       "'Irina'"
      ]
     },
     "execution_count": 39,
     "metadata": {},
     "output_type": "execute_result"
    }
   ],
   "source": [
    "instructor = Person('Irina')\n",
    "instructor.name"
   ]
  },
  {
   "cell_type": "code",
   "execution_count": 40,
   "metadata": {},
   "outputs": [
    {
     "data": {
      "text/plain": [
       "'Hao'"
      ]
     },
     "execution_count": 40,
     "metadata": {},
     "output_type": "execute_result"
    }
   ],
   "source": [
    "TA = Person('Hao')\n",
    "TA.name"
   ]
  },
  {
   "cell_type": "code",
   "execution_count": 41,
   "metadata": {},
   "outputs": [
    {
     "data": {
      "text/plain": [
       "__main__.Person"
      ]
     },
     "execution_count": 41,
     "metadata": {},
     "output_type": "execute_result"
    }
   ],
   "source": [
    "type(instructor)"
   ]
  },
  {
   "cell_type": "markdown",
   "metadata": {
    "slideshow": {
     "slide_type": "slide"
    }
   },
   "source": [
    "# 10 minute break"
   ]
  },
  {
   "cell_type": "markdown",
   "metadata": {
    "slideshow": {
     "slide_type": "slide"
    }
   },
   "source": [
    "# (Back to) Step 9: Fit An Alternative Model (v1)\n",
    "Reference: http://neuralnetworksanddeeplearning.com/chap1.html and\n",
    "simplified `network.py` code from repository:\n",
    "https://github.com/mnielsen/neural-networks-and-deep-learning/blob/master/src/network.py\n"
   ]
  },
  {
   "cell_type": "code",
   "execution_count": 42,
   "metadata": {},
   "outputs": [],
   "source": [
    "X = X.reset_index(drop=True)\n",
    "y = y.reset_index(drop=True)"
   ]
  },
  {
   "cell_type": "markdown",
   "metadata": {
    "slideshow": {
     "slide_type": "subslide"
    }
   },
   "source": [
    "#### Reshape Dataset to Format Expected by Fully Connected NN\n",
    "Format:\n",
    "- list of same length as number of images in (training) data set\n",
    "- each entry in list is a tuple of length 2, containing (features, outcome) of a given image\n",
    "- features are an 784 x 1 Numpy Ndarray\n",
    "- outcome is 10 x 1 Numpy Ndarray"
   ]
  },
  {
   "cell_type": "code",
   "execution_count": 43,
   "metadata": {},
   "outputs": [
    {
     "name": "stdout",
     "output_type": "stream",
     "text": [
      "0\n",
      "15000\n",
      "30000\n"
     ]
    }
   ],
   "source": [
    "num_rows = X.shape[0]\n",
    "training_data = [None]*num_rows\n",
    "for i in range(num_rows):\n",
    "    if i % 15000 == 0:\n",
    "        print(i)\n",
    "    # Create ndarray for each row of X:\n",
    "    tmp_x = pd.DataFrame(X.iloc[i]).values\n",
    "    # Create ndarray of length 10 for each value of y:\n",
    "    tmp_y = pd.DataFrame(np.zeros(10)).values\n",
    "    tmp_y[y[i]] = y[i]\n",
    "    # Create tuple for each image:\n",
    "    training_data[i] = (tmp_x, tmp_y)"
   ]
  },
  {
   "cell_type": "markdown",
   "metadata": {
    "slideshow": {
     "slide_type": "subslide"
    }
   },
   "source": [
    "#### Define the Fully Connected NN and its Estimation"
   ]
  },
  {
   "cell_type": "code",
   "execution_count": 44,
   "metadata": {
    "slideshow": {
     "slide_type": "skip"
    }
   },
   "outputs": [],
   "source": [
    "class Network(object):\n",
    "\n",
    "    def __init__(self, sizes):\n",
    "        \"\"\"The list ``sizes`` specified number of neurons per layer.\"\"\"\n",
    "        self.num_layers = len(sizes)\n",
    "        self.sizes = sizes\n",
    "        # Biases and weights are initialized from Normal distribution:\n",
    "        self.biases = [np.random.randn(y, 1) for y in sizes[1:]]\n",
    "        self.weights = [np.random.randn(y, x)\n",
    "                        for x, y in zip(sizes[:-1], sizes[1:])]\n",
    "\n",
    "    def feedforward(self, a):\n",
    "        \"\"\"Return output of network.\"\"\"\n",
    "        for b, w in zip(self.biases, self.weights):\n",
    "            a = sigmoid(np.dot(w, a)+b)\n",
    "        return a\n",
    "\n",
    "    def SGD(self, training_data, learning_rate):\n",
    "        \"\"\"Train the neural network using gradient descent on full dataset.\"\"\"\n",
    "        accuracy_new = 0\n",
    "        while accuracy_new < 0.8:\n",
    "            accuracy_old = accuracy_new\n",
    "            nabla_b = [np.zeros(b.shape) for b in self.biases]\n",
    "            nabla_w = [np.zeros(w.shape) for w in self.weights]\n",
    "            for x, y in training_data:\n",
    "                delta_nabla_b, delta_nabla_w = self.backprop(x, y)\n",
    "                nabla_b = [nb+dnb for nb, dnb in zip(nabla_b, delta_nabla_b)]\n",
    "                nabla_w = [nw+dnw for nw, dnw in zip(nabla_w, delta_nabla_w)]\n",
    "            self.weights = [w-(learning_rate/len(training_data))*nw\n",
    "                            for w, nw in zip(self.weights, nabla_w)]\n",
    "            self.biases = [b-(learning_rate/len(training_data))*nb\n",
    "                           for b, nb in zip(self.biases, nabla_b)]\n",
    "            TP = self.evaluate(training_data)\n",
    "            accuracy_new = float(TP)/len(training_data)\n",
    "            print(accuracy_new)\n",
    "            if (abs(accuracy_new - accuracy_old) < 0.00001):\n",
    "                break\n",
    "        return self.evaluate(training_data, accuracy=False)\n",
    "\n",
    "    def backprop(self, x, y):\n",
    "        \"\"\"Return a tuple representing gradient for the cost function.\"\"\"\n",
    "        # Initialize for each layer:\n",
    "        nabla_b = [np.zeros(b.shape) for b in self.biases]\n",
    "        nabla_w = [np.zeros(w.shape) for w in self.weights]\n",
    "        # feedforward\n",
    "        activation = x\n",
    "        activations = [x] # list to store all the activations, layer by layer\n",
    "        zs = [] # list to store all the z vectors, layer by layer\n",
    "        for b, w in zip(self.biases, self.weights):\n",
    "            z = np.dot(w, activation)+b\n",
    "            zs.append(z)\n",
    "            activation = sigmoid(z)\n",
    "            activations.append(activation)\n",
    "        # backward pass\n",
    "        delta = self.cost_derivative(activations[-1], y) * \\\n",
    "            sigmoid_derivative(zs[-1])\n",
    "        nabla_b[-1] = delta\n",
    "        nabla_w[-1] = np.dot(delta, activations[-2].transpose())\n",
    "        # Here, l = 1 means the last layer of neurons, l = 2 is second-to-last layer, etc.\n",
    "        for l in range(2, self.num_layers):\n",
    "            z = zs[-l]\n",
    "            sp = sigmoid_derivative(z)\n",
    "            delta = np.dot(self.weights[-l+1].transpose(), delta) * sp\n",
    "            nabla_b[-l] = delta\n",
    "            nabla_w[-l] = np.dot(delta, activations[-l-1].transpose())\n",
    "        return (nabla_b, nabla_w)\n",
    "    \n",
    "    def evaluate(self, test_data, accuracy=True):\n",
    "        \"\"\"Return accuracy or final predictions.\"\"\"\n",
    "        test_results = [(np.argmax(self.feedforward(x)), np.argmax(y)) for (x, y) in test_data]\n",
    "        if accuracy:\n",
    "            return sum(int(y_pred == y) for (y_pred, y) in test_results)\n",
    "        else:\n",
    "            return [self.feedforward(x) for (x, y) in test_data]\n",
    "\n",
    "    def cost_derivative(self, output_activations, y):\n",
    "        \"\"\"Return the vector of partial derivatives of cost fcn.\"\"\"\n",
    "        return (output_activations-y)"
   ]
  },
  {
   "cell_type": "markdown",
   "metadata": {},
   "source": [
    "![Initialize network class](./images/define_ntwk.png)"
   ]
  },
  {
   "cell_type": "markdown",
   "metadata": {
    "slideshow": {
     "slide_type": "fragment"
    }
   },
   "source": [
    "![Initialize network class](./images/feedforward.png)"
   ]
  },
  {
   "cell_type": "markdown",
   "metadata": {
    "slideshow": {
     "slide_type": "subslide"
    }
   },
   "source": [
    "![Initialize network class](./images/sgd.png)"
   ]
  },
  {
   "cell_type": "markdown",
   "metadata": {
    "slideshow": {
     "slide_type": "subslide"
    }
   },
   "source": [
    "![Initialize network class](./images/backprop.png)"
   ]
  },
  {
   "cell_type": "markdown",
   "metadata": {
    "slideshow": {
     "slide_type": "subslide"
    }
   },
   "source": [
    "![Initialize network class](./images/evaluate.png)"
   ]
  },
  {
   "cell_type": "markdown",
   "metadata": {
    "slideshow": {
     "slide_type": "fragment"
    }
   },
   "source": [
    "![Initialize network class](./images/cost_derivative.png)"
   ]
  },
  {
   "cell_type": "code",
   "execution_count": 45,
   "metadata": {
    "slideshow": {
     "slide_type": "subslide"
    }
   },
   "outputs": [],
   "source": [
    "#### Miscellaneous helper functions\n",
    "\n",
    "def sigmoid(z):\n",
    "    \"\"\"The sigmoid function.\"\"\"\n",
    "    return 1.0/(1.0+np.exp(-z))\n",
    "\n",
    "def sigmoid_derivative(z):\n",
    "    \"\"\"Derivative of the sigmoid function.\"\"\"\n",
    "    return sigmoid(z)*(1-sigmoid(z))"
   ]
  },
  {
   "cell_type": "code",
   "execution_count": 46,
   "metadata": {
    "slideshow": {
     "slide_type": "subslide"
    }
   },
   "outputs": [],
   "source": [
    "# Network specs: \n",
    "#     28*28 neurons in input layer, \n",
    "#     30 in hidden layer, \n",
    "#     predicting 1 of 10 classes in output layer:\n",
    "net = Network([784, 30, 10])"
   ]
  },
  {
   "cell_type": "code",
   "execution_count": 47,
   "metadata": {
    "slideshow": {
     "slide_type": "fragment"
    }
   },
   "outputs": [
    {
     "name": "stderr",
     "output_type": "stream",
     "text": [
      "/Users/irina/Documents/Stats_404_W19/Envs/env-stats404-class0/lib/python3.7/site-packages/ipykernel_launcher.py:5: RuntimeWarning: overflow encountered in exp\n",
      "  \"\"\"\n"
     ]
    },
    {
     "name": "stdout",
     "output_type": "stream",
     "text": [
      "0.1542888888888889\n",
      "0.14795555555555556\n",
      "0.1285777777777778\n",
      "0.14613333333333334\n",
      "0.16411111111111112\n",
      "0.18264444444444444\n",
      "0.23713333333333333\n",
      "0.26497777777777776\n",
      "0.29773333333333335\n",
      "0.30835555555555555\n",
      "0.31795555555555555\n",
      "0.32986666666666664\n",
      "0.3398\n",
      "0.3312888888888889\n",
      "0.3484\n",
      "0.35717777777777776\n",
      "0.3662\n",
      "0.3710888888888889\n",
      "0.3785777777777778\n",
      "0.39013333333333333\n",
      "0.39753333333333335\n",
      "0.39237777777777777\n",
      "0.38793333333333335\n",
      "0.38882222222222224\n",
      "0.3941777777777778\n",
      "0.3864666666666667\n",
      "0.3890888888888889\n",
      "0.39313333333333333\n",
      "0.39764444444444447\n",
      "0.3959111111111111\n",
      "0.40044444444444444\n",
      "0.4015111111111111\n",
      "0.39884444444444445\n",
      "0.4094888888888889\n",
      "0.41584444444444446\n",
      "0.42795555555555553\n",
      "0.4117777777777778\n",
      "0.42384444444444447\n",
      "0.42273333333333335\n",
      "0.4298444444444444\n",
      "0.43222222222222223\n",
      "0.4424666666666667\n",
      "0.4404666666666667\n",
      "0.4298\n",
      "0.4301333333333333\n",
      "0.42775555555555556\n",
      "0.42535555555555554\n",
      "0.4343111111111111\n",
      "0.4304\n",
      "0.43735555555555555\n",
      "0.4434444444444444\n",
      "0.43993333333333334\n",
      "0.4451555555555556\n",
      "0.44253333333333333\n",
      "0.44533333333333336\n",
      "0.4439777777777778\n",
      "0.44566666666666666\n",
      "0.4472\n",
      "0.4487777777777778\n",
      "0.44704444444444447\n",
      "0.4424888888888889\n",
      "0.4461333333333333\n",
      "0.4388444444444444\n",
      "0.4497555555555556\n",
      "0.42462222222222223\n",
      "0.4290888888888889\n",
      "0.4428\n",
      "0.44062222222222225\n",
      "0.4361555555555556\n",
      "0.4426222222222222\n",
      "0.44755555555555554\n",
      "0.4496888888888889\n",
      "0.4514\n",
      "0.4496\n",
      "0.4470222222222222\n",
      "0.4465777777777778\n",
      "0.44708888888888887\n",
      "0.4499111111111111\n",
      "0.4543111111111111\n",
      "0.44995555555555555\n",
      "0.45586666666666664\n",
      "0.4552\n",
      "0.45742222222222223\n",
      "0.4593555555555556\n",
      "0.4576\n",
      "0.45013333333333333\n",
      "0.4535111111111111\n",
      "0.4404\n",
      "0.44282222222222223\n",
      "0.4470222222222222\n",
      "0.45524444444444445\n",
      "0.4494444444444444\n",
      "0.4543333333333333\n",
      "0.4528\n",
      "0.46111111111111114\n",
      "0.4461777777777778\n",
      "0.4564888888888889\n",
      "0.4554\n",
      "0.45893333333333336\n",
      "0.46042222222222223\n",
      "0.4592222222222222\n",
      "0.46364444444444447\n",
      "0.4614666666666667\n",
      "0.4675111111111111\n",
      "0.4676222222222222\n",
      "0.4652222222222222\n",
      "0.46366666666666667\n",
      "0.4638\n",
      "0.4614666666666667\n",
      "0.46042222222222223\n",
      "0.4587555555555556\n",
      "0.4580222222222222\n",
      "0.45786666666666664\n",
      "0.46011111111111114\n",
      "0.4606222222222222\n",
      "0.46053333333333335\n",
      "0.465\n",
      "0.4644666666666667\n",
      "0.46584444444444445\n",
      "0.4678222222222222\n",
      "0.47415555555555555\n",
      "0.47733333333333333\n",
      "0.4752\n",
      "0.4740666666666667\n",
      "0.4730666666666667\n",
      "0.4664888888888889\n",
      "0.46904444444444443\n",
      "0.4726666666666667\n",
      "0.46755555555555556\n",
      "0.46382222222222225\n",
      "0.47157777777777776\n",
      "0.47013333333333335\n",
      "0.47215555555555555\n",
      "0.4706666666666667\n",
      "0.46975555555555554\n",
      "0.4749555555555556\n",
      "0.4780888888888889\n",
      "0.4748\n",
      "0.4733111111111111\n",
      "0.4745111111111111\n",
      "0.4726888888888889\n",
      "0.4736222222222222\n",
      "0.47171111111111114\n",
      "0.4719111111111111\n",
      "0.47204444444444443\n",
      "0.4721111111111111\n",
      "0.46875555555555554\n",
      "0.465\n",
      "0.46464444444444447\n",
      "0.4658888888888889\n",
      "0.47146666666666665\n",
      "0.472\n",
      "0.4687777777777778\n",
      "0.47055555555555556\n",
      "0.4692222222222222\n",
      "0.46697777777777777\n",
      "0.4680888888888889\n",
      "0.47028888888888887\n",
      "0.46786666666666665\n",
      "0.4694\n",
      "0.47\n",
      "0.47044444444444444\n",
      "0.4663777777777778\n",
      "0.46826666666666666\n",
      "0.46842222222222224\n",
      "0.4705111111111111\n",
      "0.46295555555555556\n",
      "0.4610444444444444\n",
      "0.4696444444444444\n",
      "0.47184444444444446\n",
      "0.47257777777777776\n",
      "0.46857777777777776\n",
      "0.4668888888888889\n",
      "0.4710888888888889\n",
      "0.4758\n",
      "0.4739111111111111\n",
      "0.4736888888888889\n",
      "0.4744\n",
      "0.47015555555555555\n",
      "0.4742222222222222\n",
      "0.4746888888888889\n",
      "0.47473333333333334\n",
      "0.4775333333333333\n",
      "0.4755333333333333\n",
      "0.47788888888888886\n",
      "0.47584444444444446\n",
      "0.47724444444444447\n",
      "0.4786666666666667\n",
      "0.4776222222222222\n",
      "0.479\n",
      "0.47875555555555555\n",
      "0.47615555555555555\n",
      "0.4792666666666667\n",
      "0.48006666666666664\n",
      "0.47888888888888886\n",
      "0.48004444444444444\n",
      "0.4772666666666667\n",
      "0.4841111111111111\n",
      "0.48473333333333335\n",
      "0.4873111111111111\n",
      "0.4846888888888889\n",
      "0.4858\n",
      "0.4834888888888889\n",
      "0.48375555555555555\n",
      "0.4832222222222222\n",
      "0.48355555555555557\n",
      "0.48513333333333336\n",
      "0.48562222222222223\n",
      "0.4794888888888889\n",
      "0.4802888888888889\n",
      "0.48617777777777776\n",
      "0.48775555555555555\n",
      "0.4920888888888889\n",
      "0.4925777777777778\n",
      "0.4922666666666667\n",
      "0.4908666666666667\n",
      "0.48984444444444447\n",
      "0.4881111111111111\n",
      "0.4921111111111111\n",
      "0.49017777777777777\n",
      "0.4894222222222222\n",
      "0.48675555555555555\n",
      "0.494\n",
      "0.49444444444444446\n",
      "0.4961333333333333\n",
      "0.4974222222222222\n",
      "0.5006\n",
      "0.5018888888888889\n",
      "0.4970222222222222\n",
      "0.49533333333333335\n",
      "0.4951333333333333\n",
      "0.49733333333333335\n",
      "0.49793333333333334\n",
      "0.49493333333333334\n",
      "0.5011111111111111\n",
      "0.4990222222222222\n",
      "0.5015777777777778\n",
      "0.508\n",
      "0.5080444444444444\n",
      "0.508\n",
      "0.5066\n",
      "0.5081111111111111\n",
      "0.5059555555555556\n",
      "0.5050222222222223\n",
      "0.5044888888888889\n",
      "0.5026888888888889\n",
      "0.5037777777777778\n",
      "0.5009333333333333\n",
      "0.5032666666666666\n",
      "0.5009777777777777\n",
      "0.5010222222222223\n",
      "0.5051777777777777\n",
      "0.5025555555555555\n",
      "0.5069777777777777\n",
      "0.5058666666666667\n",
      "0.5030444444444444\n",
      "0.5064666666666666\n",
      "0.5047111111111111\n",
      "0.5061111111111111\n",
      "0.5066222222222222\n",
      "0.5063333333333333\n",
      "0.5079333333333333\n",
      "0.5078\n",
      "0.5095777777777778\n",
      "0.5059555555555556\n",
      "0.5058666666666667\n",
      "0.5043777777777778\n",
      "0.5009333333333333\n",
      "0.5016666666666667\n",
      "0.5004444444444445\n",
      "0.5095111111111111\n",
      "0.5061333333333333\n",
      "0.5110222222222223\n",
      "0.5103333333333333\n",
      "0.5091555555555556\n",
      "0.5107111111111111\n",
      "0.5137333333333334\n",
      "0.5131555555555556\n",
      "0.5121555555555556\n",
      "0.5126444444444445\n",
      "0.5087333333333334\n",
      "0.5140666666666667\n",
      "0.5144444444444445\n",
      "0.5147555555555555\n",
      "0.5129111111111111\n",
      "0.5154666666666666\n",
      "0.5147111111111111\n",
      "0.5169555555555555\n",
      "0.5175555555555555\n",
      "0.5126888888888889\n",
      "0.5179333333333334\n",
      "0.5158222222222222\n",
      "0.5096888888888889\n",
      "0.5141555555555556\n",
      "0.5154888888888889\n",
      "0.5142\n",
      "0.5137777777777778\n",
      "0.5192666666666667\n",
      "0.5172222222222222\n",
      "0.5152666666666667\n",
      "0.5119111111111111\n",
      "0.5127777777777778\n",
      "0.5106444444444445\n",
      "0.5090888888888889\n",
      "0.5130666666666667\n",
      "0.5132666666666666\n",
      "0.5113111111111112\n",
      "0.5150222222222223\n",
      "0.5082888888888889\n",
      "0.5073333333333333\n",
      "0.5026444444444444\n",
      "0.5031555555555556\n",
      "0.5040888888888889\n",
      "0.5066666666666667\n",
      "0.5124666666666666\n",
      "0.5106444444444445\n",
      "0.5113555555555556\n",
      "0.5129777777777778\n",
      "0.5121555555555556\n",
      "0.5118666666666667\n",
      "0.5086\n",
      "0.5115555555555555\n",
      "0.5109555555555556\n",
      "0.5100222222222223\n",
      "0.5048444444444444\n",
      "0.5043777777777778\n",
      "0.5043333333333333\n",
      "0.5045111111111111\n",
      "0.5105333333333333\n",
      "0.5095777777777778\n",
      "0.5078888888888888\n",
      "0.5074444444444445\n",
      "0.5068222222222222\n",
      "0.5100444444444444\n",
      "0.5150666666666667\n",
      "0.5107111111111111\n",
      "0.5130888888888889\n",
      "0.5190444444444444\n",
      "0.5199111111111111\n",
      "0.5227111111111111\n",
      "0.5182666666666667\n",
      "0.5238222222222222\n",
      "0.5238444444444444\n",
      "0.5175777777777778\n",
      "0.5203333333333333\n",
      "0.5168888888888888\n",
      "0.5166888888888889\n",
      "0.5180888888888889\n",
      "0.5207555555555555\n",
      "0.5199555555555555\n",
      "0.5197111111111111\n",
      "0.5197333333333334\n",
      "0.5168666666666667\n",
      "0.5167333333333334\n",
      "0.5163111111111112\n",
      "0.5188\n",
      "0.5153555555555556\n",
      "0.5133777777777778\n",
      "0.5177333333333334\n",
      "0.5228222222222222\n",
      "0.5198888888888888\n",
      "0.5176666666666667\n",
      "0.5175555555555555\n",
      "0.5170666666666667\n",
      "0.5194222222222222\n",
      "0.5170222222222223\n",
      "0.5159777777777778\n",
      "0.5150444444444444\n",
      "0.5125333333333333\n",
      "0.5196888888888889\n",
      "0.5224\n",
      "0.5232\n",
      "0.5229777777777778\n",
      "0.5204888888888889\n",
      "0.5195333333333333\n",
      "0.5169555555555555\n",
      "0.5163555555555556\n",
      "0.5176\n",
      "0.5200666666666667\n",
      "0.5239555555555555\n",
      "0.5240222222222222\n",
      "0.5248\n",
      "0.5212\n",
      "0.5235555555555556\n",
      "0.5218444444444444\n",
      "0.5258222222222222\n",
      "0.5198444444444444\n",
      "0.5191777777777777\n",
      "0.5201333333333333\n",
      "0.5220444444444444\n",
      "0.5207555555555555\n",
      "0.5187333333333334\n",
      "0.5183555555555556\n",
      "0.5195333333333333\n",
      "0.5192666666666667\n",
      "0.5199555555555555\n",
      "0.5179555555555555\n",
      "0.5179333333333334\n",
      "0.5190222222222223\n",
      "0.5236\n",
      "0.5212222222222223\n",
      "0.5187111111111111\n",
      "0.5132666666666666\n",
      "0.5161777777777777\n",
      "0.5114888888888889\n",
      "0.5174444444444445\n",
      "0.5141777777777777\n",
      "0.5171777777777777\n",
      "0.5143111111111112\n",
      "0.5158666666666667\n",
      "0.5164666666666666\n",
      "0.5115777777777778\n",
      "0.5167333333333334\n",
      "0.5177777777777778\n",
      "0.514\n",
      "0.5131111111111111\n",
      "0.5118\n",
      "0.5141111111111111\n",
      "0.5122444444444444\n",
      "0.5105555555555555\n",
      "0.5087333333333334\n",
      "0.5117111111111111\n",
      "0.512\n",
      "0.5116444444444445\n",
      "0.5095333333333333\n",
      "0.5089111111111111\n",
      "0.5133555555555556\n",
      "0.5166666666666667\n",
      "0.5195111111111111\n",
      "0.5192666666666667\n",
      "0.5180444444444444\n",
      "0.519\n",
      "0.5244666666666666\n",
      "0.5223111111111111\n",
      "0.5199555555555555\n",
      "0.5216888888888889\n",
      "0.5198666666666667\n",
      "0.5163555555555556\n",
      "0.5157333333333334\n",
      "0.5176666666666667\n",
      "0.5156666666666667\n",
      "0.5154\n",
      "0.5162888888888889\n",
      "0.5210888888888889\n",
      "0.5202666666666667\n",
      "0.5234\n",
      "0.5252666666666667\n",
      "0.5245777777777778\n",
      "0.5266888888888889\n",
      "0.5240222222222222\n",
      "0.5256888888888889\n",
      "0.5269777777777778\n",
      "0.5295777777777778\n",
      "0.5225333333333333\n",
      "0.5263111111111111\n",
      "0.5248666666666667\n",
      "0.5235333333333333\n",
      "0.5244666666666666\n",
      "0.5256\n",
      "0.5222\n",
      "0.5232444444444444\n",
      "0.5240222222222222\n",
      "0.5289333333333334\n",
      "0.5246444444444445\n",
      "0.5224888888888889\n",
      "0.5216666666666666\n",
      "0.5258444444444444\n",
      "0.5277111111111111\n",
      "0.5264222222222222\n",
      "0.5247777777777778\n",
      "0.5260444444444444\n",
      "0.5257333333333334\n",
      "0.5264222222222222\n",
      "0.5237555555555555\n",
      "0.5253111111111111\n",
      "0.5265333333333333\n",
      "0.5280666666666667\n",
      "0.5291555555555556\n",
      "0.5255777777777778\n",
      "0.5257111111111111\n",
      "0.5268888888888889\n",
      "0.5248888888888888\n",
      "0.5226222222222222\n",
      "0.5243333333333333\n",
      "0.5240444444444444\n",
      "0.5244444444444445\n",
      "0.5238444444444444\n",
      "0.5210666666666667\n",
      "0.5177111111111111\n",
      "0.5207555555555555\n",
      "0.5236888888888889\n",
      "0.5231111111111111\n",
      "0.5245555555555556\n",
      "0.5284\n",
      "0.5287111111111111\n",
      "0.5266666666666666\n",
      "0.5268\n",
      "0.5261777777777777\n",
      "0.5286\n",
      "0.5294444444444445\n",
      "0.5285555555555556\n",
      "0.5277333333333334\n",
      "0.5275777777777778\n",
      "0.5283333333333333\n",
      "0.5290444444444444\n",
      "0.5285777777777778\n",
      "0.5245111111111112\n",
      "0.5274666666666666\n",
      "0.5279333333333334\n",
      "0.5243777777777778\n",
      "0.5267111111111111\n",
      "0.5246888888888889\n",
      "0.5244222222222222\n",
      "0.5267555555555555\n",
      "0.5311555555555556\n",
      "0.5242222222222223\n",
      "0.5201111111111111\n",
      "0.5217333333333334\n",
      "0.5205777777777778\n",
      "0.5244666666666666\n",
      "0.5242666666666667\n",
      "0.5266222222222222\n",
      "0.5243333333333333\n",
      "0.5190444444444444\n",
      "0.5226888888888889\n",
      "0.5257333333333334\n",
      "0.5225333333333333\n",
      "0.5263333333333333\n",
      "0.5280444444444444\n",
      "0.5283555555555556\n",
      "0.5286444444444445\n",
      "0.5283333333333333\n",
      "0.5252444444444444\n",
      "0.5268444444444444\n",
      "0.5267111111111111\n",
      "0.5293777777777777\n",
      "0.5296666666666666\n",
      "0.5304444444444445\n",
      "0.5289333333333334\n",
      "0.5292666666666667\n",
      "0.5273111111111111\n",
      "0.5291333333333333\n",
      "0.5293555555555556\n",
      "0.5295111111111112\n",
      "0.5293777777777777\n",
      "0.5258888888888889\n",
      "0.5266\n",
      "0.5265555555555556\n",
      "0.5262222222222223\n",
      "0.5261777777777777\n",
      "0.529\n",
      "0.5261777777777777\n",
      "0.5291333333333333\n",
      "0.5263777777777778\n",
      "0.5315111111111112\n",
      "0.5304888888888889\n",
      "0.5280888888888889\n",
      "0.5288444444444445\n",
      "0.525\n",
      "0.5235111111111111\n",
      "0.5288444444444445\n",
      "0.5314666666666666\n",
      "0.5328444444444445\n",
      "0.5311555555555556\n",
      "0.5275777777777778\n",
      "0.5258222222222222\n",
      "0.5263777777777778\n",
      "0.5254222222222222\n",
      "0.5254444444444445\n",
      "0.5242\n",
      "0.5232\n",
      "0.5268222222222222\n",
      "0.5283555555555556\n",
      "0.5287111111111111\n",
      "0.5288222222222222\n",
      "0.5225777777777778\n",
      "0.5228\n",
      "0.522\n",
      "0.5242888888888889\n",
      "0.5243555555555556\n",
      "0.5236222222222222\n",
      "0.5242444444444444\n",
      "0.5317333333333333\n",
      "0.5286222222222222\n",
      "0.5259111111111111\n",
      "0.5261111111111111\n",
      "0.5288444444444445\n",
      "0.5316888888888889\n",
      "0.5238666666666667\n",
      "0.5223777777777778\n",
      "0.5213777777777778\n",
      "0.5194666666666666\n",
      "0.5191333333333333\n",
      "0.5152888888888889\n",
      "0.5171333333333333\n",
      "0.5151777777777777\n",
      "0.5178\n",
      "0.5177111111111111\n",
      "0.5148\n",
      "0.5238888888888888\n",
      "0.5228666666666667\n",
      "0.5241777777777777\n",
      "0.5258666666666667\n",
      "0.5275111111111112\n",
      "0.5279333333333334\n",
      "0.5266\n",
      "0.5272222222222223\n",
      "0.5283333333333333\n",
      "0.5270666666666667\n",
      "0.53\n",
      "0.5311333333333333\n",
      "0.5315333333333333\n",
      "0.5275333333333333\n",
      "0.5277111111111111\n",
      "0.5288888888888889\n",
      "0.5272666666666667\n",
      "0.5280444444444444\n",
      "0.5316\n",
      "0.5299333333333334\n",
      "0.5269777777777778\n",
      "0.5280888888888889\n",
      "0.5307333333333333\n",
      "0.5273333333333333\n",
      "0.5269777777777778\n",
      "0.5295333333333333\n",
      "0.5287555555555555\n",
      "0.5299333333333334\n",
      "0.5283333333333333\n",
      "0.5274\n",
      "0.5316666666666666\n",
      "0.5311777777777777\n",
      "0.5260444444444444\n",
      "0.5318\n",
      "0.5309111111111111\n",
      "0.5273333333333333\n",
      "0.5227555555555555\n",
      "0.5256444444444445\n",
      "0.5256888888888889\n",
      "0.5263555555555556\n",
      "0.5280444444444444\n",
      "0.5297333333333333\n",
      "0.531\n",
      "0.5304\n",
      "0.5283555555555556\n",
      "0.5263555555555556\n",
      "0.5276666666666666\n",
      "0.5285333333333333\n",
      "0.5280888888888889\n",
      "0.5253555555555556\n",
      "0.5234888888888889\n",
      "0.5266\n",
      "0.5268444444444444\n",
      "0.5256888888888889\n",
      "0.5236888888888889\n",
      "0.5231333333333333\n",
      "0.5200666666666667\n",
      "0.5195555555555555\n",
      "0.5205111111111111\n",
      "0.523\n",
      "0.5297555555555555\n",
      "0.5286666666666666\n",
      "0.5258222222222222\n",
      "0.5202444444444444\n",
      "0.526\n",
      "0.5260888888888889\n",
      "0.5283777777777777\n",
      "0.528\n",
      "0.5259555555555555\n",
      "0.5256444444444445\n",
      "0.5251777777777777\n",
      "0.5266222222222222\n",
      "0.5240888888888889\n",
      "0.5227555555555555\n",
      "0.5198222222222222\n",
      "0.5264444444444445\n",
      "0.5218888888888888\n",
      "0.5259333333333334\n",
      "0.5259111111111111\n",
      "0.5246222222222222\n",
      "0.5243555555555556\n",
      "0.5229555555555555\n",
      "0.5281111111111111\n",
      "0.5257111111111111\n",
      "0.5235777777777778\n",
      "0.5225333333333333\n",
      "0.5290888888888889\n",
      "0.5280222222222222\n",
      "0.5322\n",
      "0.5304888888888889\n",
      "0.5262888888888889\n",
      "0.5315555555555556\n",
      "0.5309555555555555\n",
      "0.5295777777777778\n",
      "0.5293111111111111\n",
      "0.5270666666666667\n",
      "0.5240444444444444\n",
      "0.529\n",
      "0.5263111111111111\n",
      "0.5258888888888889\n",
      "0.5264\n",
      "0.5258888888888889\n",
      "0.5275111111111112\n",
      "0.5278666666666667\n",
      "0.5277333333333334\n",
      "0.5259555555555555\n",
      "0.5229555555555555\n",
      "0.5190666666666667\n",
      "0.5190666666666667\n"
     ]
    }
   ],
   "source": [
    "res = net.SGD(training_data, learning_rate=3.0)"
   ]
  },
  {
   "cell_type": "code",
   "execution_count": 64,
   "metadata": {
    "slideshow": {
     "slide_type": "subslide"
    }
   },
   "outputs": [],
   "source": [
    "# Accuracy at convergence:"
   ]
  },
  {
   "cell_type": "markdown",
   "metadata": {
    "slideshow": {
     "slide_type": "-"
    }
   },
   "source": [
    "![NN convergence](./images/NN-convergence.png)"
   ]
  },
  {
   "cell_type": "markdown",
   "metadata": {},
   "source": [
    "Is convergence monotonic?"
   ]
  },
  {
   "cell_type": "markdown",
   "metadata": {
    "slideshow": {
     "slide_type": "subslide"
    }
   },
   "source": [
    "#### Ad-hoc (Mis)classifications Check"
   ]
  },
  {
   "cell_type": "code",
   "execution_count": 48,
   "metadata": {},
   "outputs": [
    {
     "data": {
      "text/plain": [
       "array([[0.  ],\n",
       "       [0.  ],\n",
       "       [0.02],\n",
       "       [0.01],\n",
       "       [0.04],\n",
       "       [0.01],\n",
       "       [0.16],\n",
       "       [0.01],\n",
       "       [1.  ],\n",
       "       [0.01]])"
      ]
     },
     "execution_count": 48,
     "metadata": {},
     "output_type": "execute_result"
    }
   ],
   "source": [
    "img_number = 10\n",
    "res[img_number].round(2)"
   ]
  },
  {
   "cell_type": "code",
   "execution_count": 49,
   "metadata": {},
   "outputs": [
    {
     "data": {
      "text/plain": [
       "('Shirt', 'Pullover')"
      ]
     },
     "execution_count": 49,
     "metadata": {},
     "output_type": "execute_result"
    }
   ],
   "source": [
    "img_number = 0\n",
    "predicted = label_dict[np.argmax(res[img_number])]\n",
    "observed = label_dict[y[img_number]]\n",
    "(predicted, observed)"
   ]
  },
  {
   "cell_type": "markdown",
   "metadata": {
    "slideshow": {
     "slide_type": "subslide"
    }
   },
   "source": [
    "#### Evaluate Performance via Confusion Matrix"
   ]
  },
  {
   "cell_type": "code",
   "execution_count": 50,
   "metadata": {},
   "outputs": [],
   "source": [
    "y_pred_train_nn = [np.argmax(x) for x in res]"
   ]
  },
  {
   "cell_type": "code",
   "execution_count": 56,
   "metadata": {},
   "outputs": [
    {
     "data": {
      "text/plain": [
       "array([[   0,    0,    5,  709,   22,   12, 3615,    0,  123,   14],\n",
       "       [   0,    0,    3, 3924,   60,  121,  366,    0,    8,   18],\n",
       "       [   0,    0,   31,   42,  254,    4, 4066,    0,  101,    2],\n",
       "       [   0,    0,    2, 3902,  156,    4,  388,    1,   43,    4],\n",
       "       [   0,    0,    3,  180, 2057,    3, 2207,    0,   49,    1],\n",
       "       [   0,    0,    2,    1,    1, 3509,    8,  670,   71,  238],\n",
       "       [   0,    0,    4,  206,  734,    7, 3386,    1,  160,    2],\n",
       "       [   0,    0,    0,    0,    0, 1922,    0, 2092,   24,  462],\n",
       "       [   0,    0,    0,   34,   21,   36,  115,   16, 4267,   11],\n",
       "       [   0,    0,    0,    0,    0,  134,    0,  245,    7, 4114]])"
      ]
     },
     "execution_count": 56,
     "metadata": {},
     "output_type": "execute_result"
    }
   ],
   "source": [
    "conf_mat_nn = confusion_matrix(y_true=y,\n",
    "                               y_pred=y_pred_train_nn)\n",
    "conf_mat_nn"
   ]
  },
  {
   "cell_type": "code",
   "execution_count": 62,
   "metadata": {
    "slideshow": {
     "slide_type": "subslide"
    }
   },
   "outputs": [
    {
     "data": {
      "text/html": [
       "<div>\n",
       "<style scoped>\n",
       "    .dataframe tbody tr th:only-of-type {\n",
       "        vertical-align: middle;\n",
       "    }\n",
       "\n",
       "    .dataframe tbody tr th {\n",
       "        vertical-align: top;\n",
       "    }\n",
       "\n",
       "    .dataframe thead th {\n",
       "        text-align: right;\n",
       "    }\n",
       "</style>\n",
       "<table border=\"1\" class=\"dataframe\">\n",
       "  <thead>\n",
       "    <tr style=\"text-align: right;\">\n",
       "      <th></th>\n",
       "      <th>T-shirt/top</th>\n",
       "      <th>Trouser</th>\n",
       "      <th>Pullover</th>\n",
       "      <th>Dress</th>\n",
       "      <th>Coat</th>\n",
       "      <th>Sandal</th>\n",
       "      <th>Shirt</th>\n",
       "      <th>Sneaker</th>\n",
       "      <th>Bag</th>\n",
       "      <th>Ankle boot</th>\n",
       "    </tr>\n",
       "  </thead>\n",
       "  <tbody>\n",
       "    <tr>\n",
       "      <th>T-shirt/top</th>\n",
       "      <td>0.0</td>\n",
       "      <td>0.0</td>\n",
       "      <td>0.00</td>\n",
       "      <td>0.16</td>\n",
       "      <td>0.00</td>\n",
       "      <td>0.00</td>\n",
       "      <td>0.80</td>\n",
       "      <td>0.00</td>\n",
       "      <td>0.03</td>\n",
       "      <td>0.00</td>\n",
       "    </tr>\n",
       "    <tr>\n",
       "      <th>Trouser</th>\n",
       "      <td>0.0</td>\n",
       "      <td>0.0</td>\n",
       "      <td>0.00</td>\n",
       "      <td>0.87</td>\n",
       "      <td>0.01</td>\n",
       "      <td>0.03</td>\n",
       "      <td>0.08</td>\n",
       "      <td>0.00</td>\n",
       "      <td>0.00</td>\n",
       "      <td>0.00</td>\n",
       "    </tr>\n",
       "    <tr>\n",
       "      <th>Pullover</th>\n",
       "      <td>0.0</td>\n",
       "      <td>0.0</td>\n",
       "      <td>0.01</td>\n",
       "      <td>0.01</td>\n",
       "      <td>0.06</td>\n",
       "      <td>0.00</td>\n",
       "      <td>0.90</td>\n",
       "      <td>0.00</td>\n",
       "      <td>0.02</td>\n",
       "      <td>0.00</td>\n",
       "    </tr>\n",
       "    <tr>\n",
       "      <th>Dress</th>\n",
       "      <td>0.0</td>\n",
       "      <td>0.0</td>\n",
       "      <td>0.00</td>\n",
       "      <td>0.87</td>\n",
       "      <td>0.03</td>\n",
       "      <td>0.00</td>\n",
       "      <td>0.09</td>\n",
       "      <td>0.00</td>\n",
       "      <td>0.01</td>\n",
       "      <td>0.00</td>\n",
       "    </tr>\n",
       "    <tr>\n",
       "      <th>Coat</th>\n",
       "      <td>0.0</td>\n",
       "      <td>0.0</td>\n",
       "      <td>0.00</td>\n",
       "      <td>0.04</td>\n",
       "      <td>0.46</td>\n",
       "      <td>0.00</td>\n",
       "      <td>0.49</td>\n",
       "      <td>0.00</td>\n",
       "      <td>0.01</td>\n",
       "      <td>0.00</td>\n",
       "    </tr>\n",
       "    <tr>\n",
       "      <th>Sandal</th>\n",
       "      <td>0.0</td>\n",
       "      <td>0.0</td>\n",
       "      <td>0.00</td>\n",
       "      <td>0.00</td>\n",
       "      <td>0.00</td>\n",
       "      <td>0.78</td>\n",
       "      <td>0.00</td>\n",
       "      <td>0.15</td>\n",
       "      <td>0.02</td>\n",
       "      <td>0.05</td>\n",
       "    </tr>\n",
       "    <tr>\n",
       "      <th>Shirt</th>\n",
       "      <td>0.0</td>\n",
       "      <td>0.0</td>\n",
       "      <td>0.00</td>\n",
       "      <td>0.05</td>\n",
       "      <td>0.16</td>\n",
       "      <td>0.00</td>\n",
       "      <td>0.75</td>\n",
       "      <td>0.00</td>\n",
       "      <td>0.04</td>\n",
       "      <td>0.00</td>\n",
       "    </tr>\n",
       "    <tr>\n",
       "      <th>Sneaker</th>\n",
       "      <td>0.0</td>\n",
       "      <td>0.0</td>\n",
       "      <td>0.00</td>\n",
       "      <td>0.00</td>\n",
       "      <td>0.00</td>\n",
       "      <td>0.43</td>\n",
       "      <td>0.00</td>\n",
       "      <td>0.46</td>\n",
       "      <td>0.01</td>\n",
       "      <td>0.10</td>\n",
       "    </tr>\n",
       "    <tr>\n",
       "      <th>Bag</th>\n",
       "      <td>0.0</td>\n",
       "      <td>0.0</td>\n",
       "      <td>0.00</td>\n",
       "      <td>0.01</td>\n",
       "      <td>0.00</td>\n",
       "      <td>0.01</td>\n",
       "      <td>0.03</td>\n",
       "      <td>0.00</td>\n",
       "      <td>0.95</td>\n",
       "      <td>0.00</td>\n",
       "    </tr>\n",
       "    <tr>\n",
       "      <th>Ankle boot</th>\n",
       "      <td>0.0</td>\n",
       "      <td>0.0</td>\n",
       "      <td>0.00</td>\n",
       "      <td>0.00</td>\n",
       "      <td>0.00</td>\n",
       "      <td>0.03</td>\n",
       "      <td>0.00</td>\n",
       "      <td>0.05</td>\n",
       "      <td>0.00</td>\n",
       "      <td>0.91</td>\n",
       "    </tr>\n",
       "  </tbody>\n",
       "</table>\n",
       "</div>"
      ],
      "text/plain": [
       "             T-shirt/top  Trouser  Pullover  Dress  Coat  Sandal  Shirt  \\\n",
       "T-shirt/top          0.0      0.0      0.00   0.16  0.00    0.00   0.80   \n",
       "Trouser              0.0      0.0      0.00   0.87  0.01    0.03   0.08   \n",
       "Pullover             0.0      0.0      0.01   0.01  0.06    0.00   0.90   \n",
       "Dress                0.0      0.0      0.00   0.87  0.03    0.00   0.09   \n",
       "Coat                 0.0      0.0      0.00   0.04  0.46    0.00   0.49   \n",
       "Sandal               0.0      0.0      0.00   0.00  0.00    0.78   0.00   \n",
       "Shirt                0.0      0.0      0.00   0.05  0.16    0.00   0.75   \n",
       "Sneaker              0.0      0.0      0.00   0.00  0.00    0.43   0.00   \n",
       "Bag                  0.0      0.0      0.00   0.01  0.00    0.01   0.03   \n",
       "Ankle boot           0.0      0.0      0.00   0.00  0.00    0.03   0.00   \n",
       "\n",
       "             Sneaker   Bag  Ankle boot  \n",
       "T-shirt/top     0.00  0.03        0.00  \n",
       "Trouser         0.00  0.00        0.00  \n",
       "Pullover        0.00  0.02        0.00  \n",
       "Dress           0.00  0.01        0.00  \n",
       "Coat            0.00  0.01        0.00  \n",
       "Sandal          0.15  0.02        0.05  \n",
       "Shirt           0.00  0.04        0.00  \n",
       "Sneaker         0.46  0.01        0.10  \n",
       "Bag             0.00  0.95        0.00  \n",
       "Ankle boot      0.05  0.00        0.91  "
      ]
     },
     "execution_count": 62,
     "metadata": {},
     "output_type": "execute_result"
    }
   ],
   "source": [
    "conf_df_nn = pd.DataFrame(conf_mat_nn, class_names, class_names)\n",
    "conf_df_pct_nn = conf_df_nn/conf_df_nn.sum(axis=1)\n",
    "round(conf_df_pct_nn, 2)"
   ]
  },
  {
   "cell_type": "markdown",
   "metadata": {},
   "source": [
    "Anything jump out as reasonable misclassification?"
   ]
  },
  {
   "cell_type": "markdown",
   "metadata": {
    "slideshow": {
     "slide_type": "fragment"
    }
   },
   "source": [
    "Anything jump out as egregious misclassification?"
   ]
  },
  {
   "cell_type": "code",
   "execution_count": 63,
   "metadata": {
    "slideshow": {
     "slide_type": "subslide"
    }
   },
   "outputs": [
    {
     "data": {
      "text/html": [
       "<div>\n",
       "<style scoped>\n",
       "    .dataframe tbody tr th:only-of-type {\n",
       "        vertical-align: middle;\n",
       "    }\n",
       "\n",
       "    .dataframe tbody tr th {\n",
       "        vertical-align: top;\n",
       "    }\n",
       "\n",
       "    .dataframe thead th {\n",
       "        text-align: right;\n",
       "    }\n",
       "</style>\n",
       "<table border=\"1\" class=\"dataframe\">\n",
       "  <thead>\n",
       "    <tr style=\"text-align: right;\">\n",
       "      <th></th>\n",
       "      <th>T-shirt/top</th>\n",
       "      <th>Trouser</th>\n",
       "      <th>Pullover</th>\n",
       "      <th>Dress</th>\n",
       "      <th>Coat</th>\n",
       "      <th>Sandal</th>\n",
       "      <th>Shirt</th>\n",
       "      <th>Sneaker</th>\n",
       "      <th>Bag</th>\n",
       "      <th>Ankle boot</th>\n",
       "    </tr>\n",
       "  </thead>\n",
       "  <tbody>\n",
       "    <tr>\n",
       "      <th>T-shirt/top</th>\n",
       "      <td>0.87</td>\n",
       "      <td>0.00</td>\n",
       "      <td>0.01</td>\n",
       "      <td>0.04</td>\n",
       "      <td>0.01</td>\n",
       "      <td>0.00</td>\n",
       "      <td>0.05</td>\n",
       "      <td>0.00</td>\n",
       "      <td>0.01</td>\n",
       "      <td>0.00</td>\n",
       "    </tr>\n",
       "    <tr>\n",
       "      <th>Trouser</th>\n",
       "      <td>0.00</td>\n",
       "      <td>0.96</td>\n",
       "      <td>0.01</td>\n",
       "      <td>0.03</td>\n",
       "      <td>0.00</td>\n",
       "      <td>0.00</td>\n",
       "      <td>0.00</td>\n",
       "      <td>0.00</td>\n",
       "      <td>0.00</td>\n",
       "      <td>0.00</td>\n",
       "    </tr>\n",
       "    <tr>\n",
       "      <th>Pullover</th>\n",
       "      <td>0.00</td>\n",
       "      <td>0.00</td>\n",
       "      <td>0.83</td>\n",
       "      <td>0.01</td>\n",
       "      <td>0.11</td>\n",
       "      <td>0.00</td>\n",
       "      <td>0.04</td>\n",
       "      <td>0.00</td>\n",
       "      <td>0.01</td>\n",
       "      <td>0.00</td>\n",
       "    </tr>\n",
       "    <tr>\n",
       "      <th>Dress</th>\n",
       "      <td>0.02</td>\n",
       "      <td>0.00</td>\n",
       "      <td>0.01</td>\n",
       "      <td>0.92</td>\n",
       "      <td>0.03</td>\n",
       "      <td>0.00</td>\n",
       "      <td>0.02</td>\n",
       "      <td>0.00</td>\n",
       "      <td>0.00</td>\n",
       "      <td>0.00</td>\n",
       "    </tr>\n",
       "    <tr>\n",
       "      <th>Coat</th>\n",
       "      <td>0.00</td>\n",
       "      <td>0.00</td>\n",
       "      <td>0.06</td>\n",
       "      <td>0.04</td>\n",
       "      <td>0.87</td>\n",
       "      <td>0.00</td>\n",
       "      <td>0.03</td>\n",
       "      <td>0.00</td>\n",
       "      <td>0.00</td>\n",
       "      <td>0.00</td>\n",
       "    </tr>\n",
       "    <tr>\n",
       "      <th>Sandal</th>\n",
       "      <td>0.00</td>\n",
       "      <td>0.00</td>\n",
       "      <td>0.00</td>\n",
       "      <td>0.00</td>\n",
       "      <td>0.00</td>\n",
       "      <td>0.94</td>\n",
       "      <td>0.00</td>\n",
       "      <td>0.04</td>\n",
       "      <td>0.01</td>\n",
       "      <td>0.01</td>\n",
       "    </tr>\n",
       "    <tr>\n",
       "      <th>Shirt</th>\n",
       "      <td>0.15</td>\n",
       "      <td>0.00</td>\n",
       "      <td>0.11</td>\n",
       "      <td>0.03</td>\n",
       "      <td>0.08</td>\n",
       "      <td>0.00</td>\n",
       "      <td>0.61</td>\n",
       "      <td>0.00</td>\n",
       "      <td>0.02</td>\n",
       "      <td>0.00</td>\n",
       "    </tr>\n",
       "    <tr>\n",
       "      <th>Sneaker</th>\n",
       "      <td>0.00</td>\n",
       "      <td>0.00</td>\n",
       "      <td>0.00</td>\n",
       "      <td>0.00</td>\n",
       "      <td>0.00</td>\n",
       "      <td>0.01</td>\n",
       "      <td>0.00</td>\n",
       "      <td>0.94</td>\n",
       "      <td>0.00</td>\n",
       "      <td>0.05</td>\n",
       "    </tr>\n",
       "    <tr>\n",
       "      <th>Bag</th>\n",
       "      <td>0.00</td>\n",
       "      <td>0.00</td>\n",
       "      <td>0.00</td>\n",
       "      <td>0.00</td>\n",
       "      <td>0.00</td>\n",
       "      <td>0.00</td>\n",
       "      <td>0.01</td>\n",
       "      <td>0.00</td>\n",
       "      <td>0.97</td>\n",
       "      <td>0.00</td>\n",
       "    </tr>\n",
       "    <tr>\n",
       "      <th>Ankle boot</th>\n",
       "      <td>0.00</td>\n",
       "      <td>0.00</td>\n",
       "      <td>0.00</td>\n",
       "      <td>0.00</td>\n",
       "      <td>0.00</td>\n",
       "      <td>0.01</td>\n",
       "      <td>0.00</td>\n",
       "      <td>0.03</td>\n",
       "      <td>0.00</td>\n",
       "      <td>0.96</td>\n",
       "    </tr>\n",
       "  </tbody>\n",
       "</table>\n",
       "</div>"
      ],
      "text/plain": [
       "             T-shirt/top  Trouser  Pullover  Dress  Coat  Sandal  Shirt  \\\n",
       "T-shirt/top         0.87     0.00      0.01   0.04  0.01    0.00   0.05   \n",
       "Trouser             0.00     0.96      0.01   0.03  0.00    0.00   0.00   \n",
       "Pullover            0.00     0.00      0.83   0.01  0.11    0.00   0.04   \n",
       "Dress               0.02     0.00      0.01   0.92  0.03    0.00   0.02   \n",
       "Coat                0.00     0.00      0.06   0.04  0.87    0.00   0.03   \n",
       "Sandal              0.00     0.00      0.00   0.00  0.00    0.94   0.00   \n",
       "Shirt               0.15     0.00      0.11   0.03  0.08    0.00   0.61   \n",
       "Sneaker             0.00     0.00      0.00   0.00  0.00    0.01   0.00   \n",
       "Bag                 0.00     0.00      0.00   0.00  0.00    0.00   0.01   \n",
       "Ankle boot          0.00     0.00      0.00   0.00  0.00    0.01   0.00   \n",
       "\n",
       "             Sneaker   Bag  Ankle boot  \n",
       "T-shirt/top     0.00  0.01        0.00  \n",
       "Trouser         0.00  0.00        0.00  \n",
       "Pullover        0.00  0.01        0.00  \n",
       "Dress           0.00  0.00        0.00  \n",
       "Coat            0.00  0.00        0.00  \n",
       "Sandal          0.04  0.01        0.01  \n",
       "Shirt           0.00  0.02        0.00  \n",
       "Sneaker         0.94  0.00        0.05  \n",
       "Bag             0.00  0.97        0.00  \n",
       "Ankle boot      0.03  0.00        0.96  "
      ]
     },
     "execution_count": 63,
     "metadata": {},
     "output_type": "execute_result"
    }
   ],
   "source": [
    "# Compare with confusion matrix from RF:\n",
    "round(conf_df_pct, 2)\n"
   ]
  },
  {
   "cell_type": "markdown",
   "metadata": {
    "slideshow": {
     "slide_type": "subslide"
    }
   },
   "source": [
    "Should we refactor this code:\n",
    "```\n",
    "conf_df_nn = pd.DataFrame(conf_mat_nn, class_names, class_names)\n",
    "conf_df_pct_nn = conf_df_nn/conf_df_nn.sum(axis=1)\n",
    "round(conf_df_pct_nn, 2)\n",
    "```\n",
    "into a function?"
   ]
  },
  {
   "cell_type": "markdown",
   "metadata": {
    "slideshow": {
     "slide_type": "subslide"
    }
   },
   "source": [
    "#### Evaluate Performance via F1-score"
   ]
  },
  {
   "cell_type": "code",
   "execution_count": 54,
   "metadata": {},
   "outputs": [
    {
     "name": "stderr",
     "output_type": "stream",
     "text": [
      "/Users/irina/Documents/Stats_404_W19/Envs/env-stats404-class0/lib/python3.7/site-packages/sklearn/metrics/classification.py:1143: UndefinedMetricWarning: F-score is ill-defined and being set to 0.0 in labels with no predicted samples.\n",
      "  'precision', 'predicted', average, warn_for)\n"
     ]
    },
    {
     "data": {
      "text/plain": [
       "0.45134684144071696"
      ]
     },
     "execution_count": 54,
     "metadata": {},
     "output_type": "execute_result"
    }
   ],
   "source": [
    "# Class-level performance:\n",
    "f1_score(y_true=y,\n",
    "         y_pred=y_pred_train_nn,\n",
    "         average='macro')"
   ]
  },
  {
   "cell_type": "code",
   "execution_count": 55,
   "metadata": {},
   "outputs": [
    {
     "data": {
      "text/plain": [
       "0.5190666666666667"
      ]
     },
     "execution_count": 55,
     "metadata": {},
     "output_type": "execute_result"
    }
   ],
   "source": [
    "# Class-level performance:\n",
    "f1_score(y_true=y,\n",
    "         y_pred=y_pred_train_nn,\n",
    "         average='micro')"
   ]
  },
  {
   "cell_type": "markdown",
   "metadata": {
    "slideshow": {
     "slide_type": "fragment"
    }
   },
   "source": [
    "Are we suprised by these results?"
   ]
  },
  {
   "cell_type": "markdown",
   "metadata": {
    "slideshow": {
     "slide_type": "subslide"
    }
   },
   "source": [
    "What do we think about the model?"
   ]
  },
  {
   "cell_type": "markdown",
   "metadata": {
    "slideshow": {
     "slide_type": "fragment"
    }
   },
   "source": [
    "![Warning](./images/warning.png) Just because we iterated on the model, model improvement is not guaranteed (!)."
   ]
  },
  {
   "cell_type": "markdown",
   "metadata": {
    "slideshow": {
     "slide_type": "fragment"
    }
   },
   "source": [
    "Should we ensemble current NN with RF model? Why?"
   ]
  },
  {
   "cell_type": "markdown",
   "metadata": {
    "slideshow": {
     "slide_type": "fragment"
    }
   },
   "source": [
    "What are some approaches to improve NN model performance?"
   ]
  },
  {
   "cell_type": "markdown",
   "metadata": {
    "slideshow": {
     "slide_type": "fragment"
    }
   },
   "source": [
    "What are alternative approaches for next model iteration?"
   ]
  },
  {
   "cell_type": "markdown",
   "metadata": {
    "slideshow": {
     "slide_type": "slide"
    }
   },
   "source": [
    "# Back to the Business Question"
   ]
  },
  {
   "cell_type": "markdown",
   "metadata": {},
   "source": [
    "**Use case**: Help tag item category to improve search results."
   ]
  },
  {
   "cell_type": "markdown",
   "metadata": {},
   "source": [
    "Models are not perfect and model may make a mistake. Let's think about misclassification rate... Which is more costly to seller?"
   ]
  },
  {
   "cell_type": "markdown",
   "metadata": {
    "slideshow": {
     "slide_type": "fragment"
    }
   },
   "source": [
    "Which is more costly to buyer?"
   ]
  },
  {
   "cell_type": "markdown",
   "metadata": {
    "slideshow": {
     "slide_type": "subslide"
    }
   },
   "source": [
    "Ideas to improve recommendations using current model framework (RF or NN)?"
   ]
  },
  {
   "cell_type": "markdown",
   "metadata": {
    "slideshow": {
     "slide_type": "fragment"
    }
   },
   "source": [
    "Hint: can we leverage probabilities?"
   ]
  },
  {
   "cell_type": "markdown",
   "metadata": {
    "slideshow": {
     "slide_type": "fragment"
    }
   },
   "source": [
    "Hint: can we leverage category hierarchy?"
   ]
  }
 ],
 "metadata": {
  "kernelspec": {
   "display_name": "env-stats404-class0",
   "language": "python",
   "name": "env-stats404-class0"
  },
  "language_info": {
   "codemirror_mode": {
    "name": "ipython",
    "version": 3
   },
   "file_extension": ".py",
   "mimetype": "text/x-python",
   "name": "python",
   "nbconvert_exporter": "python",
   "pygments_lexer": "ipython3",
   "version": "3.7.0"
  }
 },
 "nbformat": 4,
 "nbformat_minor": 2
}
