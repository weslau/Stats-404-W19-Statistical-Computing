{
 "cells": [
  {
   "cell_type": "markdown",
   "metadata": {
    "slideshow": {
     "slide_type": "slide"
    }
   },
   "source": [
    "# Introduction to AWS Simple Cloud Storage Service (S3)\n",
    "Prerequisites:\n",
    "- Installation of `boto3`\n",
    "- Creating and adding AWS credentials to `.aws/credentials` file\n",
    "- Creating and adding AWS region for computing resources in `.aws/config` file"
   ]
  },
  {
   "cell_type": "code",
   "execution_count": 1,
   "metadata": {},
   "outputs": [],
   "source": [
    "import boto3\n",
    "import joblib\n",
    "import pandas as pd\n",
    "\n",
    "# Documentation: https://s3fs.readthedocs.io/en/latest/?badge=latest\n",
    "# Note: s3fs is a wrapper for boto3\n",
    "import s3fs "
   ]
  },
  {
   "cell_type": "markdown",
   "metadata": {
    "slideshow": {
     "slide_type": "slide"
    }
   },
   "source": [
    "## Connect to S3 Bucket on AWS"
   ]
  },
  {
   "cell_type": "code",
   "execution_count": 2,
   "metadata": {},
   "outputs": [],
   "source": [
    "# Approach 1: \n",
    "s3 = boto3.resource('s3')\n",
    "\n",
    "# Approach 2:\n",
    "# - anon=False: use AWS credentials to connect to file system, not as an anonymous user\n",
    "s3_fs = s3fs.S3FileSystem(anon=False)"
   ]
  },
  {
   "cell_type": "markdown",
   "metadata": {},
   "source": [
    "View list of all buckets available on AWS. Note: These are mine -- yours will differ:\n"
   ]
  },
  {
   "cell_type": "code",
   "execution_count": 3,
   "metadata": {
    "slideshow": {
     "slide_type": "subslide"
    }
   },
   "outputs": [
    {
     "name": "stdout",
     "output_type": "stream",
     "text": [
      "stats404-project-wl\n"
     ]
    }
   ],
   "source": [
    "for bucket in s3.buckets.all():\n",
    "    print(bucket.name)"
   ]
  },
  {
   "cell_type": "markdown",
   "metadata": {},
   "source": [
    "View list of objects in given bucket:"
   ]
  },
  {
   "cell_type": "code",
   "execution_count": 7,
   "metadata": {},
   "outputs": [
    {
     "name": "stdout",
     "output_type": "stream",
     "text": [
      "create virtual enviro windows.txt\n"
     ]
    }
   ],
   "source": [
    "for file in s3.Bucket('stats404-project-wl').objects.all():\n",
    "    print(file.key)"
   ]
  },
  {
   "cell_type": "markdown",
   "metadata": {
    "slideshow": {
     "slide_type": "slide"
    }
   },
   "source": [
    "## Upload CSV File to S3 Bucket"
   ]
  },
  {
   "cell_type": "code",
   "execution_count": 8,
   "metadata": {},
   "outputs": [],
   "source": [
    "# --- Step 1: Create a data set to upload -- or use one for your project:\n",
    "file_name = \"https://s3.amazonaws.com/h2o-airlines-unpacked/year1987.csv\"\n",
    "df = pd.read_csv(filepath_or_buffer=file_name,\n",
    "                 encoding='latin-1',\n",
    "                 nrows=1000\n",
    "                )\n"
   ]
  },
  {
   "cell_type": "code",
   "execution_count": 10,
   "metadata": {
    "slideshow": {
     "slide_type": "subslide"
    }
   },
   "outputs": [],
   "source": [
    "# --- Step 2: Specify name of bucket to upload to:\n",
    "bucket_name = \"stats404-project-wl\"\n",
    "\n",
    "# --- Step 3: Specify name of file to be created on s3, to store this CSV:\n",
    "key_name = \"airlines_data_1987_1000rows.csv\"\n",
    "\n",
    "# --- Step 4: Upload file to bucket and file name specified: \n",
    "with s3_fs.open(f\"{bucket_name}/{key_name}\",\"w\") as file:\n",
    "    df.to_csv(file)\n"
   ]
  },
  {
   "cell_type": "code",
   "execution_count": 11,
   "metadata": {},
   "outputs": [
    {
     "name": "stdout",
     "output_type": "stream",
     "text": [
      "airlines_data_1987_1000rows.csv\n",
      "create virtual enviro windows.txt\n"
     ]
    }
   ],
   "source": [
    "# --- Step 5: Check that file got uploaded:\n",
    "for file in s3.Bucket('stats404-project-wl').objects.all():\n",
    "    print(file.key)"
   ]
  },
  {
   "cell_type": "markdown",
   "metadata": {
    "slideshow": {
     "slide_type": "slide"
    }
   },
   "source": [
    "## Upload Model Object to S3 Bucket"
   ]
  },
  {
   "cell_type": "code",
   "execution_count": 17,
   "metadata": {},
   "outputs": [
    {
     "name": "stderr",
     "output_type": "stream",
     "text": [
      "Exception ignored in: <function S3File.__del__ at 0x0AE22ED0>\n",
      "Traceback (most recent call last):\n",
      "  File \"C:\\Users\\lauw02\\Documents\\Stats-404-W19-Statistical-Computing\\Envs\\env-stats404-class0\\lib\\site-packages\\s3fs\\core.py\", line 1476, in __del__\n",
      "    self.close()\n",
      "  File \"C:\\Users\\lauw02\\Documents\\Stats-404-W19-Statistical-Computing\\Envs\\env-stats404-class0\\lib\\site-packages\\s3fs\\core.py\", line 1454, in close\n",
      "    raise_from(IOError('Write failed: %s' % self.path), e)\n",
      "  File \"<string>\", line 3, in raise_from\n",
      "OSError: Write failed: stats404-project/airlines_data_1987_1000rows.csv\n"
     ]
    }
   ],
   "source": [
    "# --- Step 1: Load a previously estimated model object in workspace:\n",
    "rf_dict = joblib.load(\"../Class4/rf.joblib\") \n",
    "\n",
    "# --- Step 2: Keep bucket the same"
   ]
  },
  {
   "cell_type": "code",
   "execution_count": 18,
   "metadata": {
    "slideshow": {
     "slide_type": "subslide"
    }
   },
   "outputs": [],
   "source": [
    "# --- Step 3: Specify name of file to be created on s3, to store this model object:\n",
    "key_name = \"rf_Fashion_MNIST_500_trees.joblib\"\n",
    "\n",
    "# --- Step 4: Upload file to bucket and file name specified:\n",
    "with s3_fs.open(f\"{bucket_name}/{key_name}\",\"wb\") as file:\n",
    "    joblib.dump(rf_dict[500], file) \n"
   ]
  },
  {
   "cell_type": "code",
   "execution_count": 20,
   "metadata": {},
   "outputs": [
    {
     "name": "stdout",
     "output_type": "stream",
     "text": [
      "airlines_data_1987_1000rows.csv\n",
      "create virtual enviro windows.txt\n",
      "rf_Fashion_MNIST_500_trees.joblib\n"
     ]
    }
   ],
   "source": [
    "# --- Step 5: Check that file got uploaded:\n",
    "for file in s3.Bucket('stats404-project-wl').objects.all():\n",
    "    print(file.key)"
   ]
  },
  {
   "cell_type": "markdown",
   "metadata": {
    "slideshow": {
     "slide_type": "subslide"
    }
   },
   "source": [
    "On AWS, our bucket would look like this:"
   ]
  },
  {
   "cell_type": "markdown",
   "metadata": {},
   "source": [
    "![AWS_bucket](./images/bucket.png)"
   ]
  }
 ],
 "metadata": {
  "kernelspec": {
   "display_name": "env-stats404-class0",
   "language": "python",
   "name": "env-stats404-class0"
  },
  "language_info": {
   "codemirror_mode": {
    "name": "ipython",
    "version": 3
   },
   "file_extension": ".py",
   "mimetype": "text/x-python",
   "name": "python",
   "nbconvert_exporter": "python",
   "pygments_lexer": "ipython3",
   "version": "3.7.2"
  }
 },
 "nbformat": 4,
 "nbformat_minor": 2
}
