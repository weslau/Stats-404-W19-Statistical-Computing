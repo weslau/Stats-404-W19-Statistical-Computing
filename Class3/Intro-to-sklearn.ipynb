{
 "cells": [
  {
   "cell_type": "markdown",
   "metadata": {
    "slideshow": {
     "slide_type": "slide"
    }
   },
   "source": [
    "# Iterative Model Development Steps with Application to Airlines Dataset\n",
    "- Steps are outlined in https://goo.gl/A7P4vX\n",
    "- Link to airlines [dataset](https://github.com/h2oai/h2o-2/wiki/Hacking-Airline-DataSet-with-H2O)"
   ]
  },
  {
   "cell_type": "code",
   "execution_count": 1,
   "metadata": {
    "slideshow": {
     "slide_type": "subslide"
    }
   },
   "outputs": [],
   "source": [
    "from collections import Counter\n",
    "import inspect\n",
    "from joblib import dump, load\n",
    "import numpy as np\n",
    "import pandas as pd\n",
    "import sklearn\n",
    "from sklearn.model_selection import train_test_split\n",
    "from sklearn.linear_model import LogisticRegression\n",
    "from sklearn.metrics import confusion_matrix, roc_auc_score, f1_score"
   ]
  },
  {
   "cell_type": "code",
   "execution_count": 2,
   "metadata": {
    "slideshow": {
     "slide_type": "-"
    }
   },
   "outputs": [],
   "source": [
    "pd.options.display.max_columns = 50\n",
    "pd.options.display.max_rows = 8"
   ]
  },
  {
   "cell_type": "markdown",
   "metadata": {
    "slideshow": {
     "slide_type": "slide"
    }
   },
   "source": [
    "## Step 1: Understand Different Modeling Approaches\n",
    "- Model development is an art and science -- you may have done these steps differently. \n",
    "- Please let us know what you would have done!"
   ]
  },
  {
   "cell_type": "markdown",
   "metadata": {
    "slideshow": {
     "slide_type": "slide"
    }
   },
   "source": [
    "## Step 2: Understand Business Use Case\n",
    "Proposed use case -- there may be (many) others:\n",
    "- Client: Airline\n",
    "- Statement of Problem: Airline has to compensate passangers if flight was delayed by 2+ hours or if flight arrived 3+ hours later.\n",
    "- Question: Are there (any) aspects of delay that could have been prevented?"
   ]
  },
  {
   "cell_type": "markdown",
   "metadata": {
    "slideshow": {
     "slide_type": "fragment"
    }
   },
   "source": [
    "- Production environment:\n",
    "  - Jupyter notebook (for POC)\n",
    "  - Running Python 3.7\n",
    "  - requirements.txt"
   ]
  },
  {
   "cell_type": "markdown",
   "metadata": {
    "slideshow": {
     "slide_type": "fragment"
    }
   },
   "source": [
    "- Outcome variable: (arrival delay of 3+ hours or departure delay of 2+ hours) or not, per https://upgradedpoints.com/flight-delay-cancelation-compensation"
   ]
  },
  {
   "cell_type": "markdown",
   "metadata": {
    "slideshow": {
     "slide_type": "slide"
    }
   },
   "source": [
    "## Step 3: Get Access to Data"
   ]
  },
  {
   "cell_type": "markdown",
   "metadata": {
    "slideshow": {
     "slide_type": "fragment"
    }
   },
   "source": [
    "### Step 3-a: Read-in Data"
   ]
  },
  {
   "cell_type": "code",
   "execution_count": 3,
   "metadata": {
    "slideshow": {
     "slide_type": "-"
    }
   },
   "outputs": [],
   "source": [
    "file_name = \"https://s3.amazonaws.com/h2o-airlines-unpacked/year2012.csv\"\n",
    "df = pd.read_csv(filepath_or_buffer=file_name,\n",
    "                 encoding='latin-1')\n",
    "# df = pd.read_csv(\"2012.csv\")"
   ]
  },
  {
   "cell_type": "markdown",
   "metadata": {
    "slideshow": {
     "slide_type": "subslide"
    }
   },
   "source": [
    "### Step 3-b: EDA of Data"
   ]
  },
  {
   "cell_type": "code",
   "execution_count": 4,
   "metadata": {},
   "outputs": [
    {
     "data": {
      "text/plain": [
       "(6096762, 31)"
      ]
     },
     "execution_count": 4,
     "metadata": {},
     "output_type": "execute_result"
    }
   ],
   "source": [
    "df.shape"
   ]
  },
  {
   "cell_type": "code",
   "execution_count": 5,
   "metadata": {
    "slideshow": {
     "slide_type": "-"
    }
   },
   "outputs": [
    {
     "data": {
      "text/plain": [
       "Counter({1: 486133,\n",
       "         2: 464826,\n",
       "         3: 521628,\n",
       "         4: 505218,\n",
       "         5: 518423,\n",
       "         6: 526933,\n",
       "         7: 545131,\n",
       "         8: 540793,\n",
       "         9: 490199,\n",
       "         10: 515254,\n",
       "         11: 488006,\n",
       "         12: 494218})"
      ]
     },
     "execution_count": 5,
     "metadata": {},
     "output_type": "execute_result"
    }
   ],
   "source": [
    "Counter(df['Month'])"
   ]
  },
  {
   "cell_type": "code",
   "execution_count": 6,
   "metadata": {
    "slideshow": {
     "slide_type": "subslide"
    }
   },
   "outputs": [
    {
     "data": {
      "text/html": [
       "<div>\n",
       "<style scoped>\n",
       "    .dataframe tbody tr th:only-of-type {\n",
       "        vertical-align: middle;\n",
       "    }\n",
       "\n",
       "    .dataframe tbody tr th {\n",
       "        vertical-align: top;\n",
       "    }\n",
       "\n",
       "    .dataframe thead th {\n",
       "        text-align: right;\n",
       "    }\n",
       "</style>\n",
       "<table border=\"1\" class=\"dataframe\">\n",
       "  <thead>\n",
       "    <tr style=\"text-align: right;\">\n",
       "      <th></th>\n",
       "      <th>Year</th>\n",
       "      <th>Month</th>\n",
       "      <th>DayofMonth</th>\n",
       "      <th>DayOfWeek</th>\n",
       "      <th>DepTime</th>\n",
       "      <th>CRSDepTime</th>\n",
       "      <th>ArrTime</th>\n",
       "      <th>CRSArrTime</th>\n",
       "      <th>UniqueCarrier</th>\n",
       "      <th>FlightNum</th>\n",
       "      <th>TailNum</th>\n",
       "      <th>ActualElapsedTime</th>\n",
       "      <th>CRSElapsedTime</th>\n",
       "      <th>AirTime</th>\n",
       "      <th>ArrDelay</th>\n",
       "      <th>DepDelay</th>\n",
       "      <th>Origin</th>\n",
       "      <th>Dest</th>\n",
       "      <th>Distance</th>\n",
       "      <th>TaxiIn</th>\n",
       "      <th>TaxiOut</th>\n",
       "      <th>Cancelled</th>\n",
       "      <th>CancellationCode</th>\n",
       "      <th>Diverted</th>\n",
       "      <th>CarrierDelay</th>\n",
       "      <th>WeatherDelay</th>\n",
       "      <th>NASDelay</th>\n",
       "      <th>SecurityDelay</th>\n",
       "      <th>LateAircraftDelay</th>\n",
       "      <th>IsArrDelayed</th>\n",
       "      <th>IsDepDelayed</th>\n",
       "    </tr>\n",
       "  </thead>\n",
       "  <tbody>\n",
       "    <tr>\n",
       "      <th>0</th>\n",
       "      <td>2012</td>\n",
       "      <td>1</td>\n",
       "      <td>1</td>\n",
       "      <td>7</td>\n",
       "      <td>855.0</td>\n",
       "      <td>900.0</td>\n",
       "      <td>1142.0</td>\n",
       "      <td>1225.0</td>\n",
       "      <td>AA</td>\n",
       "      <td>1</td>\n",
       "      <td>N325AA</td>\n",
       "      <td>347.0</td>\n",
       "      <td>385.0</td>\n",
       "      <td>330.0</td>\n",
       "      <td>-43.0</td>\n",
       "      <td>-5.0</td>\n",
       "      <td>JFK</td>\n",
       "      <td>LAX</td>\n",
       "      <td>2475</td>\n",
       "      <td>4.0</td>\n",
       "      <td>13.0</td>\n",
       "      <td>0</td>\n",
       "      <td>NaN</td>\n",
       "      <td>0</td>\n",
       "      <td>0</td>\n",
       "      <td>0</td>\n",
       "      <td>0</td>\n",
       "      <td>0</td>\n",
       "      <td>0</td>\n",
       "      <td>NO</td>\n",
       "      <td>NO</td>\n",
       "    </tr>\n",
       "    <tr>\n",
       "      <th>1</th>\n",
       "      <td>2012</td>\n",
       "      <td>1</td>\n",
       "      <td>2</td>\n",
       "      <td>1</td>\n",
       "      <td>921.0</td>\n",
       "      <td>900.0</td>\n",
       "      <td>1210.0</td>\n",
       "      <td>1225.0</td>\n",
       "      <td>AA</td>\n",
       "      <td>1</td>\n",
       "      <td>N319AA</td>\n",
       "      <td>349.0</td>\n",
       "      <td>385.0</td>\n",
       "      <td>325.0</td>\n",
       "      <td>-15.0</td>\n",
       "      <td>21.0</td>\n",
       "      <td>JFK</td>\n",
       "      <td>LAX</td>\n",
       "      <td>2475</td>\n",
       "      <td>11.0</td>\n",
       "      <td>13.0</td>\n",
       "      <td>0</td>\n",
       "      <td>NaN</td>\n",
       "      <td>0</td>\n",
       "      <td>0</td>\n",
       "      <td>0</td>\n",
       "      <td>0</td>\n",
       "      <td>0</td>\n",
       "      <td>0</td>\n",
       "      <td>NO</td>\n",
       "      <td>YES</td>\n",
       "    </tr>\n",
       "    <tr>\n",
       "      <th>2</th>\n",
       "      <td>2012</td>\n",
       "      <td>1</td>\n",
       "      <td>3</td>\n",
       "      <td>2</td>\n",
       "      <td>931.0</td>\n",
       "      <td>900.0</td>\n",
       "      <td>1224.0</td>\n",
       "      <td>1225.0</td>\n",
       "      <td>AA</td>\n",
       "      <td>1</td>\n",
       "      <td>N323AA</td>\n",
       "      <td>353.0</td>\n",
       "      <td>385.0</td>\n",
       "      <td>319.0</td>\n",
       "      <td>-1.0</td>\n",
       "      <td>31.0</td>\n",
       "      <td>JFK</td>\n",
       "      <td>LAX</td>\n",
       "      <td>2475</td>\n",
       "      <td>22.0</td>\n",
       "      <td>12.0</td>\n",
       "      <td>0</td>\n",
       "      <td>NaN</td>\n",
       "      <td>0</td>\n",
       "      <td>0</td>\n",
       "      <td>0</td>\n",
       "      <td>0</td>\n",
       "      <td>0</td>\n",
       "      <td>0</td>\n",
       "      <td>NO</td>\n",
       "      <td>YES</td>\n",
       "    </tr>\n",
       "    <tr>\n",
       "      <th>3</th>\n",
       "      <td>2012</td>\n",
       "      <td>1</td>\n",
       "      <td>4</td>\n",
       "      <td>3</td>\n",
       "      <td>904.0</td>\n",
       "      <td>900.0</td>\n",
       "      <td>1151.0</td>\n",
       "      <td>1225.0</td>\n",
       "      <td>AA</td>\n",
       "      <td>1</td>\n",
       "      <td>N320AA</td>\n",
       "      <td>347.0</td>\n",
       "      <td>385.0</td>\n",
       "      <td>309.0</td>\n",
       "      <td>-34.0</td>\n",
       "      <td>4.0</td>\n",
       "      <td>JFK</td>\n",
       "      <td>LAX</td>\n",
       "      <td>2475</td>\n",
       "      <td>20.0</td>\n",
       "      <td>18.0</td>\n",
       "      <td>0</td>\n",
       "      <td>NaN</td>\n",
       "      <td>0</td>\n",
       "      <td>0</td>\n",
       "      <td>0</td>\n",
       "      <td>0</td>\n",
       "      <td>0</td>\n",
       "      <td>0</td>\n",
       "      <td>NO</td>\n",
       "      <td>YES</td>\n",
       "    </tr>\n",
       "    <tr>\n",
       "      <th>4</th>\n",
       "      <td>2012</td>\n",
       "      <td>1</td>\n",
       "      <td>5</td>\n",
       "      <td>4</td>\n",
       "      <td>858.0</td>\n",
       "      <td>900.0</td>\n",
       "      <td>1142.0</td>\n",
       "      <td>1225.0</td>\n",
       "      <td>AA</td>\n",
       "      <td>1</td>\n",
       "      <td>N338AA</td>\n",
       "      <td>344.0</td>\n",
       "      <td>385.0</td>\n",
       "      <td>306.0</td>\n",
       "      <td>-43.0</td>\n",
       "      <td>-2.0</td>\n",
       "      <td>JFK</td>\n",
       "      <td>LAX</td>\n",
       "      <td>2475</td>\n",
       "      <td>22.0</td>\n",
       "      <td>16.0</td>\n",
       "      <td>0</td>\n",
       "      <td>NaN</td>\n",
       "      <td>0</td>\n",
       "      <td>0</td>\n",
       "      <td>0</td>\n",
       "      <td>0</td>\n",
       "      <td>0</td>\n",
       "      <td>0</td>\n",
       "      <td>NO</td>\n",
       "      <td>NO</td>\n",
       "    </tr>\n",
       "  </tbody>\n",
       "</table>\n",
       "</div>"
      ],
      "text/plain": [
       "   Year  Month  DayofMonth  DayOfWeek  DepTime  CRSDepTime  ArrTime  \\\n",
       "0  2012      1           1          7    855.0       900.0   1142.0   \n",
       "1  2012      1           2          1    921.0       900.0   1210.0   \n",
       "2  2012      1           3          2    931.0       900.0   1224.0   \n",
       "3  2012      1           4          3    904.0       900.0   1151.0   \n",
       "4  2012      1           5          4    858.0       900.0   1142.0   \n",
       "\n",
       "   CRSArrTime UniqueCarrier  FlightNum TailNum  ActualElapsedTime  \\\n",
       "0      1225.0            AA          1  N325AA              347.0   \n",
       "1      1225.0            AA          1  N319AA              349.0   \n",
       "2      1225.0            AA          1  N323AA              353.0   \n",
       "3      1225.0            AA          1  N320AA              347.0   \n",
       "4      1225.0            AA          1  N338AA              344.0   \n",
       "\n",
       "   CRSElapsedTime  AirTime  ArrDelay  DepDelay Origin Dest  Distance  TaxiIn  \\\n",
       "0           385.0    330.0     -43.0      -5.0    JFK  LAX      2475     4.0   \n",
       "1           385.0    325.0     -15.0      21.0    JFK  LAX      2475    11.0   \n",
       "2           385.0    319.0      -1.0      31.0    JFK  LAX      2475    22.0   \n",
       "3           385.0    309.0     -34.0       4.0    JFK  LAX      2475    20.0   \n",
       "4           385.0    306.0     -43.0      -2.0    JFK  LAX      2475    22.0   \n",
       "\n",
       "   TaxiOut  Cancelled CancellationCode  Diverted  CarrierDelay  WeatherDelay  \\\n",
       "0     13.0          0              NaN         0             0             0   \n",
       "1     13.0          0              NaN         0             0             0   \n",
       "2     12.0          0              NaN         0             0             0   \n",
       "3     18.0          0              NaN         0             0             0   \n",
       "4     16.0          0              NaN         0             0             0   \n",
       "\n",
       "   NASDelay  SecurityDelay  LateAircraftDelay IsArrDelayed IsDepDelayed  \n",
       "0         0              0                  0           NO           NO  \n",
       "1         0              0                  0           NO          YES  \n",
       "2         0              0                  0           NO          YES  \n",
       "3         0              0                  0           NO          YES  \n",
       "4         0              0                  0           NO           NO  "
      ]
     },
     "execution_count": 6,
     "metadata": {},
     "output_type": "execute_result"
    }
   ],
   "source": [
    "df.head()"
   ]
  },
  {
   "cell_type": "code",
   "execution_count": 7,
   "metadata": {
    "slideshow": {
     "slide_type": "subslide"
    }
   },
   "outputs": [
    {
     "data": {
      "text/plain": [
       "(1.0, 2400.0)"
      ]
     },
     "execution_count": 7,
     "metadata": {},
     "output_type": "execute_result"
    }
   ],
   "source": [
    "min(df['DepTime']), max(df['DepTime'])"
   ]
  },
  {
   "cell_type": "code",
   "execution_count": 8,
   "metadata": {},
   "outputs": [
    {
     "data": {
      "text/plain": [
       "(1.0, 2400.0)"
      ]
     },
     "execution_count": 8,
     "metadata": {},
     "output_type": "execute_result"
    }
   ],
   "source": [
    "min(df['ArrTime']), max(df['ArrTime'])"
   ]
  },
  {
   "cell_type": "code",
   "execution_count": 9,
   "metadata": {
    "slideshow": {
     "slide_type": "subslide"
    }
   },
   "outputs": [
    {
     "data": {
      "text/plain": [
       "Counter({'AA': 525220,\n",
       "         'AS': 147569,\n",
       "         'B6': 229056,\n",
       "         'DL': 726879,\n",
       "         'EV': 740855,\n",
       "         'F9': 79255,\n",
       "         'FL': 218162,\n",
       "         'HA': 74109,\n",
       "         'MQ': 473140,\n",
       "         'OO': 617756,\n",
       "         'UA': 531245,\n",
       "         'US': 404263,\n",
       "         'VX': 54742,\n",
       "         'WN': 1140535,\n",
       "         'YV': 133976})"
      ]
     },
     "execution_count": 9,
     "metadata": {},
     "output_type": "execute_result"
    }
   ],
   "source": [
    "Counter(df['UniqueCarrier'])"
   ]
  },
  {
   "cell_type": "markdown",
   "metadata": {
    "slideshow": {
     "slide_type": "slide"
    }
   },
   "source": [
    "## Step 4: To come a little later..."
   ]
  },
  {
   "cell_type": "markdown",
   "metadata": {
    "slideshow": {
     "slide_type": "slide"
    }
   },
   "source": [
    "## Step 5: Feature Engineering for Baseline Model (v0)"
   ]
  },
  {
   "cell_type": "markdown",
   "metadata": {},
   "source": [
    "What potential features would we want to include in model?"
   ]
  },
  {
   "cell_type": "markdown",
   "metadata": {
    "slideshow": {
     "slide_type": "fragment"
    }
   },
   "source": [
    "What features should we **not consider** for inclusion into model?"
   ]
  },
  {
   "cell_type": "markdown",
   "metadata": {
    "slideshow": {
     "slide_type": "subslide"
    }
   },
   "source": [
    "### Step 5-a: Create an Outcome Variable"
   ]
  },
  {
   "cell_type": "code",
   "execution_count": 10,
   "metadata": {},
   "outputs": [],
   "source": [
    "# Similar to function introduced in Class 2:\n",
    "\n",
    "def delays_requiring_compensation(arrival_delay, departure_delay):\n",
    "    \"\"\"Fcn to return if arrival and/or departure delay resulted in passenger\n",
    "       compensation.\n",
    "       \n",
    "       Arguments:\n",
    "           - arrival_delay:   delay in minutes\n",
    "           - departure_delay: delay in minutes\n",
    "       \n",
    "       Returns:\n",
    "           - number of delays (arrival and or departure) that were delayed\n",
    "             so long that passenger got compensated\n",
    "    \"\"\"\n",
    "    count = 0\n",
    "    if (arrival_delay/60.0 >= 3) | (departure_delay/60.0 >= 2):\n",
    "        # If arrival delay is 3+ hours, or if departure delay is 2+ hours:\n",
    "        count += 1\n",
    "    return count"
   ]
  },
  {
   "cell_type": "code",
   "execution_count": 11,
   "metadata": {
    "slideshow": {
     "slide_type": "subslide"
    }
   },
   "outputs": [
    {
     "data": {
      "text/html": [
       "<div>\n",
       "<style scoped>\n",
       "    .dataframe tbody tr th:only-of-type {\n",
       "        vertical-align: middle;\n",
       "    }\n",
       "\n",
       "    .dataframe tbody tr th {\n",
       "        vertical-align: top;\n",
       "    }\n",
       "\n",
       "    .dataframe thead th {\n",
       "        text-align: right;\n",
       "    }\n",
       "</style>\n",
       "<table border=\"1\" class=\"dataframe\">\n",
       "  <thead>\n",
       "    <tr style=\"text-align: right;\">\n",
       "      <th></th>\n",
       "      <th>ArrDelay</th>\n",
       "      <th>DepDelay</th>\n",
       "      <th>compensated_delays</th>\n",
       "    </tr>\n",
       "  </thead>\n",
       "  <tbody>\n",
       "    <tr>\n",
       "      <th>0</th>\n",
       "      <td>-43.0</td>\n",
       "      <td>-5.0</td>\n",
       "      <td>0</td>\n",
       "    </tr>\n",
       "    <tr>\n",
       "      <th>1</th>\n",
       "      <td>-15.0</td>\n",
       "      <td>21.0</td>\n",
       "      <td>0</td>\n",
       "    </tr>\n",
       "    <tr>\n",
       "      <th>2</th>\n",
       "      <td>-1.0</td>\n",
       "      <td>31.0</td>\n",
       "      <td>0</td>\n",
       "    </tr>\n",
       "    <tr>\n",
       "      <th>3</th>\n",
       "      <td>-34.0</td>\n",
       "      <td>4.0</td>\n",
       "      <td>0</td>\n",
       "    </tr>\n",
       "    <tr>\n",
       "      <th>4</th>\n",
       "      <td>-43.0</td>\n",
       "      <td>-2.0</td>\n",
       "      <td>0</td>\n",
       "    </tr>\n",
       "  </tbody>\n",
       "</table>\n",
       "</div>"
      ],
      "text/plain": [
       "   ArrDelay  DepDelay  compensated_delays\n",
       "0     -43.0      -5.0                   0\n",
       "1     -15.0      21.0                   0\n",
       "2      -1.0      31.0                   0\n",
       "3     -34.0       4.0                   0\n",
       "4     -43.0      -2.0                   0"
      ]
     },
     "execution_count": 11,
     "metadata": {},
     "output_type": "execute_result"
    }
   ],
   "source": [
    "df['compensated_delays'] = df[['ArrDelay', 'DepDelay']].apply(\n",
    "    lambda row: delays_requiring_compensation(row[0], row[1]),\n",
    "    axis=1)\n",
    "df[['ArrDelay', 'DepDelay', 'compensated_delays']].head()"
   ]
  },
  {
   "cell_type": "code",
   "execution_count": 12,
   "metadata": {
    "slideshow": {
     "slide_type": "fragment"
    }
   },
   "outputs": [
    {
     "data": {
      "text/plain": [
       "Counter({0: 5995130, 1: 101632})"
      ]
     },
     "execution_count": 12,
     "metadata": {},
     "output_type": "execute_result"
    }
   ],
   "source": [
    "Counter(df['compensated_delays'])"
   ]
  },
  {
   "cell_type": "markdown",
   "metadata": {},
   "source": [
    "Let's stop and think about this number... What are client implications?"
   ]
  },
  {
   "cell_type": "markdown",
   "metadata": {
    "slideshow": {
     "slide_type": "subslide"
    }
   },
   "source": [
    "### Step 5-b: Create a Time-of-Day Variable\n",
    "Per [documentation](http://stat-computing.org/dataexpo/2009/the-data.html) and EDA, time of day is recorded in hhmm."
   ]
  },
  {
   "cell_type": "code",
   "execution_count": 13,
   "metadata": {},
   "outputs": [
    {
     "data": {
      "text/plain": [
       "(1.0, 2400.0)"
      ]
     },
     "execution_count": 13,
     "metadata": {},
     "output_type": "execute_result"
    }
   ],
   "source": [
    "# Recall:\n",
    "min(df['DepTime']), max(df['DepTime'])"
   ]
  },
  {
   "cell_type": "markdown",
   "metadata": {},
   "source": [
    "How is departure delay recorded?"
   ]
  },
  {
   "cell_type": "markdown",
   "metadata": {
    "slideshow": {
     "slide_type": "fragment"
    }
   },
   "source": [
    "How would you convert this field to a time-of-day?"
   ]
  },
  {
   "cell_type": "code",
   "execution_count": 14,
   "metadata": {
    "slideshow": {
     "slide_type": "subslide"
    }
   },
   "outputs": [
    {
     "name": "stdout",
     "output_type": "stream",
     "text": [
      "855.0\n"
     ]
    },
    {
     "data": {
      "text/plain": [
       "'0855'"
      ]
     },
     "execution_count": 14,
     "metadata": {},
     "output_type": "execute_result"
    }
   ],
   "source": [
    "print(df['DepTime'][0])\n",
    "str(int(df['DepTime'][0])).zfill(4)"
   ]
  },
  {
   "cell_type": "code",
   "execution_count": 15,
   "metadata": {},
   "outputs": [
    {
     "name": "stdout",
     "output_type": "stream",
     "text": [
      "1.0\n"
     ]
    },
    {
     "data": {
      "text/plain": [
       "'0001'"
      ]
     },
     "execution_count": 15,
     "metadata": {},
     "output_type": "execute_result"
    }
   ],
   "source": [
    "print(min(df['DepTime']))\n",
    "str(int(min(df['DepTime']))).zfill(4)"
   ]
  },
  {
   "cell_type": "code",
   "execution_count": 16,
   "metadata": {
    "slideshow": {
     "slide_type": "subslide"
    }
   },
   "outputs": [],
   "source": [
    "# Before processing all the values, assign missing values to own category:\n",
    "df['DepTime'] = df['DepTime'].fillna(9999.0)"
   ]
  },
  {
   "cell_type": "code",
   "execution_count": 60,
   "metadata": {
    "slideshow": {
     "slide_type": "-"
    }
   },
   "outputs": [],
   "source": [
    "df['Dep_Hour'] = df['DepTime'].apply(lambda x:\n",
    "                                     int(\n",
    "                                         str(int(x)).zfill(4)[0:2]\n",
    "                                     ))"
   ]
  },
  {
   "cell_type": "markdown",
   "metadata": {},
   "source": [
    "What would be a good comment to the code above?"
   ]
  },
  {
   "cell_type": "code",
   "execution_count": 61,
   "metadata": {
    "slideshow": {
     "slide_type": "subslide"
    }
   },
   "outputs": [
    {
     "data": {
      "text/plain": [
       "0      14878\n",
       "1       6135\n",
       "2       1630\n",
       "3        738\n",
       "       ...  \n",
       "22    119418\n",
       "23     42057\n",
       "24       293\n",
       "99     75723\n",
       "Name: Dep_Hour, Length: 26, dtype: int64"
      ]
     },
     "execution_count": 61,
     "metadata": {},
     "output_type": "execute_result"
    }
   ],
   "source": [
    "df['Dep_Hour'].value_counts(sort=False)"
   ]
  },
  {
   "cell_type": "markdown",
   "metadata": {},
   "source": [
    "Does anything look weird?"
   ]
  },
  {
   "cell_type": "code",
   "execution_count": 73,
   "metadata": {
    "slideshow": {
     "slide_type": "subslide"
    }
   },
   "outputs": [],
   "source": [
    "# Convert TOD for flights that departed at 24 hours to departing at TOD=0 hours:\n",
    "row_index = np.where(df['Dep_Hour'] == 24)[0].tolist()\n",
    "col_index = np.where(df.columns == 'Dep_Hour')[0].tolist()[0]\n",
    "df.iloc[row_index, col_index] = 0"
   ]
  },
  {
   "cell_type": "code",
   "execution_count": 72,
   "metadata": {
    "slideshow": {
     "slide_type": "-"
    }
   },
   "outputs": [
    {
     "data": {
      "text/plain": [
       "0      15171\n",
       "1       6135\n",
       "2       1630\n",
       "3        738\n",
       "       ...  \n",
       "21    200855\n",
       "22    119418\n",
       "23     42057\n",
       "99     75723\n",
       "Name: Dep_Hour, Length: 25, dtype: int64"
      ]
     },
     "execution_count": 72,
     "metadata": {},
     "output_type": "execute_result"
    }
   ],
   "source": [
    "df['Dep_Hour'].value_counts(sort=False)"
   ]
  },
  {
   "cell_type": "markdown",
   "metadata": {
    "slideshow": {
     "slide_type": "subslide"
    }
   },
   "source": [
    "### Step 3-c: Create Indicator Variables from Features for Use with Sklearn\n",
    "Features:\n",
    "- Month\n",
    "- Day of Week\n",
    "- Time of Day"
   ]
  },
  {
   "cell_type": "code",
   "execution_count": 21,
   "metadata": {},
   "outputs": [],
   "source": [
    "features_tod = pd.get_dummies(df['Dep_Hour'], drop_first=True, prefix=\"tod_\")"
   ]
  },
  {
   "cell_type": "code",
   "execution_count": 22,
   "metadata": {},
   "outputs": [
    {
     "data": {
      "text/html": [
       "<div>\n",
       "<style scoped>\n",
       "    .dataframe tbody tr th:only-of-type {\n",
       "        vertical-align: middle;\n",
       "    }\n",
       "\n",
       "    .dataframe tbody tr th {\n",
       "        vertical-align: top;\n",
       "    }\n",
       "\n",
       "    .dataframe thead th {\n",
       "        text-align: right;\n",
       "    }\n",
       "</style>\n",
       "<table border=\"1\" class=\"dataframe\">\n",
       "  <thead>\n",
       "    <tr style=\"text-align: right;\">\n",
       "      <th></th>\n",
       "      <th>tod__1</th>\n",
       "      <th>tod__2</th>\n",
       "      <th>tod__3</th>\n",
       "      <th>tod__4</th>\n",
       "      <th>tod__5</th>\n",
       "      <th>tod__6</th>\n",
       "      <th>tod__7</th>\n",
       "      <th>tod__8</th>\n",
       "      <th>tod__9</th>\n",
       "      <th>tod__10</th>\n",
       "      <th>tod__11</th>\n",
       "      <th>tod__12</th>\n",
       "      <th>tod__13</th>\n",
       "      <th>tod__14</th>\n",
       "      <th>tod__15</th>\n",
       "      <th>tod__16</th>\n",
       "      <th>tod__17</th>\n",
       "      <th>tod__18</th>\n",
       "      <th>tod__19</th>\n",
       "      <th>tod__20</th>\n",
       "      <th>tod__21</th>\n",
       "      <th>tod__22</th>\n",
       "      <th>tod__23</th>\n",
       "      <th>tod__99</th>\n",
       "    </tr>\n",
       "  </thead>\n",
       "  <tbody>\n",
       "    <tr>\n",
       "      <th>0</th>\n",
       "      <td>0</td>\n",
       "      <td>0</td>\n",
       "      <td>0</td>\n",
       "      <td>0</td>\n",
       "      <td>0</td>\n",
       "      <td>0</td>\n",
       "      <td>0</td>\n",
       "      <td>1</td>\n",
       "      <td>0</td>\n",
       "      <td>0</td>\n",
       "      <td>0</td>\n",
       "      <td>0</td>\n",
       "      <td>0</td>\n",
       "      <td>0</td>\n",
       "      <td>0</td>\n",
       "      <td>0</td>\n",
       "      <td>0</td>\n",
       "      <td>0</td>\n",
       "      <td>0</td>\n",
       "      <td>0</td>\n",
       "      <td>0</td>\n",
       "      <td>0</td>\n",
       "      <td>0</td>\n",
       "      <td>0</td>\n",
       "    </tr>\n",
       "    <tr>\n",
       "      <th>1</th>\n",
       "      <td>0</td>\n",
       "      <td>0</td>\n",
       "      <td>0</td>\n",
       "      <td>0</td>\n",
       "      <td>0</td>\n",
       "      <td>0</td>\n",
       "      <td>0</td>\n",
       "      <td>0</td>\n",
       "      <td>1</td>\n",
       "      <td>0</td>\n",
       "      <td>0</td>\n",
       "      <td>0</td>\n",
       "      <td>0</td>\n",
       "      <td>0</td>\n",
       "      <td>0</td>\n",
       "      <td>0</td>\n",
       "      <td>0</td>\n",
       "      <td>0</td>\n",
       "      <td>0</td>\n",
       "      <td>0</td>\n",
       "      <td>0</td>\n",
       "      <td>0</td>\n",
       "      <td>0</td>\n",
       "      <td>0</td>\n",
       "    </tr>\n",
       "    <tr>\n",
       "      <th>2</th>\n",
       "      <td>0</td>\n",
       "      <td>0</td>\n",
       "      <td>0</td>\n",
       "      <td>0</td>\n",
       "      <td>0</td>\n",
       "      <td>0</td>\n",
       "      <td>0</td>\n",
       "      <td>0</td>\n",
       "      <td>1</td>\n",
       "      <td>0</td>\n",
       "      <td>0</td>\n",
       "      <td>0</td>\n",
       "      <td>0</td>\n",
       "      <td>0</td>\n",
       "      <td>0</td>\n",
       "      <td>0</td>\n",
       "      <td>0</td>\n",
       "      <td>0</td>\n",
       "      <td>0</td>\n",
       "      <td>0</td>\n",
       "      <td>0</td>\n",
       "      <td>0</td>\n",
       "      <td>0</td>\n",
       "      <td>0</td>\n",
       "    </tr>\n",
       "    <tr>\n",
       "      <th>3</th>\n",
       "      <td>0</td>\n",
       "      <td>0</td>\n",
       "      <td>0</td>\n",
       "      <td>0</td>\n",
       "      <td>0</td>\n",
       "      <td>0</td>\n",
       "      <td>0</td>\n",
       "      <td>0</td>\n",
       "      <td>1</td>\n",
       "      <td>0</td>\n",
       "      <td>0</td>\n",
       "      <td>0</td>\n",
       "      <td>0</td>\n",
       "      <td>0</td>\n",
       "      <td>0</td>\n",
       "      <td>0</td>\n",
       "      <td>0</td>\n",
       "      <td>0</td>\n",
       "      <td>0</td>\n",
       "      <td>0</td>\n",
       "      <td>0</td>\n",
       "      <td>0</td>\n",
       "      <td>0</td>\n",
       "      <td>0</td>\n",
       "    </tr>\n",
       "    <tr>\n",
       "      <th>4</th>\n",
       "      <td>0</td>\n",
       "      <td>0</td>\n",
       "      <td>0</td>\n",
       "      <td>0</td>\n",
       "      <td>0</td>\n",
       "      <td>0</td>\n",
       "      <td>0</td>\n",
       "      <td>1</td>\n",
       "      <td>0</td>\n",
       "      <td>0</td>\n",
       "      <td>0</td>\n",
       "      <td>0</td>\n",
       "      <td>0</td>\n",
       "      <td>0</td>\n",
       "      <td>0</td>\n",
       "      <td>0</td>\n",
       "      <td>0</td>\n",
       "      <td>0</td>\n",
       "      <td>0</td>\n",
       "      <td>0</td>\n",
       "      <td>0</td>\n",
       "      <td>0</td>\n",
       "      <td>0</td>\n",
       "      <td>0</td>\n",
       "    </tr>\n",
       "  </tbody>\n",
       "</table>\n",
       "</div>"
      ],
      "text/plain": [
       "   tod__1  tod__2  tod__3  tod__4  tod__5  tod__6  tod__7  tod__8  tod__9  \\\n",
       "0       0       0       0       0       0       0       0       1       0   \n",
       "1       0       0       0       0       0       0       0       0       1   \n",
       "2       0       0       0       0       0       0       0       0       1   \n",
       "3       0       0       0       0       0       0       0       0       1   \n",
       "4       0       0       0       0       0       0       0       1       0   \n",
       "\n",
       "   tod__10  tod__11  tod__12  tod__13  tod__14  tod__15  tod__16  tod__17  \\\n",
       "0        0        0        0        0        0        0        0        0   \n",
       "1        0        0        0        0        0        0        0        0   \n",
       "2        0        0        0        0        0        0        0        0   \n",
       "3        0        0        0        0        0        0        0        0   \n",
       "4        0        0        0        0        0        0        0        0   \n",
       "\n",
       "   tod__18  tod__19  tod__20  tod__21  tod__22  tod__23  tod__99  \n",
       "0        0        0        0        0        0        0        0  \n",
       "1        0        0        0        0        0        0        0  \n",
       "2        0        0        0        0        0        0        0  \n",
       "3        0        0        0        0        0        0        0  \n",
       "4        0        0        0        0        0        0        0  "
      ]
     },
     "execution_count": 22,
     "metadata": {},
     "output_type": "execute_result"
    }
   ],
   "source": [
    "features_tod.head()"
   ]
  },
  {
   "cell_type": "code",
   "execution_count": 23,
   "metadata": {
    "slideshow": {
     "slide_type": "fragment"
    }
   },
   "outputs": [],
   "source": [
    "features_month = pd.get_dummies(df['Month'], drop_first=True, prefix=\"mo_\")"
   ]
  },
  {
   "cell_type": "code",
   "execution_count": 24,
   "metadata": {
    "slideshow": {
     "slide_type": "fragment"
    }
   },
   "outputs": [],
   "source": [
    "features_dow = pd.get_dummies(df['DayOfWeek'], drop_first=True, prefix=\"dow_\")"
   ]
  },
  {
   "cell_type": "code",
   "execution_count": 25,
   "metadata": {
    "slideshow": {
     "slide_type": "subslide"
    }
   },
   "outputs": [],
   "source": [
    "features = pd.concat([features_tod, features_month, features_dow],\n",
    "                     axis=1,\n",
    "                     join='inner')"
   ]
  },
  {
   "cell_type": "code",
   "execution_count": 26,
   "metadata": {},
   "outputs": [
    {
     "data": {
      "text/plain": [
       "Index(['tod__1', 'tod__2', 'tod__3', 'tod__4', 'tod__5', 'tod__6', 'tod__7',\n",
       "       'tod__8', 'tod__9', 'tod__10', 'tod__11', 'tod__12', 'tod__13',\n",
       "       'tod__14', 'tod__15', 'tod__16', 'tod__17', 'tod__18', 'tod__19',\n",
       "       'tod__20', 'tod__21', 'tod__22', 'tod__23', 'tod__99', 'mo__2', 'mo__3',\n",
       "       'mo__4', 'mo__5', 'mo__6', 'mo__7', 'mo__8', 'mo__9', 'mo__10',\n",
       "       'mo__11', 'mo__12', 'dow__2', 'dow__3', 'dow__4', 'dow__5', 'dow__6',\n",
       "       'dow__7'],\n",
       "      dtype='object')"
      ]
     },
     "execution_count": 26,
     "metadata": {},
     "output_type": "execute_result"
    }
   ],
   "source": [
    "features.columns"
   ]
  },
  {
   "cell_type": "markdown",
   "metadata": {},
   "source": [
    "What is our baseline Month, DOW and TOD reference point?"
   ]
  },
  {
   "cell_type": "code",
   "execution_count": 27,
   "metadata": {
    "slideshow": {
     "slide_type": "subslide"
    }
   },
   "outputs": [],
   "source": [
    "dataset = pd.concat([features, df['compensated_delays']],\n",
    "                     axis=1)"
   ]
  },
  {
   "cell_type": "code",
   "execution_count": 28,
   "metadata": {},
   "outputs": [
    {
     "data": {
      "text/plain": [
       "(6096762, 42)"
      ]
     },
     "execution_count": 28,
     "metadata": {},
     "output_type": "execute_result"
    }
   ],
   "source": [
    "dataset.shape"
   ]
  },
  {
   "cell_type": "markdown",
   "metadata": {
    "slideshow": {
     "slide_type": "slide"
    }
   },
   "source": [
    "## Step 4: Determine Data Splits\n",
    "What are some data splits that you would propose?\n"
   ]
  },
  {
   "cell_type": "code",
   "execution_count": 29,
   "metadata": {
    "slideshow": {
     "slide_type": "subslide"
    }
   },
   "outputs": [],
   "source": [
    "df_tmp, df_test = train_test_split(dataset,\n",
    "                                   test_size=0.25,\n",
    "                                   random_state=2019,\n",
    "                                   stratify=dataset['compensated_delays'])"
   ]
  },
  {
   "cell_type": "code",
   "execution_count": 30,
   "metadata": {},
   "outputs": [],
   "source": [
    "df_train, df_valid = train_test_split(df_tmp,\n",
    "                                      test_size=0.25,\n",
    "                                      random_state=2019,\n",
    "                                      stratify=df_tmp['compensated_delays'])"
   ]
  },
  {
   "cell_type": "code",
   "execution_count": 31,
   "metadata": {
    "slideshow": {
     "slide_type": "subslide"
    }
   },
   "outputs": [
    {
     "data": {
      "text/plain": [
       "0    3372260\n",
       "1      57168\n",
       "Name: compensated_delays, dtype: int64"
      ]
     },
     "execution_count": 31,
     "metadata": {},
     "output_type": "execute_result"
    }
   ],
   "source": [
    "df_train['compensated_delays'].value_counts(sort=False)"
   ]
  },
  {
   "cell_type": "code",
   "execution_count": 32,
   "metadata": {},
   "outputs": [
    {
     "data": {
      "text/plain": [
       "0    1124087\n",
       "1      19056\n",
       "Name: compensated_delays, dtype: int64"
      ]
     },
     "execution_count": 32,
     "metadata": {},
     "output_type": "execute_result"
    }
   ],
   "source": [
    "df_valid['compensated_delays'].value_counts(sort=False)"
   ]
  },
  {
   "cell_type": "code",
   "execution_count": 33,
   "metadata": {},
   "outputs": [
    {
     "data": {
      "text/plain": [
       "0    1498783\n",
       "1      25408\n",
       "Name: compensated_delays, dtype: int64"
      ]
     },
     "execution_count": 33,
     "metadata": {},
     "output_type": "execute_result"
    }
   ],
   "source": [
    "df_test['compensated_delays'].value_counts(sort=False)"
   ]
  },
  {
   "cell_type": "markdown",
   "metadata": {
    "slideshow": {
     "slide_type": "slide"
    }
   },
   "source": [
    "## Step 6: Estimate a Baseline Model (v0)"
   ]
  },
  {
   "cell_type": "code",
   "execution_count": 34,
   "metadata": {},
   "outputs": [],
   "source": [
    "y = df_train['compensated_delays']\n",
    "X = df_train.drop(columns=['compensated_delays'])"
   ]
  },
  {
   "cell_type": "code",
   "execution_count": 35,
   "metadata": {
    "slideshow": {
     "slide_type": "subslide"
    }
   },
   "outputs": [
    {
     "data": {
      "text/plain": [
       "<Signature (penalty='l2', dual=False, tol=0.0001, C=1.0, fit_intercept=True, intercept_scaling=1, class_weight=None, random_state=None, solver='warn', max_iter=100, multi_class='warn', verbose=0, warm_start=False, n_jobs=None)>"
      ]
     },
     "execution_count": 35,
     "metadata": {},
     "output_type": "execute_result"
    }
   ],
   "source": [
    "inspect.signature(LogisticRegression)"
   ]
  },
  {
   "cell_type": "code",
   "execution_count": 36,
   "metadata": {},
   "outputs": [],
   "source": [
    "est_model = LogisticRegression(penalty=\"l2\",\n",
    "                               C=0.5,\n",
    "                               fit_intercept=True,\n",
    "                               class_weight='balanced',\n",
    "                               random_state=2019,\n",
    "                               max_iter=10000,\n",
    "                               solver='lbfgs')"
   ]
  },
  {
   "cell_type": "code",
   "execution_count": 37,
   "metadata": {},
   "outputs": [
    {
     "data": {
      "text/plain": [
       "LogisticRegression(C=0.5, class_weight='balanced', dual=False,\n",
       "          fit_intercept=True, intercept_scaling=1, max_iter=10000,\n",
       "          multi_class='warn', n_jobs=None, penalty='l2', random_state=2019,\n",
       "          solver='lbfgs', tol=0.0001, verbose=0, warm_start=False)"
      ]
     },
     "execution_count": 37,
     "metadata": {},
     "output_type": "execute_result"
    }
   ],
   "source": [
    "est_model"
   ]
  },
  {
   "cell_type": "code",
   "execution_count": 38,
   "metadata": {
    "slideshow": {
     "slide_type": "subslide"
    }
   },
   "outputs": [],
   "source": [
    "est_model.fit(X, y)\n"
   ]
  },
  {
   "cell_type": "code",
   "execution_count": 39,
   "metadata": {
    "slideshow": {
     "slide_type": "fragment"
    }
   },
   "outputs": [],
   "source": [
    "# Save model, per: https://scikit-learn.org/stable/modules/model_persistence.html\n",
    "dump(est_model, 'logistic.joblib')\n",
    "\n",
    "## Load saved model:\n",
    "# est_model = load('logistic.joblib') \n"
   ]
  },
  {
   "cell_type": "markdown",
   "metadata": {},
   "source": [
    "Remarks:\n",
    "- Aside: creating a filename that includes a [timestamp](https://stackoverflow.com/questions/10607688/how-to-create-a-file-name-with-the-current-date-time-in-python)\n",
    "- Aside: If interested in seeing more `R`-like output for Logistic Regression, use library `statsmodels`\n",
    "- Logistic Regression with [Cross-Validation](https://scikit-learn.org/stable/modules/generated/sklearn.linear_model.LogisticRegressionCV.html)\n",
    "- (In general) Cross-Validation with sklearn: [approach 1](https://scikit-learn.org/stable/modules/generated/sklearn.model_selection.GridSearchCV.html) and [approach 2](https://scikit-learn.org/0.16/modules/generated/sklearn.grid_search.GridSearchCV.html)"
   ]
  },
  {
   "cell_type": "markdown",
   "metadata": {
    "slideshow": {
     "slide_type": "slide"
    }
   },
   "source": [
    "## Step 7: Interpret Results"
   ]
  },
  {
   "cell_type": "code",
   "execution_count": 40,
   "metadata": {},
   "outputs": [
    {
     "data": {
      "text/html": [
       "<div>\n",
       "<style scoped>\n",
       "    .dataframe tbody tr th:only-of-type {\n",
       "        vertical-align: middle;\n",
       "    }\n",
       "\n",
       "    .dataframe tbody tr th {\n",
       "        vertical-align: top;\n",
       "    }\n",
       "\n",
       "    .dataframe thead th {\n",
       "        text-align: right;\n",
       "    }\n",
       "</style>\n",
       "<table border=\"1\" class=\"dataframe\">\n",
       "  <thead>\n",
       "    <tr style=\"text-align: right;\">\n",
       "      <th></th>\n",
       "      <th>feature_name</th>\n",
       "      <th>coef_est</th>\n",
       "    </tr>\n",
       "  </thead>\n",
       "  <tbody>\n",
       "    <tr>\n",
       "      <th>0</th>\n",
       "      <td>tod__1</td>\n",
       "      <td>0.12</td>\n",
       "    </tr>\n",
       "    <tr>\n",
       "      <th>1</th>\n",
       "      <td>tod__2</td>\n",
       "      <td>0.22</td>\n",
       "    </tr>\n",
       "    <tr>\n",
       "      <th>2</th>\n",
       "      <td>tod__3</td>\n",
       "      <td>-0.09</td>\n",
       "    </tr>\n",
       "    <tr>\n",
       "      <th>3</th>\n",
       "      <td>tod__4</td>\n",
       "      <td>-3.26</td>\n",
       "    </tr>\n",
       "    <tr>\n",
       "      <th>4</th>\n",
       "      <td>tod__5</td>\n",
       "      <td>-6.82</td>\n",
       "    </tr>\n",
       "  </tbody>\n",
       "</table>\n",
       "</div>"
      ],
      "text/plain": [
       "  feature_name coef_est\n",
       "0       tod__1     0.12\n",
       "1       tod__2     0.22\n",
       "2       tod__3    -0.09\n",
       "3       tod__4    -3.26\n",
       "4       tod__5    -6.82"
      ]
     },
     "execution_count": 40,
     "metadata": {},
     "output_type": "execute_result"
    }
   ],
   "source": [
    "# DataFrame of feature coefficients:\n",
    "coefficients = [round(x, 2) for x in est_model.coef_.tolist()[0]]\n",
    "coef_df = pd.concat([pd.DataFrame(X.columns),\n",
    "                     pd.DataFrame(coefficients)],\n",
    "                    axis = 1)\n",
    "coef_df.columns = [\"feature_name\", \"coef_est\"]\n",
    "\n",
    "# DataFrame of intercept coefficient:\n",
    "intercept_df = pd.DataFrame([\"intercept\", est_model.intercept_.tolist()[0]]).T\n",
    "intercept_df.columns = [\"feature_name\", \"coef_est\"]\n",
    "\n",
    "# Combined DataFrame:\n",
    "coef_df = coef_df.append(intercept_df)\n",
    "coef_df.head()"
   ]
  },
  {
   "cell_type": "code",
   "execution_count": 41,
   "metadata": {
    "slideshow": {
     "slide_type": "subslide"
    }
   },
   "outputs": [],
   "source": [
    "# Compute odds:\n",
    "coef_df[\"odds\"] = [round(np.exp(x), 2) for x in coef_df['coef_est']]"
   ]
  },
  {
   "cell_type": "code",
   "execution_count": 42,
   "metadata": {
    "slideshow": {
     "slide_type": "subslide"
    }
   },
   "outputs": [
    {
     "data": {
      "text/plain": [
       "2.730757870586944"
      ]
     },
     "execution_count": 42,
     "metadata": {},
     "output_type": "execute_result"
    }
   ],
   "source": [
    "# Compute probabilities, which need intercept:\n",
    "intercept = intercept_df['coef_est'].values.tolist()[0]\n",
    "intercept"
   ]
  },
  {
   "cell_type": "code",
   "execution_count": 43,
   "metadata": {},
   "outputs": [],
   "source": [
    "def inverse_logit(intercept, coefficient):\n",
    "    \"\"\"Fcn to help calculate probability associated with flight delay,\n",
    "       given our variable.\n",
    "    \"\"\"\n",
    "    if coefficient == intercept:\n",
    "        # Make sure we don't double-count the intercept:\n",
    "        coefficient = 0\n",
    "    inv_logit = np.exp(intercept + coefficient)/(1+np.exp(intercept + coefficient))\n",
    "    return round(inv_logit, 2)\n",
    "                           \n",
    "coef_df[\"prob_delay\"] = [inverse_logit(intercept, x) for x in coef_df['coef_est']]\n"
   ]
  },
  {
   "cell_type": "code",
   "execution_count": 44,
   "metadata": {
    "slideshow": {
     "slide_type": "subslide"
    }
   },
   "outputs": [
    {
     "data": {
      "text/html": [
       "<div>\n",
       "<style scoped>\n",
       "    .dataframe tbody tr th:only-of-type {\n",
       "        vertical-align: middle;\n",
       "    }\n",
       "\n",
       "    .dataframe tbody tr th {\n",
       "        vertical-align: top;\n",
       "    }\n",
       "\n",
       "    .dataframe thead th {\n",
       "        text-align: right;\n",
       "    }\n",
       "</style>\n",
       "<table border=\"1\" class=\"dataframe\">\n",
       "  <thead>\n",
       "    <tr style=\"text-align: right;\">\n",
       "      <th></th>\n",
       "      <th>0</th>\n",
       "      <th>1</th>\n",
       "      <th>2</th>\n",
       "      <th>3</th>\n",
       "      <th>4</th>\n",
       "      <th>5</th>\n",
       "      <th>6</th>\n",
       "      <th>7</th>\n",
       "      <th>8</th>\n",
       "      <th>9</th>\n",
       "      <th>10</th>\n",
       "      <th>11</th>\n",
       "      <th>12</th>\n",
       "      <th>13</th>\n",
       "      <th>14</th>\n",
       "      <th>15</th>\n",
       "      <th>16</th>\n",
       "      <th>17</th>\n",
       "      <th>18</th>\n",
       "      <th>19</th>\n",
       "      <th>20</th>\n",
       "      <th>21</th>\n",
       "      <th>22</th>\n",
       "      <th>23</th>\n",
       "      <th>24</th>\n",
       "      <th>25</th>\n",
       "      <th>26</th>\n",
       "      <th>27</th>\n",
       "      <th>28</th>\n",
       "      <th>29</th>\n",
       "      <th>30</th>\n",
       "      <th>31</th>\n",
       "      <th>32</th>\n",
       "      <th>33</th>\n",
       "      <th>34</th>\n",
       "      <th>35</th>\n",
       "      <th>36</th>\n",
       "      <th>37</th>\n",
       "      <th>38</th>\n",
       "      <th>39</th>\n",
       "      <th>40</th>\n",
       "      <th>0</th>\n",
       "    </tr>\n",
       "  </thead>\n",
       "  <tbody>\n",
       "    <tr>\n",
       "      <th>feature_name</th>\n",
       "      <td>tod__1</td>\n",
       "      <td>tod__2</td>\n",
       "      <td>tod__3</td>\n",
       "      <td>tod__4</td>\n",
       "      <td>tod__5</td>\n",
       "      <td>tod__6</td>\n",
       "      <td>tod__7</td>\n",
       "      <td>tod__8</td>\n",
       "      <td>tod__9</td>\n",
       "      <td>tod__10</td>\n",
       "      <td>tod__11</td>\n",
       "      <td>tod__12</td>\n",
       "      <td>tod__13</td>\n",
       "      <td>tod__14</td>\n",
       "      <td>tod__15</td>\n",
       "      <td>tod__16</td>\n",
       "      <td>tod__17</td>\n",
       "      <td>tod__18</td>\n",
       "      <td>tod__19</td>\n",
       "      <td>tod__20</td>\n",
       "      <td>tod__21</td>\n",
       "      <td>tod__22</td>\n",
       "      <td>tod__23</td>\n",
       "      <td>tod__99</td>\n",
       "      <td>mo__2</td>\n",
       "      <td>mo__3</td>\n",
       "      <td>mo__4</td>\n",
       "      <td>mo__5</td>\n",
       "      <td>mo__6</td>\n",
       "      <td>mo__7</td>\n",
       "      <td>mo__8</td>\n",
       "      <td>mo__9</td>\n",
       "      <td>mo__10</td>\n",
       "      <td>mo__11</td>\n",
       "      <td>mo__12</td>\n",
       "      <td>dow__2</td>\n",
       "      <td>dow__3</td>\n",
       "      <td>dow__4</td>\n",
       "      <td>dow__5</td>\n",
       "      <td>dow__6</td>\n",
       "      <td>dow__7</td>\n",
       "      <td>intercept</td>\n",
       "    </tr>\n",
       "    <tr>\n",
       "      <th>coef_est</th>\n",
       "      <td>0.12</td>\n",
       "      <td>0.22</td>\n",
       "      <td>-0.09</td>\n",
       "      <td>-3.26</td>\n",
       "      <td>-6.82</td>\n",
       "      <td>-6.71</td>\n",
       "      <td>-5.71</td>\n",
       "      <td>-4.26</td>\n",
       "      <td>-3.65</td>\n",
       "      <td>-3.38</td>\n",
       "      <td>-3.27</td>\n",
       "      <td>-3.09</td>\n",
       "      <td>-3</td>\n",
       "      <td>-2.97</td>\n",
       "      <td>-2.76</td>\n",
       "      <td>-2.71</td>\n",
       "      <td>-2.69</td>\n",
       "      <td>-2.47</td>\n",
       "      <td>-2.34</td>\n",
       "      <td>-1.96</td>\n",
       "      <td>-1.71</td>\n",
       "      <td>-1.28</td>\n",
       "      <td>-0.51</td>\n",
       "      <td>-9.74</td>\n",
       "      <td>-0.3</td>\n",
       "      <td>0.11</td>\n",
       "      <td>-0.29</td>\n",
       "      <td>0.03</td>\n",
       "      <td>0.23</td>\n",
       "      <td>0.59</td>\n",
       "      <td>0.36</td>\n",
       "      <td>-0.02</td>\n",
       "      <td>0.03</td>\n",
       "      <td>0</td>\n",
       "      <td>0.4</td>\n",
       "      <td>-0.26</td>\n",
       "      <td>-0.15</td>\n",
       "      <td>-0.05</td>\n",
       "      <td>0.06</td>\n",
       "      <td>-0.19</td>\n",
       "      <td>-0.17</td>\n",
       "      <td>2.73076</td>\n",
       "    </tr>\n",
       "    <tr>\n",
       "      <th>odds</th>\n",
       "      <td>1.13</td>\n",
       "      <td>1.25</td>\n",
       "      <td>0.91</td>\n",
       "      <td>0.04</td>\n",
       "      <td>0</td>\n",
       "      <td>0</td>\n",
       "      <td>0</td>\n",
       "      <td>0.01</td>\n",
       "      <td>0.03</td>\n",
       "      <td>0.03</td>\n",
       "      <td>0.04</td>\n",
       "      <td>0.05</td>\n",
       "      <td>0.05</td>\n",
       "      <td>0.05</td>\n",
       "      <td>0.06</td>\n",
       "      <td>0.07</td>\n",
       "      <td>0.07</td>\n",
       "      <td>0.08</td>\n",
       "      <td>0.1</td>\n",
       "      <td>0.14</td>\n",
       "      <td>0.18</td>\n",
       "      <td>0.28</td>\n",
       "      <td>0.6</td>\n",
       "      <td>0</td>\n",
       "      <td>0.74</td>\n",
       "      <td>1.12</td>\n",
       "      <td>0.75</td>\n",
       "      <td>1.03</td>\n",
       "      <td>1.26</td>\n",
       "      <td>1.8</td>\n",
       "      <td>1.43</td>\n",
       "      <td>0.98</td>\n",
       "      <td>1.03</td>\n",
       "      <td>1</td>\n",
       "      <td>1.49</td>\n",
       "      <td>0.77</td>\n",
       "      <td>0.86</td>\n",
       "      <td>0.95</td>\n",
       "      <td>1.06</td>\n",
       "      <td>0.83</td>\n",
       "      <td>0.84</td>\n",
       "      <td>15.34</td>\n",
       "    </tr>\n",
       "    <tr>\n",
       "      <th>prob_delay</th>\n",
       "      <td>0.95</td>\n",
       "      <td>0.95</td>\n",
       "      <td>0.93</td>\n",
       "      <td>0.37</td>\n",
       "      <td>0.02</td>\n",
       "      <td>0.02</td>\n",
       "      <td>0.05</td>\n",
       "      <td>0.18</td>\n",
       "      <td>0.29</td>\n",
       "      <td>0.34</td>\n",
       "      <td>0.37</td>\n",
       "      <td>0.41</td>\n",
       "      <td>0.43</td>\n",
       "      <td>0.44</td>\n",
       "      <td>0.49</td>\n",
       "      <td>0.51</td>\n",
       "      <td>0.51</td>\n",
       "      <td>0.56</td>\n",
       "      <td>0.6</td>\n",
       "      <td>0.68</td>\n",
       "      <td>0.74</td>\n",
       "      <td>0.81</td>\n",
       "      <td>0.9</td>\n",
       "      <td>0</td>\n",
       "      <td>0.92</td>\n",
       "      <td>0.94</td>\n",
       "      <td>0.92</td>\n",
       "      <td>0.94</td>\n",
       "      <td>0.95</td>\n",
       "      <td>0.97</td>\n",
       "      <td>0.96</td>\n",
       "      <td>0.94</td>\n",
       "      <td>0.94</td>\n",
       "      <td>0.94</td>\n",
       "      <td>0.96</td>\n",
       "      <td>0.92</td>\n",
       "      <td>0.93</td>\n",
       "      <td>0.94</td>\n",
       "      <td>0.94</td>\n",
       "      <td>0.93</td>\n",
       "      <td>0.93</td>\n",
       "      <td>0.94</td>\n",
       "    </tr>\n",
       "  </tbody>\n",
       "</table>\n",
       "</div>"
      ],
      "text/plain": [
       "                  0       1       2       3       4       5       6       7   \\\n",
       "feature_name  tod__1  tod__2  tod__3  tod__4  tod__5  tod__6  tod__7  tod__8   \n",
       "coef_est        0.12    0.22   -0.09   -3.26   -6.82   -6.71   -5.71   -4.26   \n",
       "odds            1.13    1.25    0.91    0.04       0       0       0    0.01   \n",
       "prob_delay      0.95    0.95    0.93    0.37    0.02    0.02    0.05    0.18   \n",
       "\n",
       "                  8        9        10       11       12       13       14  \\\n",
       "feature_name  tod__9  tod__10  tod__11  tod__12  tod__13  tod__14  tod__15   \n",
       "coef_est       -3.65    -3.38    -3.27    -3.09       -3    -2.97    -2.76   \n",
       "odds            0.03     0.03     0.04     0.05     0.05     0.05     0.06   \n",
       "prob_delay      0.29     0.34     0.37     0.41     0.43     0.44     0.49   \n",
       "\n",
       "                   15       16       17       18       19       20       21  \\\n",
       "feature_name  tod__16  tod__17  tod__18  tod__19  tod__20  tod__21  tod__22   \n",
       "coef_est        -2.71    -2.69    -2.47    -2.34    -1.96    -1.71    -1.28   \n",
       "odds             0.07     0.07     0.08      0.1     0.14     0.18     0.28   \n",
       "prob_delay       0.51     0.51     0.56      0.6     0.68     0.74     0.81   \n",
       "\n",
       "                   22       23     24     25     26     27     28     29  \\\n",
       "feature_name  tod__23  tod__99  mo__2  mo__3  mo__4  mo__5  mo__6  mo__7   \n",
       "coef_est        -0.51    -9.74   -0.3   0.11  -0.29   0.03   0.23   0.59   \n",
       "odds              0.6        0   0.74   1.12   0.75   1.03   1.26    1.8   \n",
       "prob_delay        0.9        0   0.92   0.94   0.92   0.94   0.95   0.97   \n",
       "\n",
       "                 30     31      32      33      34      35      36      37  \\\n",
       "feature_name  mo__8  mo__9  mo__10  mo__11  mo__12  dow__2  dow__3  dow__4   \n",
       "coef_est       0.36  -0.02    0.03       0     0.4   -0.26   -0.15   -0.05   \n",
       "odds           1.43   0.98    1.03       1    1.49    0.77    0.86    0.95   \n",
       "prob_delay     0.96   0.94    0.94    0.94    0.96    0.92    0.93    0.94   \n",
       "\n",
       "                  38      39      40         0   \n",
       "feature_name  dow__5  dow__6  dow__7  intercept  \n",
       "coef_est        0.06   -0.19   -0.17    2.73076  \n",
       "odds            1.06    0.83    0.84      15.34  \n",
       "prob_delay      0.94    0.93    0.93       0.94  "
      ]
     },
     "execution_count": 44,
     "metadata": {},
     "output_type": "execute_result"
    }
   ],
   "source": [
    "coef_df.T\n"
   ]
  },
  {
   "cell_type": "markdown",
   "metadata": {},
   "source": [
    "How would you interpret the coefficients?"
   ]
  },
  {
   "cell_type": "markdown",
   "metadata": {
    "slideshow": {
     "slide_type": "fragment"
    }
   },
   "source": [
    "Did we have a good reference point for comparison (of coefficients) for Month, DOW and TOD?"
   ]
  },
  {
   "cell_type": "markdown",
   "metadata": {
    "slideshow": {
     "slide_type": "fragment"
    }
   },
   "source": [
    "What is a better reference point?"
   ]
  },
  {
   "cell_type": "markdown",
   "metadata": {
    "slideshow": {
     "slide_type": "fragment"
    }
   },
   "source": [
    "Can be interpret the meaning of the TOD=-99?"
   ]
  },
  {
   "cell_type": "code",
   "execution_count": 45,
   "metadata": {
    "slideshow": {
     "slide_type": "subslide"
    }
   },
   "outputs": [
    {
     "data": {
      "text/html": [
       "<div>\n",
       "<style scoped>\n",
       "    .dataframe tbody tr th:only-of-type {\n",
       "        vertical-align: middle;\n",
       "    }\n",
       "\n",
       "    .dataframe tbody tr th {\n",
       "        vertical-align: top;\n",
       "    }\n",
       "\n",
       "    .dataframe thead th {\n",
       "        text-align: right;\n",
       "    }\n",
       "</style>\n",
       "<table border=\"1\" class=\"dataframe\">\n",
       "  <thead>\n",
       "    <tr style=\"text-align: right;\">\n",
       "      <th></th>\n",
       "      <th>0</th>\n",
       "      <th>1</th>\n",
       "      <th>2</th>\n",
       "      <th>3</th>\n",
       "      <th>4</th>\n",
       "      <th>5</th>\n",
       "      <th>6</th>\n",
       "      <th>7</th>\n",
       "      <th>8</th>\n",
       "      <th>9</th>\n",
       "      <th>10</th>\n",
       "      <th>11</th>\n",
       "      <th>12</th>\n",
       "      <th>13</th>\n",
       "      <th>14</th>\n",
       "      <th>15</th>\n",
       "      <th>16</th>\n",
       "      <th>17</th>\n",
       "      <th>18</th>\n",
       "      <th>19</th>\n",
       "      <th>20</th>\n",
       "      <th>21</th>\n",
       "      <th>22</th>\n",
       "      <th>23</th>\n",
       "      <th>24</th>\n",
       "      <th>25</th>\n",
       "      <th>26</th>\n",
       "      <th>27</th>\n",
       "      <th>28</th>\n",
       "      <th>29</th>\n",
       "      <th>30</th>\n",
       "      <th>31</th>\n",
       "      <th>32</th>\n",
       "      <th>33</th>\n",
       "      <th>34</th>\n",
       "      <th>35</th>\n",
       "      <th>36</th>\n",
       "      <th>37</th>\n",
       "      <th>38</th>\n",
       "      <th>39</th>\n",
       "      <th>40</th>\n",
       "      <th>0</th>\n",
       "    </tr>\n",
       "  </thead>\n",
       "  <tbody>\n",
       "    <tr>\n",
       "      <th>feature_name</th>\n",
       "      <td>tod__1</td>\n",
       "      <td>tod__2</td>\n",
       "      <td>tod__3</td>\n",
       "      <td>tod__4</td>\n",
       "      <td>tod__5</td>\n",
       "      <td>tod__6</td>\n",
       "      <td>tod__7</td>\n",
       "      <td>tod__8</td>\n",
       "      <td>tod__9</td>\n",
       "      <td>tod__10</td>\n",
       "      <td>tod__11</td>\n",
       "      <td>tod__12</td>\n",
       "      <td>tod__13</td>\n",
       "      <td>tod__14</td>\n",
       "      <td>tod__15</td>\n",
       "      <td>tod__16</td>\n",
       "      <td>tod__17</td>\n",
       "      <td>tod__18</td>\n",
       "      <td>tod__19</td>\n",
       "      <td>tod__20</td>\n",
       "      <td>tod__21</td>\n",
       "      <td>tod__22</td>\n",
       "      <td>tod__23</td>\n",
       "      <td>tod__99</td>\n",
       "      <td>mo__2</td>\n",
       "      <td>mo__3</td>\n",
       "      <td>mo__4</td>\n",
       "      <td>mo__5</td>\n",
       "      <td>mo__6</td>\n",
       "      <td>mo__7</td>\n",
       "      <td>mo__8</td>\n",
       "      <td>mo__9</td>\n",
       "      <td>mo__10</td>\n",
       "      <td>mo__11</td>\n",
       "      <td>mo__12</td>\n",
       "      <td>dow__2</td>\n",
       "      <td>dow__3</td>\n",
       "      <td>dow__4</td>\n",
       "      <td>dow__5</td>\n",
       "      <td>dow__6</td>\n",
       "      <td>dow__7</td>\n",
       "      <td>intercept</td>\n",
       "    </tr>\n",
       "    <tr>\n",
       "      <th>coef_est</th>\n",
       "      <td>0.12</td>\n",
       "      <td>0.22</td>\n",
       "      <td>-0.09</td>\n",
       "      <td>-3.26</td>\n",
       "      <td>-6.82</td>\n",
       "      <td>-6.71</td>\n",
       "      <td>-5.71</td>\n",
       "      <td>-4.26</td>\n",
       "      <td>-3.65</td>\n",
       "      <td>-3.38</td>\n",
       "      <td>-3.27</td>\n",
       "      <td>-3.09</td>\n",
       "      <td>-3</td>\n",
       "      <td>-2.97</td>\n",
       "      <td>-2.76</td>\n",
       "      <td>-2.71</td>\n",
       "      <td>-2.69</td>\n",
       "      <td>-2.47</td>\n",
       "      <td>-2.34</td>\n",
       "      <td>-1.96</td>\n",
       "      <td>-1.71</td>\n",
       "      <td>-1.28</td>\n",
       "      <td>-0.51</td>\n",
       "      <td>-9.74</td>\n",
       "      <td>-0.3</td>\n",
       "      <td>0.11</td>\n",
       "      <td>-0.29</td>\n",
       "      <td>0.03</td>\n",
       "      <td>0.23</td>\n",
       "      <td>0.59</td>\n",
       "      <td>0.36</td>\n",
       "      <td>-0.02</td>\n",
       "      <td>0.03</td>\n",
       "      <td>0</td>\n",
       "      <td>0.4</td>\n",
       "      <td>-0.26</td>\n",
       "      <td>-0.15</td>\n",
       "      <td>-0.05</td>\n",
       "      <td>0.06</td>\n",
       "      <td>-0.19</td>\n",
       "      <td>-0.17</td>\n",
       "      <td>2.73076</td>\n",
       "    </tr>\n",
       "    <tr>\n",
       "      <th>odds</th>\n",
       "      <td>1.13</td>\n",
       "      <td>1.25</td>\n",
       "      <td>0.91</td>\n",
       "      <td>0.04</td>\n",
       "      <td>0</td>\n",
       "      <td>0</td>\n",
       "      <td>0</td>\n",
       "      <td>0.01</td>\n",
       "      <td>0.03</td>\n",
       "      <td>0.03</td>\n",
       "      <td>0.04</td>\n",
       "      <td>0.05</td>\n",
       "      <td>0.05</td>\n",
       "      <td>0.05</td>\n",
       "      <td>0.06</td>\n",
       "      <td>0.07</td>\n",
       "      <td>0.07</td>\n",
       "      <td>0.08</td>\n",
       "      <td>0.1</td>\n",
       "      <td>0.14</td>\n",
       "      <td>0.18</td>\n",
       "      <td>0.28</td>\n",
       "      <td>0.6</td>\n",
       "      <td>0</td>\n",
       "      <td>0.74</td>\n",
       "      <td>1.12</td>\n",
       "      <td>0.75</td>\n",
       "      <td>1.03</td>\n",
       "      <td>1.26</td>\n",
       "      <td>1.8</td>\n",
       "      <td>1.43</td>\n",
       "      <td>0.98</td>\n",
       "      <td>1.03</td>\n",
       "      <td>1</td>\n",
       "      <td>1.49</td>\n",
       "      <td>0.77</td>\n",
       "      <td>0.86</td>\n",
       "      <td>0.95</td>\n",
       "      <td>1.06</td>\n",
       "      <td>0.83</td>\n",
       "      <td>0.84</td>\n",
       "      <td>15.34</td>\n",
       "    </tr>\n",
       "    <tr>\n",
       "      <th>prob_delay</th>\n",
       "      <td>0.95</td>\n",
       "      <td>0.95</td>\n",
       "      <td>0.93</td>\n",
       "      <td>0.37</td>\n",
       "      <td>0.02</td>\n",
       "      <td>0.02</td>\n",
       "      <td>0.05</td>\n",
       "      <td>0.18</td>\n",
       "      <td>0.29</td>\n",
       "      <td>0.34</td>\n",
       "      <td>0.37</td>\n",
       "      <td>0.41</td>\n",
       "      <td>0.43</td>\n",
       "      <td>0.44</td>\n",
       "      <td>0.49</td>\n",
       "      <td>0.51</td>\n",
       "      <td>0.51</td>\n",
       "      <td>0.56</td>\n",
       "      <td>0.6</td>\n",
       "      <td>0.68</td>\n",
       "      <td>0.74</td>\n",
       "      <td>0.81</td>\n",
       "      <td>0.9</td>\n",
       "      <td>0</td>\n",
       "      <td>0.92</td>\n",
       "      <td>0.94</td>\n",
       "      <td>0.92</td>\n",
       "      <td>0.94</td>\n",
       "      <td>0.95</td>\n",
       "      <td>0.97</td>\n",
       "      <td>0.96</td>\n",
       "      <td>0.94</td>\n",
       "      <td>0.94</td>\n",
       "      <td>0.94</td>\n",
       "      <td>0.96</td>\n",
       "      <td>0.92</td>\n",
       "      <td>0.93</td>\n",
       "      <td>0.94</td>\n",
       "      <td>0.94</td>\n",
       "      <td>0.93</td>\n",
       "      <td>0.93</td>\n",
       "      <td>0.94</td>\n",
       "    </tr>\n",
       "  </tbody>\n",
       "</table>\n",
       "</div>"
      ],
      "text/plain": [
       "                  0       1       2       3       4       5       6       7   \\\n",
       "feature_name  tod__1  tod__2  tod__3  tod__4  tod__5  tod__6  tod__7  tod__8   \n",
       "coef_est        0.12    0.22   -0.09   -3.26   -6.82   -6.71   -5.71   -4.26   \n",
       "odds            1.13    1.25    0.91    0.04       0       0       0    0.01   \n",
       "prob_delay      0.95    0.95    0.93    0.37    0.02    0.02    0.05    0.18   \n",
       "\n",
       "                  8        9        10       11       12       13       14  \\\n",
       "feature_name  tod__9  tod__10  tod__11  tod__12  tod__13  tod__14  tod__15   \n",
       "coef_est       -3.65    -3.38    -3.27    -3.09       -3    -2.97    -2.76   \n",
       "odds            0.03     0.03     0.04     0.05     0.05     0.05     0.06   \n",
       "prob_delay      0.29     0.34     0.37     0.41     0.43     0.44     0.49   \n",
       "\n",
       "                   15       16       17       18       19       20       21  \\\n",
       "feature_name  tod__16  tod__17  tod__18  tod__19  tod__20  tod__21  tod__22   \n",
       "coef_est        -2.71    -2.69    -2.47    -2.34    -1.96    -1.71    -1.28   \n",
       "odds             0.07     0.07     0.08      0.1     0.14     0.18     0.28   \n",
       "prob_delay       0.51     0.51     0.56      0.6     0.68     0.74     0.81   \n",
       "\n",
       "                   22       23     24     25     26     27     28     29  \\\n",
       "feature_name  tod__23  tod__99  mo__2  mo__3  mo__4  mo__5  mo__6  mo__7   \n",
       "coef_est        -0.51    -9.74   -0.3   0.11  -0.29   0.03   0.23   0.59   \n",
       "odds              0.6        0   0.74   1.12   0.75   1.03   1.26    1.8   \n",
       "prob_delay        0.9        0   0.92   0.94   0.92   0.94   0.95   0.97   \n",
       "\n",
       "                 30     31      32      33      34      35      36      37  \\\n",
       "feature_name  mo__8  mo__9  mo__10  mo__11  mo__12  dow__2  dow__3  dow__4   \n",
       "coef_est       0.36  -0.02    0.03       0     0.4   -0.26   -0.15   -0.05   \n",
       "odds           1.43   0.98    1.03       1    1.49    0.77    0.86    0.95   \n",
       "prob_delay     0.96   0.94    0.94    0.94    0.96    0.92    0.93    0.94   \n",
       "\n",
       "                  38      39      40         0   \n",
       "feature_name  dow__5  dow__6  dow__7  intercept  \n",
       "coef_est        0.06   -0.19   -0.17    2.73076  \n",
       "odds            1.06    0.83    0.84      15.34  \n",
       "prob_delay      0.94    0.93    0.93       0.94  "
      ]
     },
     "execution_count": 45,
     "metadata": {},
     "output_type": "execute_result"
    }
   ],
   "source": [
    "# Duplicated to make it easier for interpretations:\n",
    "coef_df.T"
   ]
  },
  {
   "cell_type": "markdown",
   "metadata": {
    "slideshow": {
     "slide_type": "fragment"
    }
   },
   "source": [
    "**Interpretations:**\n",
    "Relative to midnight flights leaving on Mondays in January (e.g. intercept = baseline),\n",
    "- \"Red eye\" departures tends to increase odds of compensated delays for passengers\n",
    "- Flights over:\n",
    "  - Spring break or\n",
    "  - in summer or\n",
    "  - winter holidays\n",
    "tend to increase odds of compensated delays for passengers\n",
    "- Friday departures also tend to increase odds of compensated delays for passengers"
   ]
  },
  {
   "cell_type": "markdown",
   "metadata": {
    "slideshow": {
     "slide_type": "subslide"
    }
   },
   "source": [
    "**Takeaways/Recommendations to your airline client?**\n"
   ]
  },
  {
   "cell_type": "markdown",
   "metadata": {
    "slideshow": {
     "slide_type": "subslide"
    }
   },
   "source": [
    "**As a passenger, what's the best time to travel?**"
   ]
  },
  {
   "cell_type": "markdown",
   "metadata": {
    "slideshow": {
     "slide_type": "slide"
    }
   },
   "source": [
    "## Step 8: Evaluate Performance"
   ]
  },
  {
   "cell_type": "markdown",
   "metadata": {},
   "source": [
    "### Step 8a: Evaluate Performance on In-Sample Data\n",
    "Evaluate performance on in-sample data, to see wat the \"best-possible\" performance is, on data that the model's seen.\n",
    "\n",
    "Aside: list available metrics available in `sklearn` [here](https://scikit-learn.org/stable/modules/classes.html#module-sklearn.metrics)."
   ]
  },
  {
   "cell_type": "code",
   "execution_count": 46,
   "metadata": {},
   "outputs": [
    {
     "data": {
      "text/plain": [
       "array([0, 1, 0, 0, 0])"
      ]
     },
     "execution_count": 46,
     "metadata": {},
     "output_type": "execute_result"
    }
   ],
   "source": [
    "y_pred_train = est_model.predict(X)\n",
    "y_pred_train[0:5]"
   ]
  },
  {
   "cell_type": "code",
   "execution_count": 47,
   "metadata": {},
   "outputs": [
    {
     "data": {
      "text/html": [
       "<div>\n",
       "<style scoped>\n",
       "    .dataframe tbody tr th:only-of-type {\n",
       "        vertical-align: middle;\n",
       "    }\n",
       "\n",
       "    .dataframe tbody tr th {\n",
       "        vertical-align: top;\n",
       "    }\n",
       "\n",
       "    .dataframe thead th {\n",
       "        text-align: right;\n",
       "    }\n",
       "</style>\n",
       "<table border=\"1\" class=\"dataframe\">\n",
       "  <thead>\n",
       "    <tr style=\"text-align: right;\">\n",
       "      <th></th>\n",
       "      <th>0</th>\n",
       "      <th>1</th>\n",
       "    </tr>\n",
       "  </thead>\n",
       "  <tbody>\n",
       "    <tr>\n",
       "      <th>0</th>\n",
       "      <td>0.979545</td>\n",
       "      <td>0.020455</td>\n",
       "    </tr>\n",
       "    <tr>\n",
       "      <th>1</th>\n",
       "      <td>0.435304</td>\n",
       "      <td>0.564696</td>\n",
       "    </tr>\n",
       "    <tr>\n",
       "      <th>2</th>\n",
       "      <td>0.675102</td>\n",
       "      <td>0.324898</td>\n",
       "    </tr>\n",
       "    <tr>\n",
       "      <th>3</th>\n",
       "      <td>0.977102</td>\n",
       "      <td>0.022898</td>\n",
       "    </tr>\n",
       "    <tr>\n",
       "      <th>4</th>\n",
       "      <td>0.695111</td>\n",
       "      <td>0.304889</td>\n",
       "    </tr>\n",
       "  </tbody>\n",
       "</table>\n",
       "</div>"
      ],
      "text/plain": [
       "          0         1\n",
       "0  0.979545  0.020455\n",
       "1  0.435304  0.564696\n",
       "2  0.675102  0.324898\n",
       "3  0.977102  0.022898\n",
       "4  0.695111  0.304889"
      ]
     },
     "execution_count": 47,
     "metadata": {},
     "output_type": "execute_result"
    }
   ],
   "source": [
    "y_pred_train_probs = pd.DataFrame(est_model.predict_proba(X))\n",
    "y_pred_train_probs.head()"
   ]
  },
  {
   "cell_type": "markdown",
   "metadata": {
    "slideshow": {
     "slide_type": "subslide"
    }
   },
   "source": [
    "#### Evaluate Performance via Confusion Matrix"
   ]
  },
  {
   "cell_type": "code",
   "execution_count": 48,
   "metadata": {},
   "outputs": [
    {
     "data": {
      "text/plain": [
       "<Signature (y_true, y_pred, labels=None, sample_weight=None)>"
      ]
     },
     "execution_count": 48,
     "metadata": {},
     "output_type": "execute_result"
    }
   ],
   "source": [
    "inspect.signature(confusion_matrix)"
   ]
  },
  {
   "cell_type": "code",
   "execution_count": 49,
   "metadata": {},
   "outputs": [
    {
     "data": {
      "text/plain": [
       "array([[2291437, 1080823],\n",
       "       [  17863,   39305]])"
      ]
     },
     "execution_count": 49,
     "metadata": {},
     "output_type": "execute_result"
    }
   ],
   "source": [
    "confusion_matrix(y_true=y,\n",
    "                 y_pred=y_pred_train)"
   ]
  },
  {
   "cell_type": "markdown",
   "metadata": {},
   "source": [
    "What does this confusion matrix tell us about our model?"
   ]
  },
  {
   "cell_type": "markdown",
   "metadata": {
    "slideshow": {
     "slide_type": "subslide"
    }
   },
   "source": [
    "#### Evaluating Performance with AUC ROC"
   ]
  },
  {
   "cell_type": "code",
   "execution_count": 50,
   "metadata": {},
   "outputs": [
    {
     "data": {
      "text/plain": [
       "<Signature (y_true, y_score, average='macro', sample_weight=None, max_fpr=None)>"
      ]
     },
     "execution_count": 50,
     "metadata": {},
     "output_type": "execute_result"
    }
   ],
   "source": [
    "inspect.signature(roc_auc_score)"
   ]
  },
  {
   "cell_type": "code",
   "execution_count": 51,
   "metadata": {},
   "outputs": [
    {
     "data": {
      "text/plain": [
       "0.7651031323687287"
      ]
     },
     "execution_count": 51,
     "metadata": {},
     "output_type": "execute_result"
    }
   ],
   "source": [
    "# Per documentation\n",
    "# https://scikit-learn.org/stable/modules/generated/sklearn.metrics.roc_auc_score.html#sklearn.metrics.roc_auc_score\n",
    "# y_score can contain \"probability estimates of the positive class\":\n",
    "roc_auc_score(y_true=y,\n",
    "              y_score=y_pred_train_probs.iloc[:, 1])"
   ]
  },
  {
   "cell_type": "markdown",
   "metadata": {
    "slideshow": {
     "slide_type": "subslide"
    }
   },
   "source": [
    "#### Evaluating Performance via F1"
   ]
  },
  {
   "cell_type": "code",
   "execution_count": 52,
   "metadata": {},
   "outputs": [
    {
     "data": {
      "text/plain": [
       "0.06677165300824942"
      ]
     },
     "execution_count": 52,
     "metadata": {},
     "output_type": "execute_result"
    }
   ],
   "source": [
    "f1_score(y_true=y,\n",
    "         y_pred=y_pred_train)"
   ]
  },
  {
   "cell_type": "markdown",
   "metadata": {},
   "source": [
    "Is our F1-score surprising?\n"
   ]
  },
  {
   "cell_type": "markdown",
   "metadata": {
    "slideshow": {
     "slide_type": "subslide"
    }
   },
   "source": [
    "![F1-score](./images/f1-score.png)[reference](https://stackoverflow.com/questions/35365007/tensorflow-precision-recall-f1-score-and-confusion-matrix)"
   ]
  },
  {
   "cell_type": "markdown",
   "metadata": {},
   "source": [
    "Is our F1-score surprising?"
   ]
  },
  {
   "cell_type": "markdown",
   "metadata": {
    "slideshow": {
     "slide_type": "subslide"
    }
   },
   "source": [
    "What do we think about the model?"
   ]
  },
  {
   "cell_type": "markdown",
   "metadata": {
    "slideshow": {
     "slide_type": "subslide"
    }
   },
   "source": [
    "Should we evaluate out-of-sample performance?"
   ]
  },
  {
   "cell_type": "markdown",
   "metadata": {
    "slideshow": {
     "slide_type": "subslide"
    }
   },
   "source": [
    "### Step 8b: Evaluate Performance on Out-of-Sample Data"
   ]
  },
  {
   "cell_type": "code",
   "execution_count": 53,
   "metadata": {},
   "outputs": [],
   "source": [
    "y_valid = df_valid['compensated_delays']\n",
    "X_valid = df_valid.drop(columns=['compensated_delays'])"
   ]
  },
  {
   "cell_type": "code",
   "execution_count": 54,
   "metadata": {},
   "outputs": [
    {
     "data": {
      "text/plain": [
       "array([0, 0, 1, 0, 1])"
      ]
     },
     "execution_count": 54,
     "metadata": {},
     "output_type": "execute_result"
    }
   ],
   "source": [
    "y_pred_valid = est_model.predict(X_valid)\n",
    "y_pred_valid[0:5]"
   ]
  },
  {
   "cell_type": "code",
   "execution_count": 55,
   "metadata": {},
   "outputs": [
    {
     "data": {
      "text/html": [
       "<div>\n",
       "<style scoped>\n",
       "    .dataframe tbody tr th:only-of-type {\n",
       "        vertical-align: middle;\n",
       "    }\n",
       "\n",
       "    .dataframe tbody tr th {\n",
       "        vertical-align: top;\n",
       "    }\n",
       "\n",
       "    .dataframe thead th {\n",
       "        text-align: right;\n",
       "    }\n",
       "</style>\n",
       "<table border=\"1\" class=\"dataframe\">\n",
       "  <thead>\n",
       "    <tr style=\"text-align: right;\">\n",
       "      <th></th>\n",
       "      <th>0</th>\n",
       "      <th>1</th>\n",
       "    </tr>\n",
       "  </thead>\n",
       "  <tbody>\n",
       "    <tr>\n",
       "      <th>0</th>\n",
       "      <td>0.675206</td>\n",
       "      <td>0.324794</td>\n",
       "    </tr>\n",
       "    <tr>\n",
       "      <th>1</th>\n",
       "      <td>0.821830</td>\n",
       "      <td>0.178170</td>\n",
       "    </tr>\n",
       "    <tr>\n",
       "      <th>2</th>\n",
       "      <td>0.441084</td>\n",
       "      <td>0.558916</td>\n",
       "    </tr>\n",
       "    <tr>\n",
       "      <th>3</th>\n",
       "      <td>0.686269</td>\n",
       "      <td>0.313731</td>\n",
       "    </tr>\n",
       "    <tr>\n",
       "      <th>4</th>\n",
       "      <td>0.392882</td>\n",
       "      <td>0.607118</td>\n",
       "    </tr>\n",
       "  </tbody>\n",
       "</table>\n",
       "</div>"
      ],
      "text/plain": [
       "          0         1\n",
       "0  0.675206  0.324794\n",
       "1  0.821830  0.178170\n",
       "2  0.441084  0.558916\n",
       "3  0.686269  0.313731\n",
       "4  0.392882  0.607118"
      ]
     },
     "execution_count": 55,
     "metadata": {},
     "output_type": "execute_result"
    }
   ],
   "source": [
    "y_pred_valid_probs = pd.DataFrame(est_model.predict_proba(X_valid))\n",
    "y_pred_valid_probs.head()"
   ]
  },
  {
   "cell_type": "markdown",
   "metadata": {},
   "source": [
    "Do you think we'll do better or worse or same?"
   ]
  },
  {
   "cell_type": "markdown",
   "metadata": {
    "slideshow": {
     "slide_type": "subslide"
    }
   },
   "source": [
    "#### Evaluate Performance via Confusion Matrix"
   ]
  },
  {
   "cell_type": "code",
   "execution_count": 56,
   "metadata": {},
   "outputs": [
    {
     "data": {
      "text/plain": [
       "array([[763758, 360329],\n",
       "       [  5981,  13075]])"
      ]
     },
     "execution_count": 56,
     "metadata": {},
     "output_type": "execute_result"
    }
   ],
   "source": [
    "confusion_matrix(y_true=y_valid,\n",
    "                 y_pred=y_pred_valid)"
   ]
  },
  {
   "cell_type": "markdown",
   "metadata": {
    "slideshow": {
     "slide_type": "subslide"
    }
   },
   "source": [
    "#### Evaluating Performance with AUC ROC"
   ]
  },
  {
   "cell_type": "code",
   "execution_count": 57,
   "metadata": {},
   "outputs": [
    {
     "data": {
      "text/plain": [
       "0.7644348618142321"
      ]
     },
     "execution_count": 57,
     "metadata": {},
     "output_type": "execute_result"
    }
   ],
   "source": [
    "roc_auc_score(y_true=y_valid,\n",
    "              y_score=y_pred_valid_probs.iloc[:, 1])"
   ]
  },
  {
   "cell_type": "markdown",
   "metadata": {
    "slideshow": {
     "slide_type": "subslide"
    }
   },
   "source": [
    "#### Evaluating Performance via F1"
   ]
  },
  {
   "cell_type": "code",
   "execution_count": 58,
   "metadata": {},
   "outputs": [
    {
     "data": {
      "text/plain": [
       "0.06663099424145136"
      ]
     },
     "execution_count": 58,
     "metadata": {},
     "output_type": "execute_result"
    }
   ],
   "source": [
    "f1_score(y_true=y_valid,\n",
    "         y_pred=y_pred_valid)"
   ]
  },
  {
   "cell_type": "markdown",
   "metadata": {
    "slideshow": {
     "slide_type": "slide"
    }
   },
   "source": [
    "## Step 9: Determine Next Steps"
   ]
  },
  {
   "cell_type": "markdown",
   "metadata": {},
   "source": [
    "What should the next model iteration focus on?"
   ]
  }
 ],
 "metadata": {
  "kernelspec": {
   "display_name": "env-stats404-class0",
   "language": "python",
   "name": "env-stats404-class0"
  },
  "language_info": {
   "codemirror_mode": {
    "name": "ipython",
    "version": 3
   },
   "file_extension": ".py",
   "mimetype": "text/x-python",
   "name": "python",
   "nbconvert_exporter": "python",
   "pygments_lexer": "ipython3",
   "version": "3.7.0"
  }
 },
 "nbformat": 4,
 "nbformat_minor": 2
}
